{
 "cells": [
  {
   "cell_type": "code",
   "execution_count": 1,
   "metadata": {},
   "outputs": [
    {
     "data": {
      "text/html": [
       "<div>\n",
       "<style scoped>\n",
       "    .dataframe tbody tr th:only-of-type {\n",
       "        vertical-align: middle;\n",
       "    }\n",
       "\n",
       "    .dataframe tbody tr th {\n",
       "        vertical-align: top;\n",
       "    }\n",
       "\n",
       "    .dataframe thead th {\n",
       "        text-align: right;\n",
       "    }\n",
       "</style>\n",
       "<table border=\"1\" class=\"dataframe\">\n",
       "  <thead>\n",
       "    <tr style=\"text-align: right;\">\n",
       "      <th></th>\n",
       "      <th>0</th>\n",
       "      <th>1</th>\n",
       "      <th>2</th>\n",
       "      <th>3</th>\n",
       "      <th>4</th>\n",
       "      <th>5</th>\n",
       "      <th>6</th>\n",
       "      <th>7</th>\n",
       "      <th>8</th>\n",
       "      <th>9</th>\n",
       "      <th>...</th>\n",
       "      <th>22</th>\n",
       "      <th>23</th>\n",
       "      <th>24</th>\n",
       "      <th>25</th>\n",
       "      <th>26</th>\n",
       "      <th>27</th>\n",
       "      <th>28</th>\n",
       "      <th>29</th>\n",
       "      <th>30</th>\n",
       "      <th>31</th>\n",
       "    </tr>\n",
       "  </thead>\n",
       "  <tbody>\n",
       "    <tr>\n",
       "      <th>0</th>\n",
       "      <td>842302</td>\n",
       "      <td>M</td>\n",
       "      <td>17.99</td>\n",
       "      <td>10.38</td>\n",
       "      <td>122.80</td>\n",
       "      <td>1001.0</td>\n",
       "      <td>0.11840</td>\n",
       "      <td>0.27760</td>\n",
       "      <td>0.3001</td>\n",
       "      <td>0.14710</td>\n",
       "      <td>...</td>\n",
       "      <td>25.38</td>\n",
       "      <td>17.33</td>\n",
       "      <td>184.60</td>\n",
       "      <td>2019.0</td>\n",
       "      <td>0.1622</td>\n",
       "      <td>0.6656</td>\n",
       "      <td>0.7119</td>\n",
       "      <td>0.2654</td>\n",
       "      <td>0.4601</td>\n",
       "      <td>0.11890</td>\n",
       "    </tr>\n",
       "    <tr>\n",
       "      <th>1</th>\n",
       "      <td>842517</td>\n",
       "      <td>M</td>\n",
       "      <td>20.57</td>\n",
       "      <td>17.77</td>\n",
       "      <td>132.90</td>\n",
       "      <td>1326.0</td>\n",
       "      <td>0.08474</td>\n",
       "      <td>0.07864</td>\n",
       "      <td>0.0869</td>\n",
       "      <td>0.07017</td>\n",
       "      <td>...</td>\n",
       "      <td>24.99</td>\n",
       "      <td>23.41</td>\n",
       "      <td>158.80</td>\n",
       "      <td>1956.0</td>\n",
       "      <td>0.1238</td>\n",
       "      <td>0.1866</td>\n",
       "      <td>0.2416</td>\n",
       "      <td>0.1860</td>\n",
       "      <td>0.2750</td>\n",
       "      <td>0.08902</td>\n",
       "    </tr>\n",
       "    <tr>\n",
       "      <th>2</th>\n",
       "      <td>84300903</td>\n",
       "      <td>M</td>\n",
       "      <td>19.69</td>\n",
       "      <td>21.25</td>\n",
       "      <td>130.00</td>\n",
       "      <td>1203.0</td>\n",
       "      <td>0.10960</td>\n",
       "      <td>0.15990</td>\n",
       "      <td>0.1974</td>\n",
       "      <td>0.12790</td>\n",
       "      <td>...</td>\n",
       "      <td>23.57</td>\n",
       "      <td>25.53</td>\n",
       "      <td>152.50</td>\n",
       "      <td>1709.0</td>\n",
       "      <td>0.1444</td>\n",
       "      <td>0.4245</td>\n",
       "      <td>0.4504</td>\n",
       "      <td>0.2430</td>\n",
       "      <td>0.3613</td>\n",
       "      <td>0.08758</td>\n",
       "    </tr>\n",
       "    <tr>\n",
       "      <th>3</th>\n",
       "      <td>84348301</td>\n",
       "      <td>M</td>\n",
       "      <td>11.42</td>\n",
       "      <td>20.38</td>\n",
       "      <td>77.58</td>\n",
       "      <td>386.1</td>\n",
       "      <td>0.14250</td>\n",
       "      <td>0.28390</td>\n",
       "      <td>0.2414</td>\n",
       "      <td>0.10520</td>\n",
       "      <td>...</td>\n",
       "      <td>14.91</td>\n",
       "      <td>26.50</td>\n",
       "      <td>98.87</td>\n",
       "      <td>567.7</td>\n",
       "      <td>0.2098</td>\n",
       "      <td>0.8663</td>\n",
       "      <td>0.6869</td>\n",
       "      <td>0.2575</td>\n",
       "      <td>0.6638</td>\n",
       "      <td>0.17300</td>\n",
       "    </tr>\n",
       "    <tr>\n",
       "      <th>4</th>\n",
       "      <td>84358402</td>\n",
       "      <td>M</td>\n",
       "      <td>20.29</td>\n",
       "      <td>14.34</td>\n",
       "      <td>135.10</td>\n",
       "      <td>1297.0</td>\n",
       "      <td>0.10030</td>\n",
       "      <td>0.13280</td>\n",
       "      <td>0.1980</td>\n",
       "      <td>0.10430</td>\n",
       "      <td>...</td>\n",
       "      <td>22.54</td>\n",
       "      <td>16.67</td>\n",
       "      <td>152.20</td>\n",
       "      <td>1575.0</td>\n",
       "      <td>0.1374</td>\n",
       "      <td>0.2050</td>\n",
       "      <td>0.4000</td>\n",
       "      <td>0.1625</td>\n",
       "      <td>0.2364</td>\n",
       "      <td>0.07678</td>\n",
       "    </tr>\n",
       "  </tbody>\n",
       "</table>\n",
       "<p>5 rows × 32 columns</p>\n",
       "</div>"
      ],
      "text/plain": [
       "         0  1      2      3       4       5        6        7       8   \\\n",
       "0    842302  M  17.99  10.38  122.80  1001.0  0.11840  0.27760  0.3001   \n",
       "1    842517  M  20.57  17.77  132.90  1326.0  0.08474  0.07864  0.0869   \n",
       "2  84300903  M  19.69  21.25  130.00  1203.0  0.10960  0.15990  0.1974   \n",
       "3  84348301  M  11.42  20.38   77.58   386.1  0.14250  0.28390  0.2414   \n",
       "4  84358402  M  20.29  14.34  135.10  1297.0  0.10030  0.13280  0.1980   \n",
       "\n",
       "        9    ...        22     23      24      25      26      27      28  \\\n",
       "0  0.14710   ...     25.38  17.33  184.60  2019.0  0.1622  0.6656  0.7119   \n",
       "1  0.07017   ...     24.99  23.41  158.80  1956.0  0.1238  0.1866  0.2416   \n",
       "2  0.12790   ...     23.57  25.53  152.50  1709.0  0.1444  0.4245  0.4504   \n",
       "3  0.10520   ...     14.91  26.50   98.87   567.7  0.2098  0.8663  0.6869   \n",
       "4  0.10430   ...     22.54  16.67  152.20  1575.0  0.1374  0.2050  0.4000   \n",
       "\n",
       "       29      30       31  \n",
       "0  0.2654  0.4601  0.11890  \n",
       "1  0.1860  0.2750  0.08902  \n",
       "2  0.2430  0.3613  0.08758  \n",
       "3  0.2575  0.6638  0.17300  \n",
       "4  0.1625  0.2364  0.07678  \n",
       "\n",
       "[5 rows x 32 columns]"
      ]
     },
     "execution_count": 1,
     "metadata": {},
     "output_type": "execute_result"
    }
   ],
   "source": [
    "#Chapter 6 Learning Best Practices for Model Evaluation and Hyperparameter Tuning\n",
    "\n",
    "#Streamlining workflows with pipelines\n",
    "#the 'Pipeline' class in scikit-learn allows us to fit a model including an arbitrary number of transformation steps and apply it to make predictions about new data\n",
    "#Loading the Breast Cancer Wisconsin dataset\n",
    "#M=malignant, B=benign\n",
    "#Columns 3-32 contain 30 real valued features that have been computed from digitalized images of the cell nuclei, \n",
    "#which can be used to build a model to predict whether a tumor is benign or malinant\n",
    "\n",
    "#first of all, we will read in the dataset and split it into training and testing datasets\n",
    "\n",
    "import pandas as pd\n",
    "\n",
    "df = pd.read_csv('https://archive.ics.uci.edu/ml/'\n",
    "                 'machine-learning-databases'\n",
    "                 '/breast-cancer-wisconsin/wdbc.data', header=None)\n",
    "\n",
    "df.head()"
   ]
  },
  {
   "cell_type": "code",
   "execution_count": 2,
   "metadata": {},
   "outputs": [
    {
     "data": {
      "text/plain": [
       "(569, 32)"
      ]
     },
     "execution_count": 2,
     "metadata": {},
     "output_type": "execute_result"
    }
   ],
   "source": [
    "df.shape"
   ]
  },
  {
   "cell_type": "code",
   "execution_count": 3,
   "metadata": {},
   "outputs": [
    {
     "data": {
      "text/plain": [
       "array(['B', 'M'], dtype=object)"
      ]
     },
     "execution_count": 3,
     "metadata": {},
     "output_type": "execute_result"
    }
   ],
   "source": [
    "#assign the 30 features to a NumPy array x.\n",
    "#Using a Label Encoder object, \n",
    "#we transform the class labels from their original string representation ('M','B') into integers\n",
    "\n",
    "from sklearn.preprocessing import LabelEncoder\n",
    "X = df.loc[:,2:].values\n",
    "y = df.loc[:,1].values\n",
    "\n",
    "le = LabelEncoder()\n",
    "y = le.fit_transform(y)\n",
    "le.classes_\n",
    "\n",
    "#After encoding the class labels (diagnosis) in array y,\n",
    "#the maglignant tumors are now represented as class 1, \n",
    "#and the benign tumor are represented as class 0"
   ]
  },
  {
   "cell_type": "code",
   "execution_count": 4,
   "metadata": {},
   "outputs": [
    {
     "data": {
      "text/plain": [
       "array([1, 0])"
      ]
     },
     "execution_count": 4,
     "metadata": {},
     "output_type": "execute_result"
    }
   ],
   "source": [
    "#double-check this mapping by calling the transform method of the fitted LabelEncoder\n",
    "le.transform(['M','B'])"
   ]
  },
  {
   "cell_type": "code",
   "execution_count": 5,
   "metadata": {},
   "outputs": [],
   "source": [
    "#Before construct our first model pipeline,\n",
    "#divide the dataset into a separate training dataset (80%) and a separate test dataset (20%)\n",
    "\n",
    "from sklearn.model_selection import train_test_split\n",
    "\n",
    "X_train, X_test, y_train, y_test = \\\n",
    "    train_test_split(X,y,test_size=0.2,stratify=y,random_state=1)"
   ]
  },
  {
   "cell_type": "code",
   "execution_count": 6,
   "metadata": {},
   "outputs": [
    {
     "name": "stdout",
     "output_type": "stream",
     "text": [
      "Test Accuracy: 0.956\n"
     ]
    }
   ],
   "source": [
    "#Combining transformers and estimators in a pipeline\n",
    "\n",
    "#1.standardize the columns before we feed them to a linear classifier\n",
    "#2.assume we want to compress our data from the initial 30 dimentions onto a lower 2-dimensional subspace via PCA\n",
    "\n",
    "#Instead of going through the fitting and transform steps for the training and test datasets separately\n",
    "#we can chain the StandardScaler, PCA, and LogisticRegression objects in a pipeline:\n",
    "\n",
    "from sklearn.preprocessing import StandardScaler\n",
    "from sklearn.decomposition import PCA\n",
    "from sklearn.linear_model import LogisticRegression\n",
    "from sklearn.pipeline import make_pipeline\n",
    "\n",
    "#'make_pipeline' takes an arbitrary number of scikit-learn transformers\n",
    "#(objects that support the fit and transform methods as input)\n",
    "#followed by a scikit-learn estimator that implements the fit and predicts methods\n",
    "#is a meta-estimator or wrapper around those individual transformers and estimators\n",
    "\n",
    "#pipe_lr.fit: the data will be passed down a series of transformers via fit and transform calls on these intermediate steps \n",
    "#until it arrives the estimator objects\n",
    "#the estimators will then be fitted to the transformed training data\n",
    "\n",
    "#the last pipeline element has to be an estimator\n",
    "\n",
    "pipe_lr = make_pipeline(StandardScaler(),\n",
    "                        PCA(n_components=2),\n",
    "                        LogisticRegression(random_state=1))\n",
    "pipe_lr.fit(X_train,y_train)\n",
    "\n",
    "#pipe_lr.predict: the data will pass through the intemediate steps via transform call.\n",
    "#In the final step, the estimator object will return a prediction on the transformed data\n",
    "y_pred = pipe_lr.predict(X_test)\n",
    "\n",
    "\n",
    "\n",
    "print('Test Accuracy: %.3f' % pipe_lr.score(X_test,y_test))"
   ]
  },
  {
   "cell_type": "code",
   "execution_count": 7,
   "metadata": {},
   "outputs": [
    {
     "name": "stdout",
     "output_type": "stream",
     "text": [
      "Fold:  1, Class dist.: [256 153], Acc: 0.935\n",
      "Fold:  2, Class dist.: [256 153], Acc: 0.935\n",
      "Fold:  3, Class dist.: [256 153], Acc: 0.957\n",
      "Fold:  4, Class dist.: [256 153], Acc: 0.957\n",
      "Fold:  5, Class dist.: [256 153], Acc: 0.935\n",
      "Fold:  6, Class dist.: [257 153], Acc: 0.956\n",
      "Fold:  7, Class dist.: [257 153], Acc: 0.978\n",
      "Fold:  8, Class dist.: [257 153], Acc: 0.933\n",
      "Fold:  9, Class dist.: [257 153], Acc: 0.956\n",
      "Fold: 10, Class dist.: [257 153], Acc: 0.956\n",
      "\n",
      "CV accurary: 0.950 +/- 0.014\n"
     ]
    }
   ],
   "source": [
    "#Using k-fold cross validation to assess model performance\n",
    "#1. Randomly split the training dataset into k folds without replacement,\n",
    "# where (k-1) folds are used for the model training and one fold is used for performance valuation\n",
    "#2. Step 1 repeated k times so that we obtain k models and performance estimates\n",
    "#3. Calculate the average performance of the models based on the different, independent folds to \n",
    "#   obtain a performance estimate that is less sensitive to the sub-partitioning of the training data\n",
    "\n",
    "#Typically, we use k-fold cross-validation for model tuning - finding the optimal hyperparameter\n",
    "#Once we have found satisfactory hyperparameter valus, we can retrain the model on the complete training set and obtain a final performance estimate using the independent test set\n",
    "\n",
    "#Rationale: providing more training sample, more accurate and more robust\n",
    "#A good standard value for k in k-fold cross-validation is 10\n",
    "#high k, low bias, high variance; low k, high bias, low variance\n",
    "\n",
    "#Stratified k-fold cross-validation\n",
    "#preserved the class proportions\n",
    "#each fold is representative of the class proportions in the training dataset\n",
    "\n",
    "import numpy as np\n",
    "\n",
    "from sklearn.model_selection import StratifiedKFold\n",
    "\n",
    "#initialize the StratifiedKfold iterator\n",
    "#specify the number of folds via the n_splits parameter\n",
    "kfold = StratifiedKFold(n_splits=10,\n",
    "                        random_state=1).split(X_train,y_train)\n",
    "scores = []\n",
    "for k, (train,test) in enumerate(kfold):\n",
    "    #loop through k fold\n",
    "    #used the returned indices in train to fit the logistic regression pipeline\n",
    "    pipe_lr.fit(X_train[train],y_train[train])\n",
    "    #use the test indice the calculate the accuracy score of the model\n",
    "    score = pipe_lr.score(X_train[test],y_train[test])\n",
    "    #collected in the scores list to calculate the average accuracy and the standard deviation of the estimate\n",
    "    scores.append(score)\n",
    "    print('Fold: %2d, Class dist.: %s, Acc: %.3f' % (k+1,np.bincount(y_train[train]),score))\n",
    "    \n",
    "print('\\nCV accurary: %.3f +/- %.3f' % (np.mean(scores),np.std(scores)))"
   ]
  },
  {
   "cell_type": "code",
   "execution_count": 8,
   "metadata": {},
   "outputs": [
    {
     "name": "stdout",
     "output_type": "stream",
     "text": [
      "CV accuracy scores: [0.93478261 0.93478261 0.95652174 0.95652174 0.93478261 0.95555556\n",
      " 0.97777778 0.93333333 0.95555556 0.95555556]\n",
      "CV accuracy: 0.950 +/- 0.014\n"
     ]
    }
   ],
   "source": [
    "#scikit-learn's implementation of k-fold cross-validation scorer\n",
    "\n",
    "from sklearn.model_selection import cross_val_score\n",
    "scores = cross_val_score(estimator=pipe_lr,\n",
    "                         X = X_train,\n",
    "                         y = y_train,\n",
    "                         cv = 10,\n",
    "                         n_jobs = 1) #n_jobs, CPU\n",
    "print('CV accuracy scores: %s'% scores)\n",
    "\n",
    "print('CV accuracy: %.3f +/- %.3f' %(np.mean(scores),np.std(scores)))"
   ]
  },
  {
   "cell_type": "code",
   "execution_count": 9,
   "metadata": {},
   "outputs": [
    {
     "data": {
      "text/plain": [
       "<Figure size 640x480 with 1 Axes>"
      ]
     },
     "metadata": {},
     "output_type": "display_data"
    }
   ],
   "source": [
    "#Debugging algorithms with learning curves\n",
    "\n",
    "#Diagnosing bias and variance problems with learning curves\n",
    "#plotting the model training and validation accuracies as function of the training set size\n",
    "#detect whether the model suffers from high variance or high bias and whether collection of more data could help address this problem\n",
    "\n",
    "#High Bias = underfitting: 1)increase the no. of parameters, collecting or constructing additional features; 2)by decreasing the degree of regularization\n",
    "#High Variance = overfitting: 1)collect more training data, 2)reduce the complexity of the model (feature selection & feature extraction), 3)increase the regularization parameter\n",
    "\n",
    "import matplotlib.pyplot as plt\n",
    "\n",
    "from sklearn.model_selection import learning_curve\n",
    "\n",
    "pipe_lr = make_pipeline(StandardScaler(), LogisticRegression(penalty='l2',random_state=1))\n",
    "\n",
    "train_sizes, train_scores, test_scores = \\\n",
    "                            learning_curve(estimator=pipe_lr,\n",
    "                                           X=X_train,\n",
    "                                           y=y_train,\n",
    "                                           train_sizes=np.linspace(0.1,1.0,10), #from 10% to 100% of the dataset, 10 samples\n",
    "                                           cv=10, #10-fold stratified CV\n",
    "                                           n_jobs=1)\n",
    "\n",
    "train_mean = np.mean(train_scores, axis=1)\n",
    "train_std = np.std(train_scores,axis=1)\n",
    "test_mean=np.mean(test_scores,axis=1)\n",
    "test_std=np.std(test_scores,axis=1)\n",
    "\n",
    "plt.plot(train_sizes,train_mean,color='blue',marker='o',markersize=5,label='training accuracy')\n",
    "plt.fill_between(train_sizes,train_mean+train_std,train_mean-train_std,alpha=0.15,color='blue')\n",
    "plt.plot(train_sizes,test_mean,color='green',linestyle='--',marker='s',markersize=5,label='validation accuracy')\n",
    "plt.fill_between(train_sizes,test_mean+test_std,test_mean-test_std,alpha=0.15,color='green')\n",
    "\n",
    "plt.grid()\n",
    "plt.xlabel('Number of training samples')\n",
    "plt.ylabel('Accuracy')\n",
    "plt.legend(loc='lower right')\n",
    "plt.ylim([0.8,1.03])\n",
    "plt.show()"
   ]
  },
  {
   "cell_type": "code",
   "execution_count": 10,
   "metadata": {},
   "outputs": [
    {
     "data": {
      "image/png": "[encoded data removed]",
      "text/plain": [
       "<Figure size 432x288 with 1 Axes>"
      ]
     },
     "metadata": {},
     "output_type": "display_data"
    }
   ],
   "source": [
    "#Addressong over- and underfitting with validation curves\n",
    "#Unlike learning curves plotting the training and test accuracies as functions of the sample size\n",
    "#Validation curves vary the values of the model parameters, for example, the inverse regularization parameter C in logistic regression\n",
    "\n",
    "from sklearn.model_selection import validation_curve\n",
    "\n",
    "param_range = [0.001,0.01, 0.1, 1.0, 10.0, 100.0]\n",
    "\n",
    "train_scores, test_scores = validation_curve(estimator = pipe_lr,\n",
    "                                             X = X_train,\n",
    "                                             y = y_train,\n",
    "                                             param_name = 'logisticregression__C', #inverse regularization parameter of the LogisticRegression Classifier\n",
    "                                             param_range = param_range,\n",
    "                                             cv = 10) #stratified k-fold\n",
    "train_mean = np.mean(train_scores,axis=1)\n",
    "train_std = np.std(train_scores,axis=1)\n",
    "test_mean = np.mean(test_scores,axis=1)\n",
    "test_std = np.std(test_scores,axis=1)\n",
    "\n",
    "plt.plot(param_range, train_mean,\n",
    "         color = 'blue', marker = 'o',\n",
    "         markersize=5, label='training accuracy')\n",
    "\n",
    "plt.fill_between(param_range,train_mean+train_std,\n",
    "                 train_mean-train_std, alpha = 0.15, color = 'blue')\n",
    "\n",
    "plt.plot(param_range, test_mean,\n",
    "         color = 'green', marker = 's', linestyle='--',\n",
    "         markersize=5, label='validation accuracy')\n",
    "\n",
    "plt.fill_between(param_range,test_mean+test_std,\n",
    "                 test_mean-test_std, alpha = 0.15, color = 'green')\n",
    "\n",
    "plt.grid()\n",
    "plt.xscale('log')\n",
    "plt.legend(loc='lower right')\n",
    "plt.xlabel('Parameter C')\n",
    "plt.ylabel('Accuracy')\n",
    "plt.ylim([0.8,1.03])\n",
    "plt.tight_layout()\n",
    "plt.show()\n"
   ]
  },
  {
   "cell_type": "code",
   "execution_count": 13,
   "metadata": {},
   "outputs": [
    {
     "name": "stdout",
     "output_type": "stream",
     "text": [
      "0.9846153846153847\n",
      "{'svc__C': 100.0, 'svc__gamma': 0.001, 'svc__kernel': 'rbf'}\n"
     ]
    }
   ],
   "source": [
    "#Fine-tuning machine learning models via grid search\n",
    "\n",
    "#Brute-force exhaustive search\n",
    "#specify a list of values for different hyperparameters\n",
    "#evaluate the model performance for each combination of those to obtain the optimal combination of values from this set\n",
    "\n",
    "from sklearn.model_selection import GridSearchCV\n",
    "from sklearn.svm import SVC\n",
    "\n",
    "pipe_svc = make_pipeline(StandardScaler(),\n",
    "                         SVC(random_state=1))\n",
    "param_grid = [{'svc__C':param_range,\n",
    "               'svc__kernel': ['linear']},\n",
    "              {'svc__C':param_range,\n",
    "               'svc__gamma': param_range, #specific to kernel SVMs\n",
    "               'svc__kernel':['rbf']}]\n",
    "\n",
    "gs = GridSearchCV(estimator=pipe_svc,\n",
    "                  param_grid = param_grid,\n",
    "                  scoring = 'accuracy',\n",
    "                  cv = 10,\n",
    "                  n_jobs = -1)\n",
    "\n",
    "gs = gs.fit(X_train,y_train)\n",
    "print(gs.best_score_) #best-k-fold cross-validation accuracy score of the best-performing model\n",
    "print(gs.best_params_) #look at the best-performing model's parameter"
   ]
  },
  {
   "cell_type": "code",
   "execution_count": 14,
   "metadata": {},
   "outputs": [
    {
     "name": "stdout",
     "output_type": "stream",
     "text": [
      "Test accuracy: 0.974\n"
     ]
    }
   ],
   "source": [
    "#use the independent test dataset to estimate the performance of the best-selected model\n",
    "clf = gs.best_estimator_\n",
    "clf.fit(X_train,y_train)\n",
    "print('Test accuracy: %.3f' % clf.score(X_test,y_test))"
   ]
  },
  {
   "cell_type": "code",
   "execution_count": 16,
   "metadata": {},
   "outputs": [
    {
     "name": "stdout",
     "output_type": "stream",
     "text": [
      "CV accuracy: 0.974 +/- 0.015\n"
     ]
    }
   ],
   "source": [
    "#Algorithm selection with nested cross-validation\n",
    "\n",
    "#k-fold cv + grid search = fine-tuning the performance of a machine learning model by varying its hyperparameter values\n",
    "\n",
    "#Select differentmachine learning algorithms: nested cross-validation\n",
    "#True error of the estimate is almost unbiased relative to the test set\n",
    "\n",
    "#Nested CV:\n",
    "#Outer k-fold cv loop: split the data into training and test folds (Train with optimal parameters)\n",
    "#Inner loop: select the model using k-fold cv on the training set (Tune parameter)\n",
    "#After model selection, the test fold is then used to evaluate the model performance\n",
    "#Common structure: 5 x 2 cross-validation\n",
    "\n",
    "#In scikit-learn, we can perform nested cross-validation as follows:\n",
    "\n",
    "#Inner loop to fine tune the parameters\n",
    "gs = GridSearchCV(estimator=pipe_svc,\n",
    "                  param_grid=param_grid,\n",
    "                  scoring='accuracy',\n",
    "                  cv=2)\n",
    "#Outter loop to give an average accuracy of the model to the unseen data\n",
    "scores = cross_val_score(gs,X_train,y_train,scoring='accuracy',cv=5)\n",
    "#The returned average cross-validation accuracy gives us a good estimate of what to expect if we tune the hyperparameters of a model and use it on unseen data\n",
    "print('CV accuracy: %.3f +/- %.3f' % (np.mean(scores),np.std(scores)))\n"
   ]
  },
  {
   "cell_type": "code",
   "execution_count": 18,
   "metadata": {},
   "outputs": [
    {
     "name": "stdout",
     "output_type": "stream",
     "text": [
      "CV accuracy: 0.934 +/- 0.016\n"
     ]
    }
   ],
   "source": [
    "#We can use the nested cross-validation approach to compare an SVM model to simple decision tree classifier\n",
    "#for simplicity, we only tune its depth parameter\n",
    "\n",
    "from sklearn.tree import DecisionTreeClassifier\n",
    "\n",
    "gs = GridSearchCV(estimator=DecisionTreeClassifier(random_state=0),\n",
    "                  param_grid=[{'max_depth':[1,2,3,4,5,6,7,None]}],\n",
    "                  scoring = 'accuracy',\n",
    "                  cv = 2)\n",
    "scores = cross_val_score(gs,X_train,y_train,scoring='accuracy',cv=5)\n",
    "print('CV accuracy: %.3f +/- %.3f' % (np.mean(scores),np.std(scores)))"
   ]
  },
  {
   "cell_type": "code",
   "execution_count": 19,
   "metadata": {},
   "outputs": [
    {
     "name": "stdout",
     "output_type": "stream",
     "text": [
      "[[71  1]\n",
      " [ 2 40]]\n"
     ]
    }
   ],
   "source": [
    "#Looking at different performance evaluation metrics\n",
    "#Reading a confuction matrix\n",
    "#[[Ture Positive, False Negative-type 1 error],\n",
    "# [False positive-type 2 error, True negative]\n",
    "#[[TP,FN],\n",
    "# [FP,TN]]\n",
    "\n",
    "from sklearn.metrics import confusion_matrix\n",
    "pipe_svc.fit(X_train,y_train)\n",
    "y_pred = pipe_svc.predict(X_test)\n",
    "confmat = confusion_matrix(y_true=y_test,y_pred=y_pred)\n",
    "print(confmat)"
   ]
  },
  {
   "cell_type": "code",
   "execution_count": 21,
   "metadata": {},
   "outputs": [
    {
     "data": {
      "image/png": "[encoded data removed]",
      "text/plain": [
       "<Figure size 180x180 with 1 Axes>"
      ]
     },
     "metadata": {},
     "output_type": "display_data"
    }
   ],
   "source": [
    "#Map this information onto the confusion matrix illustration in the previous figure \n",
    "#using Matplotlib's 'matshow' fucntion\n",
    "\n",
    "fig, ax = plt.subplots(figsize=(2.5,2.5))\n",
    "ax.matshow(confmat,cmap=plt.cm.Blues, alpha=0.3)\n",
    "\n",
    "for i in range(confmat.shape[0]):\n",
    "    for j in range(confmat.shape[1]):\n",
    "        ax.text(x=j,y=i,s=confmat[i,j],va='center',ha='center')\n",
    "        \n",
    "plt.xlabel('Predicted label')\n",
    "plt.ylabel('True label')\n",
    "\n",
    "plt.tight_layout()\n",
    "plt.show()"
   ]
  },
  {
   "cell_type": "code",
   "execution_count": 27,
   "metadata": {},
   "outputs": [
    {
     "data": {
      "text/plain": [
       "array([1, 0])"
      ]
     },
     "execution_count": 27,
     "metadata": {},
     "output_type": "execute_result"
    }
   ],
   "source": [
    "#Additonal note: label issue\n",
    "\n",
    "#remember we previously ecnode the class labels so that malignant is `positive' and benign is 'negative'\n",
    "\n",
    "le.transform(['M','B'])\n",
    "\n"
   ]
  },
  {
   "cell_type": "code",
   "execution_count": 28,
   "metadata": {},
   "outputs": [
    {
     "name": "stdout",
     "output_type": "stream",
     "text": [
      "[[40  2]\n",
      " [ 1 71]]\n"
     ]
    }
   ],
   "source": [
    "#To be consistent\n",
    "confmat = confusion_matrix(y_true=y_test,y_pred=y_pred,labels=[1,0])\n",
    "print(confmat)"
   ]
  },
  {
   "cell_type": "code",
   "execution_count": 24,
   "metadata": {},
   "outputs": [
    {
     "data": {
      "image/png": "[encoded data removed]",
      "text/plain": [
       "<Figure size 180x180 with 1 Axes>"
      ]
     },
     "metadata": {},
     "output_type": "display_data"
    }
   ],
   "source": [
    "fig, ax = plt.subplots(figsize=(2.5,2.5))\n",
    "ax.matshow(confmat,cmap=plt.cm.Blues, alpha=0.3)\n",
    "\n",
    "for i in range(confmat.shape[0]):\n",
    "    for j in range(confmat.shape[1]):\n",
    "        ax.text(x=j,y=i,s=confmat[i,j],va='center',ha='center')\n",
    "        \n",
    "plt.xlabel('Predicted label')\n",
    "plt.ylabel('True label')\n",
    "\n",
    "plt.tight_layout()\n",
    "plt.show()"
   ]
  },
  {
   "cell_type": "code",
   "execution_count": 30,
   "metadata": {},
   "outputs": [
    {
     "name": "stdout",
     "output_type": "stream",
     "text": [
      "Precision: 0.976\n",
      "Recall: 0.952\n",
      "F1: 0.964\n"
     ]
    }
   ],
   "source": [
    "#Optimizing the precision and recall of a classification model\n",
    "\n",
    "#Error(ERR): sum of the all false prediction divided by the no. of the total prediction\n",
    "#ERR = (FP + FN)/ (FP+FN+TP+TN)\n",
    "\n",
    "#Accuracy (ACC): sum of correct predictions divided by the total no. of prediction\n",
    "#ACC = (TP+TN)/(FP+FN+TP+TN) = 1 - ERR\n",
    "\n",
    "#True positive rate(TPR) = TP / (FN+TP)  ~ true positive/total no. true: fraction of positive (or relevant) samples that were correctly identified out of the total pool of positives\n",
    "#False positive rate(FPR) = FP / (FP+TN) ~ false positive/total no. false:fraction of negative (or relevant) samples that were incorrectly identified out of the total pool of negatives\n",
    "#they are useful for imbalanced class problems\n",
    "\n",
    "#Precision(PRE) = TP / (TP+FP)\n",
    "#Recall(REC) = TPR = TP/P = TP/(FN+TP)\n",
    "\n",
    "#In practice, a combination of PRE and REC is used\n",
    "#F1-score = 2 * (PRE x REC)/(PRE + REC)\n",
    "\n",
    "from sklearn.metrics import precision_score, recall_score, f1_score\n",
    "\n",
    "print('Precision: %.3f' % precision_score(y_true=y_test,y_pred=y_pred))\n",
    "print('Recall: %.3f' % recall_score(y_true=y_test,y_pred=y_pred))\n",
    "print('F1: %.3f' % f1_score(y_true=y_test,y_pred=y_pred))\n",
    "\n"
   ]
  },
  {
   "cell_type": "code",
   "execution_count": 32,
   "metadata": {},
   "outputs": [
    {
     "name": "stdout",
     "output_type": "stream",
     "text": [
      "0.9862021456964396\n",
      "{'svc__C': 10.0, 'svc__gamma': 0.01, 'svc__kernel': 'rbf'}\n"
     ]
    }
   ],
   "source": [
    "from sklearn.metrics import make_scorer\n",
    "\n",
    "scorer = make_scorer(f1_score,pos_label=0) #Construct our own scorer via the make_scorer function\n",
    "\n",
    "c_gamma_range=[0.01,0.1,1.0,10.0]\n",
    "\n",
    "param_grid=[{'svc__C': c_gamma_range,\n",
    "             'svc__kernel':['linear']},\n",
    "            {'svc__C': c_gamma_range,\n",
    "             'svc__gamma': c_gamma_range,\n",
    "             'svc__kernel':['rbf']}]\n",
    "\n",
    "gs = GridSearchCV(estimator = pipe_svc,\n",
    "                  param_grid = param_grid,\n",
    "                  scoring = scorer, #we can use F1 score instead of accuracy in GridSearch\n",
    "                  cv = 10,\n",
    "                  n_jobs = -1)\n",
    "gs = gs.fit(X_train, y_train)\n",
    "print(gs.best_score_)\n",
    "print(gs.best_params_)\n"
   ]
  },
  {
   "cell_type": "code",
   "execution_count": 33,
   "metadata": {},
   "outputs": [
    {
     "data": {
      "image/png": "[encoded data removed]",
      "text/plain": [
       "<Figure size 504x360 with 1 Axes>"
      ]
     },
     "metadata": {},
     "output_type": "display_data"
    }
   ],
   "source": [
    "#Plotting a receiver operating characterisitics\n",
    "\n",
    "#Receiver Operating Characteristics (ROC) graphs\n",
    "#useful tool to select models for classification based on their performance with respect to the FPR and TPR\n",
    "#computed by shifting the decision threshold of the classifier\n",
    "#the diagonal of an ROC graph can be interpreted as random guessing\n",
    "#classification models that fall below the diagonal are considered as worse than random guessing\n",
    "\n",
    "#A perfect classifier would fall into the top left corner of the graph with a TPR of 1 and an FPR of 0\n",
    "#Based on the ROC curve, we can then compute the ROC Area Under the Curve (ROC AUC) to characterize the performance of a classification model\n",
    "\n",
    "#Similiar to ROC curves, we can also compute precision-recall curves for different probability thresholds of a classifier\n",
    "\n",
    "#we will plot an ROC curve of a classfier that only uses two features from the Breast Cancer Wisconsin dataset to predict whether a tumor is benign or malignant\n",
    "#we will use the same logistic regression pipeline\n",
    "#we will make the classification task more challenging for the classifier so that the resulting ROC curve becomes visually more interesting\n",
    "#So, we reducing the number of the folds in the StratifiedKFold validator to three\n",
    "\n",
    "#Accuracy score can be interpreted as a single cut-off point on an ROC curve\n",
    "#Accuracy score mostly agree with ROC AUC\n",
    "\n",
    "from sklearn.metrics import roc_curve, auc\n",
    "from scipy import interp\n",
    "\n",
    "#Make pipeline\n",
    "pipe_lr = make_pipeline(StandardScaler(),\n",
    "                        PCA(n_components=2),#Reduced to Two principal components\n",
    "                        LogisticRegression(penalty='l2',\n",
    "                                           random_state=1,\n",
    "                                           C = 100.0))\n",
    "#Only use two features from the dataset\n",
    "X_train2 = X_train[:,[4,14]]\n",
    "cv = list(StratifiedKFold(n_splits=3,\n",
    "                          random_state=1).split(X_train,y_train))\n",
    "\n",
    "fig = plt.figure(figsize=(7,5))\n",
    "mean_tpr = 0.0\n",
    "mean_fpr = np.linspace(0,1,100)\n",
    "all_tpr = []\n",
    "\n",
    "for  i, (train,test) in enumerate(cv):\n",
    "    probas = pipe_lr.fit(X_train2[train],\n",
    "                         y_train[train]).predict_proba(X_train2[test])\n",
    "    fpr, tpr, thresholds = roc_curve(y_train[test],\n",
    "                                     probas[:,1],\n",
    "                                     pos_label=1)\n",
    "    #interpolate the average ROC curve from three folds\n",
    "    mean_tpr += interp(mean_fpr,fpr,tpr) \n",
    "    mean_tpr[0] = 0.0\n",
    "    #Calculate the area under the curve (roc_auc) of each CV\n",
    "    roc_auc = auc(fpr,tpr)\n",
    "    #Plot the performance of each CV\n",
    "    plt.plot(fpr,tpr,label='ROC fold %d (area=%0.2f)' % (i+1,roc_auc))\n",
    "    \n",
    "#Random guessing, diagonal line\n",
    "plt.plot([0,1],\n",
    "         [0,1],\n",
    "         linestyle='--',\n",
    "         color = (0.6,0.6,0.6),\n",
    "         label='random guessing')\n",
    "\n",
    "mean_tpr /= len(cv)\n",
    "mean_tpr[-1] = 1.0\n",
    "mean_auc = auc(mean_fpr,mean_tpr)\n",
    "\n",
    "#Plot Mean perforamnce\n",
    "plt.plot(mean_fpr,mean_tpr,'k--',label='mean ROC (area = %0.2f)' % mean_auc, lw=2)\n",
    "\n",
    "#Plot Perfect performance\n",
    "plt.plot([0,0,1],[0,1,1],linestyle=':',color='black',label='perfect performance')\n",
    "\n",
    "#Legend, label stuff\n",
    "plt.xlim([-0.05,1.05])\n",
    "plt.ylim([-0.05,1.05])\n",
    "plt.xlabel('false positive rate')\n",
    "plt.ylabel('true positive rate')\n",
    "plt.legend(loc='lower right')\n",
    "\n",
    "plt.tight_layout()\n",
    "plt.show()"
   ]
  },
  {
   "cell_type": "code",
   "execution_count": 34,
   "metadata": {},
   "outputs": [],
   "source": [
    "#Scoring metrics for multiclass classification\n",
    "\n",
    "#Over-versus-All (OvA) classification\n",
    "\n",
    "#Micro-average: individual TPs, TNs, FPs, and FNs of the system\n",
    "#useful if we want to weight each instance or prediction equally\n",
    "#e.g. Micro Precision:\n",
    "#PRE_micro = (TP_1+...+TP_k)/(TP_1+...TP_k+FP_1+...+FP_k)\n",
    "#Marcro-average: avarege scores of the different systems\n",
    "#useful if we wanna weight all classes equally to evaluate the overall performance of a classifir with regard to the most frequent class labels\n",
    "#e.g Macro Precision:\n",
    "#PRE_macro = (PRE_1+...+PRE_k)/k\n",
    "\n",
    "#the weighted macro-avaerge is calculated by weighting the score of each class label\n",
    "#by the number of true instances when calculating the average\n",
    "#useful dealing with class imbalances, i.e. different numbers of instances for each label\n",
    "\n",
    "#While the weighted macro-average is the default for multiclass problems in scikit-learn,\n",
    "#we can specify the averaging method via the average parameter inside the different scoring functions\n",
    "\n",
    "pre_scorer = make_scorer(score_func=precision_score,\n",
    "                         pos_label=1,\n",
    "                         greater_is_better=True,\n",
    "                         average='micro')\n",
    "\n"
   ]
  },
  {
   "cell_type": "code",
   "execution_count": 35,
   "metadata": {},
   "outputs": [],
   "source": [
    "#Deal with class imbalance\n",
    "\n",
    "#class imbalance:\n",
    "#samples from one class or multiple classes are over-represented in a dataset\n",
    "\n",
    "#Create an imbalanced dataset from our breast cancer dataset\n",
    "X_imb = np.vstack((X[y==0],X[y==1][:40]))\n",
    "y_imb = np.hstack((y[y==0],y[y==1][:40]))\n"
   ]
  },
  {
   "cell_type": "code",
   "execution_count": 36,
   "metadata": {},
   "outputs": [
    {
     "data": {
      "text/plain": [
       "89.92443324937027"
      ]
     },
     "execution_count": 36,
     "metadata": {},
     "output_type": "execute_result"
    }
   ],
   "source": [
    "#With this imbalance dataset, if we were to compute the accuracy of a model that \n",
    "#always predicts the majority class\n",
    "#we would achieve a prediction accuracy of approximately 90%\n",
    "\n",
    "y_pred = np.zeros(y_imb.shape[0]) #Create a zero vector that has a equal shape of the y\n",
    "np.mean(y_pred == y_imb)*100"
   ]
  },
  {
   "cell_type": "code",
   "execution_count": 38,
   "metadata": {},
   "outputs": [
    {
     "name": "stdout",
     "output_type": "stream",
     "text": [
      "Number of class 1 samples before: 40\n",
      "Number of class 1 samples after: 357\n"
     ]
    }
   ],
   "source": [
    "#Thus, when we fit classifiers on such datasets, \n",
    "#it would make sense to focus on other metrics than accuracy\n",
    "#such as precision, recall, the ROC curve\n",
    "\n",
    "#Problems with imbalance dataset\n",
    "# 1) Misleading high accuracy\n",
    "# 2) Decision rule is likely going to be biased towards the majority class (optimise the predictions based on the ost abundant class)\n",
    "\n",
    "#Solution:\n",
    "# 1) Assign a larger penalty to wrong predictions on the minority class\n",
    "# 2) Upsampling the minority class, downsampling the majority class, the generation of synthetic training samples\n",
    "\n",
    "#No best solution, better try out different strategies on a given problem, evaluate the resultss, and choose the technique that seems most appropriate\n",
    "\n",
    "#Scikit-slearn has the 'resample' function to help with the upsampling of the minority class\n",
    "#by drawing  new samples from the dataset with replacement\n",
    "#The following code will take the minority class from our imbalanced breast cancer dataset and repeated draw new samples from it until it contains the same number of samples as the minority class\n",
    "\n",
    "from sklearn.utils import resample\n",
    "\n",
    "print('Number of class 1 samples before:', X_imb[y_imb==1].shape[0])\n",
    "\n",
    "X_upsampled, y_upsampled = resample(X_imb[y_imb==1],\n",
    "                                    y_imb[y_imb==1],\n",
    "                                    replace = True,\n",
    "                                    n_samples=X_imb[y_imb==0].shape[0],\n",
    "                                    random_state=123)\n",
    "\n",
    "print('Number of class 1 samples after:', X_upsampled.shape[0])"
   ]
  },
  {
   "cell_type": "code",
   "execution_count": 39,
   "metadata": {},
   "outputs": [],
   "source": [
    "X_bal=np.vstack((X[y==0],X_upsampled))\n",
    "y_bal=np.hstack((y[y==0],y_upsampled))"
   ]
  },
  {
   "cell_type": "code",
   "execution_count": 40,
   "metadata": {},
   "outputs": [
    {
     "data": {
      "text/plain": [
       "50.0"
      ]
     },
     "execution_count": 40,
     "metadata": {},
     "output_type": "execute_result"
    }
   ],
   "source": [
    "y_pred = np.zeros(y_bal.shape[0])\n",
    "np.mean(y_pred==y_bal)*100"
   ]
  }
 ],
 "metadata": {
  "kernelspec": {
   "display_name": "Python [conda env:anaconda3]",
   "language": "python",
   "name": "conda-env-anaconda3-py"
  },
  "language_info": {
   "codemirror_mode": {
    "name": "ipython",
    "version": 3
   },
   "file_extension": ".py",
   "mimetype": "text/x-python",
   "name": "python",
   "nbconvert_exporter": "python",
   "pygments_lexer": "ipython3",
   "version": "3.6.5"
  }
 },
 "nbformat": 4,
 "nbformat_minor": 2
}
