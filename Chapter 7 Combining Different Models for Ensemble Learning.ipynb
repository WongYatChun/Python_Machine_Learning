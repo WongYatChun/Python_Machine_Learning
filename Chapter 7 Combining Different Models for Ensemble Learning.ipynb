{
 "cells": [
  {
   "cell_type": "code",
   "execution_count": 1,
   "metadata": {},
   "outputs": [
    {
     "data": {
      "text/plain": [
       "0.03432750701904297"
      ]
     },
     "execution_count": 1,
     "metadata": {},
     "output_type": "execute_result"
    }
   ],
   "source": [
    "#Chapter focus:\n",
    "#1. Make predictions based on majority voting\n",
    "#2. Use bagging the reduce overfitting by drawing random combinations of the training set with repetition\n",
    "#3. Apply boosting to build powerful models from weak learners that learn from their mistakes\n",
    "\n",
    "#Ensemble methods:\n",
    "#-Combine different classifiers into a meta-classifier that has better generalization performance\n",
    "#-Most popular: majority voting\n",
    "# -> select the class label that has been predicted by the majority of classifiers\n",
    "# -> Binary class settings only\n",
    "# -> Multi-class settings? Plurality voting\n",
    "#-Techniques:\n",
    "# -> build from different classification algorithms\n",
    "# -> use the same base classification algorithm, fitting different subsets of the training set\n",
    "#-Why ensemble methods can work better than individual classifiers?\n",
    "# -> the error probability of an ensemble of base classifiers is a probability mass function of a binomial distribution\n",
    "# -> if many people say yes, then probably it is more true than a single person says yes.\n",
    "\n",
    "#Compare an idealistic ensemble classifier to a base classifier over a range of different base error rates\n",
    "\n",
    "from scipy.special import comb\n",
    "import math\n",
    "\n",
    "#implement the ensemble_error function\n",
    "def ensemble_error(n_classifier,error):\n",
    "    k_start = int(math.ceil(n_classifier/2.))\n",
    "    probs = [comb(n_classifier,k)*error**k*(1-error)**(n_classifier-k)\n",
    "             for k in range(k_start,n_classifier+1)]\n",
    "    return sum(probs)\n",
    "\n",
    "#Test\n",
    "ensemble_error(n_classifier=11,error=0.25)"
   ]
  },
  {
   "cell_type": "code",
   "execution_count": 2,
   "metadata": {},
   "outputs": [
    {
     "data": {
      "text/plain": [
       "<Figure size 640x480 with 1 Axes>"
      ]
     },
     "metadata": {},
     "output_type": "display_data"
    }
   ],
   "source": [
    "#Visualize the relationship between ensemble and base errors in a line graph\n",
    "import numpy as np\n",
    "import matplotlib.pyplot as plt\n",
    "\n",
    "error_range = np.arange(0.0,1.01,0.01)\n",
    "ens_errors = [ensemble_error(n_classifier=11,error=error)\n",
    "              for error in error_range]\n",
    "\n",
    "#Plot the line of ensemble errors\n",
    "plt.plot(error_range,ens_errors,label='Ensemble error',linewidth=2)\n",
    "\n",
    "#Plot the line of base error\n",
    "plt.plot(error_range,error_range,linestyle='--',label='Base error',linewidth=2)\n",
    "\n",
    "#Legend stuff\n",
    "plt.xlabel('Base error')\n",
    "plt.ylabel('Base/Ensemble error')\n",
    "plt.legend(loc='upper left')\n",
    "plt.grid(alpha=0.5)\n",
    "plt.show()\n",
    "\n",
    "#As long as the base classifiers perform better than random guessing (error rate < 0.5)\n",
    "#Ensemble always performs better than individual base classifier"
   ]
  },
  {
   "cell_type": "code",
   "execution_count": 3,
   "metadata": {},
   "outputs": [
    {
     "data": {
      "text/plain": [
       "1"
      ]
     },
     "execution_count": 3,
     "metadata": {},
     "output_type": "execute_result"
    }
   ],
   "source": [
    "#Combining classifiers via majority vote\n",
    "\n",
    "#Implementing a simple majority vote classifier\n",
    "#Combine different classification algorithms associated with individual weights for confidence\n",
    "#Goal: build a stronger meta-classifier that balances out the individual classifiers' weaknesses on a particular dataset\n",
    "\n",
    "#Illustration of the weighted majority vote:\n",
    "np.argmax(np.bincount([0,0,1],weights=[0.2,0.2,0.6]))\n",
    "\n"
   ]
  },
  {
   "cell_type": "code",
   "execution_count": 4,
   "metadata": {},
   "outputs": [
    {
     "data": {
      "text/plain": [
       "array([0.58, 0.42])"
      ]
     },
     "execution_count": 4,
     "metadata": {},
     "output_type": "execute_result"
    }
   ],
   "source": [
    "#Illustration of the weighted majority vote based on class probability\n",
    "\n",
    "ex = np.array([[0.9,0.1],\n",
    "               [0.8,0.2],\n",
    "               [0.4,0.6]])\n",
    "p = np.average(ex,axis=0,weights=[.2,.2,.6])\n",
    "p"
   ]
  },
  {
   "cell_type": "code",
   "execution_count": 5,
   "metadata": {},
   "outputs": [
    {
     "data": {
      "text/plain": [
       "0"
      ]
     },
     "execution_count": 5,
     "metadata": {},
     "output_type": "execute_result"
    }
   ],
   "source": [
    "np.argmax(p)"
   ]
  },
  {
   "cell_type": "code",
   "execution_count": 6,
   "metadata": {},
   "outputs": [],
   "source": [
    "from sklearn.base import BaseEstimator #inherit some base functionalities\n",
    "from sklearn.base import ClassifierMixin #inherit some base functionalities\n",
    "from sklearn.preprocessing import LabelEncoder\n",
    "from sklearn.externals import six #make the class compatible with Python 2.6\n",
    "from sklearn.base import clone\n",
    "from sklearn.pipeline import _name_estimators\n",
    "import numpy as np\n",
    "import operator\n",
    "\n",
    "class MajorityVoteClassifier(BaseEstimator,ClassifierMixin): #inheritance\n",
    "    \"\"\"A Majority Vote Ensemble Classifier\n",
    "    \n",
    "    Parameters\n",
    "    ------------\n",
    "    classifiers: array-like, shape = [n_classifiers]\n",
    "        Different classifiers for the ensemble\n",
    "        \n",
    "    vote: str, {'classlabel','probability'}(default='label')\n",
    "        If 'classlabel' the prediction is based on the armax of class labels.\n",
    "        Else if 'probability', the argmax of sum of probabilities is used to predict the class label\n",
    "        (recommended for calibrated classifiers).\n",
    "        \n",
    "    weights: array-like, shape = [n_classifiers], optional (default = None)\n",
    "        If a list of `int` or `float` values are provided, the classifiers\n",
    "        are weighted by importance; Uses uniform weights if `weights=None\n",
    "    \"\"\"\n",
    "    \n",
    "    def __init__(self,classifiers,vote='classlabel',weights=None):\n",
    "        self.classifiers = classifiers\n",
    "        self.named_classifiers={key:value \n",
    "                                for key, value in _name_estimators(classifiers)}\n",
    "        self.vote = vote\n",
    "        self.weights = weights\n",
    "        \n",
    "    def fit(self,X,y):\n",
    "        \"\"\"Fit classifiers.\n",
    "        \n",
    "        Parameters\n",
    "        ------------------\n",
    "        X:{array-like, sparse matrix}, shape=[n_samples,n_features]\n",
    "            Matrix of training samples\n",
    "            \n",
    "        y: array-like, shape=[n_samples]\n",
    "            Vector of target class labels\n",
    "            \n",
    "        Returns\n",
    "        ----------------\n",
    "        self: object\n",
    "        \"\"\"\n",
    "        #Exception handling\n",
    "        if self.vote not in ('probability','classlabel'):\n",
    "            raise ValueError(\"vote must be 'probability' or 'classlabel'\"\n",
    "                             \"; got (vote=%r)\" % self.vote)\n",
    "        if self.weights and len(self.weights) != len(self.classifiers):\n",
    "            raise ValueError('NUmber of classifiers and weight must be equal;'\n",
    "                             'got %d weights, %d classifiers'\n",
    "                             % (len(self.weights),len(self.classifiers)))\n",
    "        \n",
    "        #Use LabelEncoder to ensure class labels start with 0, which\n",
    "        #is important for np.argmax call in self.predict\n",
    "        self.labelenc_=LabelEncoder()\n",
    "        self.labelenc_.fit(y)\n",
    "        self.classes_ = self.labelenc_.classes_\n",
    "        self.classifiers_ = []\n",
    "        \n",
    "        #fit the training sets with different classifiers\n",
    "        for clf in self.classifiers:\n",
    "            fitted_clf = clone(clf).fit(X,self.labelenc_.transform(y)) #without clone, maybe only return data not a classifier???\n",
    "            self.classifiers_.append(fitted_clf)\n",
    "            \n",
    "        return self\n",
    "    \n",
    "    def predict(self,X):\n",
    "        \"\"\"Predict class labels for X.\n",
    "        \n",
    "        Parameters\n",
    "        -----------\n",
    "        X: {array-like, sparse matrix}, shape = [n_samples, n_features]\n",
    "        \n",
    "        Returns\n",
    "        -----------\n",
    "        maj_vote: array-like, shape = [n_samples]\n",
    "        \n",
    "        \"\"\"\n",
    "        \n",
    "        if self == 'probability':\n",
    "            maj_vote = np.argmax(self.predict_proba(X),axis=1)\n",
    "        else: # 'classlabel' vote\n",
    "            # Collect results from clf.predict calls\n",
    "            predictions = np.asarray([clf.predict(X) #asarray convert structured data into an ndarray\n",
    "                                      for clf in self.classifiers_]).T #noted that it is transposed\n",
    "            #Apply the lambda function along the column\n",
    "            #each column stands for each sample, \n",
    "            #lambda function find the weighted mode of the prediction\n",
    "            #as a result, each sample has a major_vote result\n",
    "            \n",
    "            maj_vote = np.apply_along_axis(lambda x: np.argmax(np.bincount(x,weights=self.weights)),\n",
    "                                          axis=1,arr=predictions)\n",
    "        #convert the labelencoded code back to labels\n",
    "        maj_vote = self.labelenc_.inverse_transform(maj_vote)\n",
    "        \n",
    "        return maj_vote\n",
    "        \n",
    "    def predict_proba(self,X):\n",
    "        \"\"\"Predict class probabilities for X\n",
    "        \n",
    "        Parameters\n",
    "        -----------\n",
    "        X: {array-like, sparse matrix}, shape=[n_samples, n_features]\n",
    "            Training vectors, where n_samples is the number of samples and n_features i the number of features.\n",
    "            \n",
    "        Returns\n",
    "        -----------\n",
    "        avg.proba: array-like, shape=[n_samples, n_classes]\n",
    "            Weighted averge probability for each class per sample.\n",
    "        \"\"\"\n",
    "        #Calculate the proba for each label in each sample\n",
    "        probas = np.asarray([clf.predict_proba(X)\n",
    "                             for clf in self.classifiers_]) #no transpose\n",
    "        #column: prob each label, row: prob\n",
    "        #apply to row, get\n",
    "        avg_proba = np.average(probas, axis=0, weights=self.weights)\n",
    "        return avg_proba\n",
    "    \n",
    "    def get_params(self,deep=True):\n",
    "        \"\"\"Get classifier parameter names for GridSearch\"\"\"\n",
    "        if not deep:\n",
    "            return super(MajorityVoteClassifier,self).get_params(deep=False)\n",
    "        else:\n",
    "            out = self.named_classifiers.copy()\n",
    "            for name, step in six.iteritems(self.named_classifiers):\n",
    "                for key, value in six.iteritems(step.get_params(deep=True)):\n",
    "                    out['%s__%s' % (name,key)] = value\n",
    "            return out\n",
    "            \n",
    "        "
   ]
  },
  {
   "cell_type": "code",
   "execution_count": 7,
   "metadata": {},
   "outputs": [],
   "source": [
    "#Using the majority voting principle to make predictions\n",
    "\n",
    "#load the Iris dataset from scikit-learn's dataset module\n",
    "#only select two features, sepal width and petal length \n",
    "#to make the classification task more challenging for illustration purpose\n",
    "\n",
    "#Although MajorityVoteClassifier generalises to multiclass problems,\n",
    "#we will only classify flower samples from the Iris-versicolor and Iris-virginica classes\n",
    "\n",
    "from sklearn import datasets\n",
    "from sklearn.preprocessing import StandardScaler\n",
    "from sklearn.preprocessing import LabelEncoder\n",
    "from sklearn.model_selection import train_test_split\n",
    "\n",
    "#load the data\n",
    "iris = datasets.load_iris()\n",
    "#only classify flower samples from the Iris-versicolor and Iris-virginica classes\n",
    "#only select two features, sepal width and petal length \n",
    "X,y = iris.data[50:,[1,2]],iris.target[50:]\n",
    "#encode the label\n",
    "le = LabelEncoder()\n",
    "y = le.fit_transform(y)\n",
    "\n",
    "#split the Iris samples into 50% training and 50% test data\n",
    "X_train, X_test, y_train, y_test = \\\n",
    "    train_test_split(X,y,test_size=0.5,random_state=1,stratify=y)\n"
   ]
  },
  {
   "cell_type": "code",
   "execution_count": 8,
   "metadata": {},
   "outputs": [
    {
     "name": "stdout",
     "output_type": "stream",
     "text": [
      "10-fold cross validation: \n",
      "\n",
      "ROC_AUC: 0.87 (+/- 0.17) [Logistic regression]\n",
      "ROC_AUC: 0.89 (+/- 0.16) [Decision tree]\n",
      "ROC_AUC: 0.88 (+/- 0.15) [KNN]\n"
     ]
    }
   ],
   "source": [
    "#Train 3 different classifiers:\n",
    "#1. Logistic regression classifier\n",
    "#2. Decision tree classifier\n",
    "#3. k-nearest neighbors classifier\n",
    "\n",
    "#evaluate the performance of each classifier via 10-fold cross-validation on the training dataset\n",
    "#before combining them in to an ensemble classifier\n",
    "\n",
    "from sklearn.model_selection import cross_val_score\n",
    "from sklearn.linear_model import LogisticRegression\n",
    "from sklearn.tree import DecisionTreeClassifier\n",
    "from sklearn.neighbors import KNeighborsClassifier\n",
    "from sklearn.pipeline import Pipeline\n",
    "\n",
    "import numpy as np\n",
    "clf1 = LogisticRegression(penalty='l2',C=0.001,random_state=1)\n",
    "clf2 = DecisionTreeClassifier(max_depth=1,criterion='entropy',random_state=0)\n",
    "clf3 = KNeighborsClassifier(n_neighbors=1,p=2,metric='minkowski')\n",
    "\n",
    "#logistic regression is not scale invariant, pipeline to standardize scale\n",
    "pipe1 = Pipeline([['sc',StandardScaler()],['clf',clf1]])\n",
    "#KNN is not scale invariant, pipeline to standardize scale\n",
    "pipe3 = Pipeline([['sc',StandardScaler()],['clf',clf3]])\n",
    "#But decision tree is scale invariant, so no need standardize scale\n",
    "\n",
    "clf_labels = ['Logistic regression','Decision tree','KNN']\n",
    "\n",
    "print('10-fold cross validation: \\n')\n",
    "for clf, label in zip([pipe1,clf2,pipe3],clf_labels):\n",
    "    scores = cross_val_score(estimator=clf,X=X_train,y=y_train,cv=10,scoring='roc_auc')\n",
    "    print(\"ROC_AUC: %.2f (+/- %.2f) [%s]\" % (scores.mean(), scores.std(),label))\n",
    "    \n",
    "#the output shows that the predictive performances of the individual classifiers are almost equal:\n",
    "\n"
   ]
  },
  {
   "cell_type": "code",
   "execution_count": 9,
   "metadata": {},
   "outputs": [
    {
     "name": "stdout",
     "output_type": "stream",
     "text": [
      "ROC_AUC: 0.87 (+/- 0.17) [Logistic regression]\n",
      "ROC_AUC: 0.89 (+/- 0.16) [Decision tree]\n",
      "ROC_AUC: 0.88 (+/- 0.15) [KNN]\n",
      "ROC_AUC: 0.94 (+/- 0.13) [Majority voting]\n"
     ]
    }
   ],
   "source": [
    "#Combine the individual classifiers for major rule voting\n",
    "mv_clf = MajorityVoteClassifier(classifiers=[pipe1,clf2,pipe3])\n",
    "clf_labels += ['Majority voting']\n",
    "\n",
    "all_clf = [pipe1,clf2,pipe3,mv_clf]\n",
    "\n",
    "for clf,label in zip(all_clf,clf_labels):\n",
    "    scores = cross_val_score(estimator=clf,X=X_train,y=y_train,cv=10,scoring='roc_auc')\n",
    "    print(\"ROC_AUC: %.2f (+/- %.2f) [%s]\" % (scores.mean(), scores.std(),label))"
   ]
  },
  {
   "cell_type": "code",
   "execution_count": 10,
   "metadata": {},
   "outputs": [
    {
     "data": {
      "image/png": "[encoded data removed]",
      "text/plain": [
       "<Figure size 432x288 with 1 Axes>"
      ]
     },
     "metadata": {},
     "output_type": "display_data"
    }
   ],
   "source": [
    "#Evaluating and tuning the ensemble classifier\n",
    "\n",
    "#compute the ROC curves from the test set\n",
    "#Note that the test set is not to used for model slection\n",
    "#merely to report an unbiased estimate of the generalization performance of a classified system\n",
    "\n",
    "from sklearn.metrics import roc_curve\n",
    "from sklearn.metrics import auc\n",
    "\n",
    "colors = ['black','orange','blue','green']\n",
    "linestyles = [':','--','-.','-']\n",
    "\n",
    "for clf,label,clr,ls in zip(all_clf,clf_labels,colors,linestyles):\n",
    "    #assuming the label of the possitive class is 1\n",
    "    y_pred = clf.fit(X_train,y_train).predict_proba(X_test)[:,1]\n",
    "    fpr, tpr, thresholds = roc_curve(y_true=y_test,y_score=y_pred)\n",
    "    roc_auc = auc(x=fpr,y=tpr)\n",
    "    \n",
    "    plt.plot(fpr,tpr,color=clr,linestyle=ls,label='%s (auc=%.2f)' % (label,roc_auc))\n",
    "    \n",
    "plt.legend(loc='lower right')\n",
    "plt.plot([0,1],[0,1],linestyle='--',color='gray',linewidth=2)\n",
    "\n",
    "plt.xlim([-0.1,1.1])\n",
    "plt.ylim([-0.1,1.1])\n",
    "\n",
    "plt.grid(alpha=0.5)\n",
    "plt.xlabel('False positive rate (FPR)')\n",
    "plt.ylabel('True positive rate (TPR)')\n",
    "\n",
    "plt.show()\n"
   ]
  },
  {
   "cell_type": "code",
   "execution_count": 11,
   "metadata": {},
   "outputs": [
    {
     "name": "stderr",
     "output_type": "stream",
     "text": [
      "/home/Rex/anaconda3/lib/python3.6/site-packages/sklearn/preprocessing/label.py:151: DeprecationWarning: The truth value of an empty array is ambiguous. Returning False, but in future this will result in an error. Use `array.size > 0` to check that an array is not empty.\n",
      "  if diff:\n"
     ]
    },
    {
     "data": {
      "image/png": "[encoded data removed]",
      "text/plain": [
       "<Figure size 504x360 with 4 Axes>"
      ]
     },
     "metadata": {},
     "output_type": "display_data"
    }
   ],
   "source": [
    "#Visualize the decision region of the ensemble classifier\n",
    "\n",
    "#Although it is not necessary to standardize the training features prior to model fitting\n",
    "#because our logistic regression and k-nearest neighbors pipelines will automatically take care of it\n",
    "#we will standardize the training set so that the decision regions of the decision tree will be on the same scale for visual purposes\n",
    "\n",
    "sc = StandardScaler()\n",
    "X_train_std = sc.fit_transform(X_train)\n",
    "\n",
    "from itertools import product\n",
    "\n",
    "all_clf = [pipe1, clf2, pipe3, mv_clf]\n",
    "x_min = X_train_std[:,0].min()-1\n",
    "x_max = X_train_std[:,0].max()+1\n",
    "y_min = X_train_std[:,1].min()-1\n",
    "y_max = X_train_std[:,1].max()+1\n",
    "\n",
    "#form meshgrid, to plot contour plot (for visualizing decision region)\n",
    "xx, yy = np.meshgrid(np.arange(x_min,x_max,0.1),\n",
    "                     np.arange(y_min,y_max,0.1))\n",
    "\n",
    "#form subplots\n",
    "f, axarr = plt.subplots(nrows=2,ncols=2,sharex='col',sharey='row',figsize=(7,5))\n",
    "\n",
    "for idx, clf, tt in zip(product([0,1],[0,1]), all_clf,clf_labels):\n",
    "    \n",
    "    clf.fit(X_train_std,y_train)\n",
    "    \n",
    "    #ravel (flatten) xx and yy, np.c_ match each xx to each yy\n",
    "    #np.c_[xx.ravel(),yy.ravel()] is like [x,y], while x is the regressor, y is the regressand\n",
    "    Z =clf.predict(np.c_[xx.ravel(),yy.ravel()]) #combine two vectors/matrices by column\n",
    "    \n",
    "    #reshape Z so that it can be plotted as a contour plot\n",
    "    Z = Z.reshape(xx.shape)\n",
    "    axarr[idx[0],idx[1]].contourf(xx,yy,Z,alpha=0.3)\n",
    "    \n",
    "    #compare the decision region and the training data\n",
    "    axarr[idx[0],idx[1]].scatter(X_train_std[y_train==0,0],\n",
    "                                 X_train_std[y_train==0,1],\n",
    "                                 c='blue',\n",
    "                                 marker='^',\n",
    "                                 s=50)\n",
    "    axarr[idx[0],idx[1]].scatter(X_train_std[y_train==1,0],\n",
    "                                 X_train_std[y_train==1,1],\n",
    "                                 c='green',\n",
    "                                 marker='o',\n",
    "                                 s=50)\n",
    "    #title of each subplot\n",
    "    axarr[idx[0],idx[1]].set_title(tt)\n",
    "\n",
    "#legend\n",
    "plt.text(-3.5,-5.,s='Sepal width [standardized]',ha='center',va='center',fontsize=12)\n",
    "plt.text(-12.5,4.5,s='Petal length [standardized]',ha='center',va='center',fontsize=12,rotation=90)\n",
    "\n",
    "plt.show()"
   ]
  },
  {
   "cell_type": "code",
   "execution_count": 12,
   "metadata": {},
   "outputs": [
    {
     "data": {
      "text/plain": [
       "{'pipeline-1': Pipeline(memory=None,\n",
       "      steps=[('sc', StandardScaler(copy=True, with_mean=True, with_std=True)), ['clf', LogisticRegression(C=0.001, class_weight=None, dual=False, fit_intercept=True,\n",
       "           intercept_scaling=1, max_iter=100, multi_class='ovr', n_jobs=1,\n",
       "           penalty='l2', random_state=1, solver='liblinear', tol=0.0001,\n",
       "           verbose=0, warm_start=False)]]),\n",
       " 'decisiontreeclassifier': DecisionTreeClassifier(class_weight=None, criterion='entropy', max_depth=1,\n",
       "             max_features=None, max_leaf_nodes=None,\n",
       "             min_impurity_decrease=0.0, min_impurity_split=None,\n",
       "             min_samples_leaf=1, min_samples_split=2,\n",
       "             min_weight_fraction_leaf=0.0, presort=False, random_state=0,\n",
       "             splitter='best'),\n",
       " 'pipeline-2': Pipeline(memory=None,\n",
       "      steps=[('sc', StandardScaler(copy=True, with_mean=True, with_std=True)), ['clf', KNeighborsClassifier(algorithm='auto', leaf_size=30, metric='minkowski',\n",
       "            metric_params=None, n_jobs=1, n_neighbors=1, p=2,\n",
       "            weights='uniform')]]),\n",
       " 'pipeline-1__memory': None,\n",
       " 'pipeline-1__steps': [('sc',\n",
       "   StandardScaler(copy=True, with_mean=True, with_std=True)),\n",
       "  ['clf',\n",
       "   LogisticRegression(C=0.001, class_weight=None, dual=False, fit_intercept=True,\n",
       "             intercept_scaling=1, max_iter=100, multi_class='ovr', n_jobs=1,\n",
       "             penalty='l2', random_state=1, solver='liblinear', tol=0.0001,\n",
       "             verbose=0, warm_start=False)]],\n",
       " 'pipeline-1__sc': StandardScaler(copy=True, with_mean=True, with_std=True),\n",
       " 'pipeline-1__clf': LogisticRegression(C=0.001, class_weight=None, dual=False, fit_intercept=True,\n",
       "           intercept_scaling=1, max_iter=100, multi_class='ovr', n_jobs=1,\n",
       "           penalty='l2', random_state=1, solver='liblinear', tol=0.0001,\n",
       "           verbose=0, warm_start=False),\n",
       " 'pipeline-1__sc__copy': True,\n",
       " 'pipeline-1__sc__with_mean': True,\n",
       " 'pipeline-1__sc__with_std': True,\n",
       " 'pipeline-1__clf__C': 0.001,\n",
       " 'pipeline-1__clf__class_weight': None,\n",
       " 'pipeline-1__clf__dual': False,\n",
       " 'pipeline-1__clf__fit_intercept': True,\n",
       " 'pipeline-1__clf__intercept_scaling': 1,\n",
       " 'pipeline-1__clf__max_iter': 100,\n",
       " 'pipeline-1__clf__multi_class': 'ovr',\n",
       " 'pipeline-1__clf__n_jobs': 1,\n",
       " 'pipeline-1__clf__penalty': 'l2',\n",
       " 'pipeline-1__clf__random_state': 1,\n",
       " 'pipeline-1__clf__solver': 'liblinear',\n",
       " 'pipeline-1__clf__tol': 0.0001,\n",
       " 'pipeline-1__clf__verbose': 0,\n",
       " 'pipeline-1__clf__warm_start': False,\n",
       " 'decisiontreeclassifier__class_weight': None,\n",
       " 'decisiontreeclassifier__criterion': 'entropy',\n",
       " 'decisiontreeclassifier__max_depth': 1,\n",
       " 'decisiontreeclassifier__max_features': None,\n",
       " 'decisiontreeclassifier__max_leaf_nodes': None,\n",
       " 'decisiontreeclassifier__min_impurity_decrease': 0.0,\n",
       " 'decisiontreeclassifier__min_impurity_split': None,\n",
       " 'decisiontreeclassifier__min_samples_leaf': 1,\n",
       " 'decisiontreeclassifier__min_samples_split': 2,\n",
       " 'decisiontreeclassifier__min_weight_fraction_leaf': 0.0,\n",
       " 'decisiontreeclassifier__presort': False,\n",
       " 'decisiontreeclassifier__random_state': 0,\n",
       " 'decisiontreeclassifier__splitter': 'best',\n",
       " 'pipeline-2__memory': None,\n",
       " 'pipeline-2__steps': [('sc',\n",
       "   StandardScaler(copy=True, with_mean=True, with_std=True)),\n",
       "  ['clf',\n",
       "   KNeighborsClassifier(algorithm='auto', leaf_size=30, metric='minkowski',\n",
       "              metric_params=None, n_jobs=1, n_neighbors=1, p=2,\n",
       "              weights='uniform')]],\n",
       " 'pipeline-2__sc': StandardScaler(copy=True, with_mean=True, with_std=True),\n",
       " 'pipeline-2__clf': KNeighborsClassifier(algorithm='auto', leaf_size=30, metric='minkowski',\n",
       "            metric_params=None, n_jobs=1, n_neighbors=1, p=2,\n",
       "            weights='uniform'),\n",
       " 'pipeline-2__sc__copy': True,\n",
       " 'pipeline-2__sc__with_mean': True,\n",
       " 'pipeline-2__sc__with_std': True,\n",
       " 'pipeline-2__clf__algorithm': 'auto',\n",
       " 'pipeline-2__clf__leaf_size': 30,\n",
       " 'pipeline-2__clf__metric': 'minkowski',\n",
       " 'pipeline-2__clf__metric_params': None,\n",
       " 'pipeline-2__clf__n_jobs': 1,\n",
       " 'pipeline-2__clf__n_neighbors': 1,\n",
       " 'pipeline-2__clf__p': 2,\n",
       " 'pipeline-2__clf__weights': 'uniform'}"
      ]
     },
     "execution_count": 12,
     "metadata": {},
     "output_type": "execute_result"
    }
   ],
   "source": [
    "#Call the get_params method\n",
    "#Get a basic idea of how we can access the indivdual parameters inside a GridSearch object\n",
    "\n",
    "mv_clf.get_params()"
   ]
  },
  {
   "cell_type": "code",
   "execution_count": 13,
   "metadata": {},
   "outputs": [
    {
     "name": "stdout",
     "output_type": "stream",
     "text": [
      "0.933 +/- 0.07 {'decisiontreeclassifier__max_depth': 1, 'pipeline-1__clf__C': 0.001}\n",
      "0.947 +/- 0.07 {'decisiontreeclassifier__max_depth': 1, 'pipeline-1__clf__C': 0.1}\n",
      "0.973 +/- 0.04 {'decisiontreeclassifier__max_depth': 1, 'pipeline-1__clf__C': 100}\n",
      "0.947 +/- 0.07 {'decisiontreeclassifier__max_depth': 2, 'pipeline-1__clf__C': 0.001}\n",
      "0.947 +/- 0.07 {'decisiontreeclassifier__max_depth': 2, 'pipeline-1__clf__C': 0.1}\n",
      "0.973 +/- 0.04 {'decisiontreeclassifier__max_depth': 2, 'pipeline-1__clf__C': 100}\n"
     ]
    }
   ],
   "source": [
    "#Based on the values returned by the get_params method,\n",
    "#we noe know how to access the individual classifier's attributes(?????)\n",
    "\n",
    "#Tune the inverese regularization parameter C of the logistic regression classifier\n",
    "#and the decision tree depth\n",
    "#via a grid search\n",
    "\n",
    "from sklearn.model_selection import GridSearchCV\n",
    "\n",
    "params = {'decisiontreeclassifier__max_depth':[1,2],\n",
    "          'pipeline-1__clf__C':[0.001,0.1,100]}\n",
    "\n",
    "grid = GridSearchCV(estimator=mv_clf,param_grid=params,cv=10,scoring='roc_auc')\n",
    "\n",
    "grid.fit(X_train,y_train)\n",
    "\n",
    "#after the grid search has completed\n",
    "#we can print the different hyperparameter value combinations and \n",
    "#the average ROC AUC computed via 10-fold cross-validation\n",
    "\n",
    "for r, _ in enumerate(grid.cv_results_['mean_test_score']):\n",
    "    print(\"%.3f +/- %.2f %r\" % (grid.cv_results_['mean_test_score'][r],\n",
    "                                grid.cv_results_['std_test_score'][r]/2.0,\n",
    "                                grid.cv_results_['params'][r]))\n",
    "    "
   ]
  },
  {
   "cell_type": "code",
   "execution_count": 14,
   "metadata": {},
   "outputs": [
    {
     "name": "stdout",
     "output_type": "stream",
     "text": [
      "Best parameters: {'decisiontreeclassifier__max_depth': 1, 'pipeline-1__clf__C': 100}\n",
      "Accuracy: 0.97\n"
     ]
    }
   ],
   "source": [
    "#print the best cross-validation score and the corresponding parameters\n",
    "\n",
    "print('Best parameters: %s' % grid.best_params_)\n",
    "print('Accuracy: %.2f' % grid.best_score_)\n",
    "\n",
    "#As we can see, lower regularization strength, better cross-validation result\n",
    "#tree depth seems to be irrelevent to the performance\n",
    "\n",
    "#Noted it is a bad practice to use the test dataset more than onece for model evaluation"
   ]
  },
  {
   "cell_type": "markdown",
   "metadata": {},
   "source": [
    "Note\n",
    "By default, the default setting for refit in GridSearchCV is True (i.e., GridSeachCV(..., refit=True)), which means that we can use the fitted GridSearchCV estimator to make predictions via the predict method, for example:\n",
    "\n",
    "grid = GridSearchCV(estimator=mv_clf, \n",
    "                    param_grid=params, \n",
    "                    cv=10, \n",
    "                    scoring='roc_auc')\n",
    "grid.fit(X_train, y_train)\n",
    "y_pred = grid.predict(X_test)\n",
    "\n",
    "In addition, the \"best\" estimator can directly be accessed via the best_estimator_ attribute.\n"
   ]
  },
  {
   "cell_type": "code",
   "execution_count": 15,
   "metadata": {},
   "outputs": [
    {
     "data": {
      "text/plain": [
       "[Pipeline(memory=None,\n",
       "      steps=[('sc', StandardScaler(copy=True, with_mean=True, with_std=True)), ['clf', LogisticRegression(C=100, class_weight=None, dual=False, fit_intercept=True,\n",
       "           intercept_scaling=1, max_iter=100, multi_class='ovr', n_jobs=1,\n",
       "           penalty='l2', random_state=1, solver='liblinear', tol=0.0001,\n",
       "           verbose=0, warm_start=False)]]),\n",
       " DecisionTreeClassifier(class_weight=None, criterion='entropy', max_depth=1,\n",
       "             max_features=None, max_leaf_nodes=None,\n",
       "             min_impurity_decrease=0.0, min_impurity_split=None,\n",
       "             min_samples_leaf=1, min_samples_split=2,\n",
       "             min_weight_fraction_leaf=0.0, presort=False, random_state=0,\n",
       "             splitter='best'),\n",
       " Pipeline(memory=None,\n",
       "      steps=[('sc', StandardScaler(copy=True, with_mean=True, with_std=True)), ['clf', KNeighborsClassifier(algorithm='auto', leaf_size=30, metric='minkowski',\n",
       "            metric_params=None, n_jobs=1, n_neighbors=1, p=2,\n",
       "            weights='uniform')]])]"
      ]
     },
     "execution_count": 15,
     "metadata": {},
     "output_type": "execute_result"
    }
   ],
   "source": [
    "grid.best_estimator_.classifiers"
   ]
  },
  {
   "cell_type": "code",
   "execution_count": 16,
   "metadata": {},
   "outputs": [],
   "source": [
    "mv_clf = grid.best_estimator_"
   ]
  },
  {
   "cell_type": "code",
   "execution_count": 17,
   "metadata": {},
   "outputs": [
    {
     "data": {
      "text/plain": [
       "MajorityVoteClassifier(classifiers=[Pipeline(memory=None,\n",
       "     steps=[('sc', StandardScaler(copy=True, with_mean=True, with_std=True)), ('clf', LogisticRegression(C=100, class_weight=None, dual=False, fit_intercept=True,\n",
       "          intercept_scaling=1, max_iter=100, multi_class='ovr', n_jobs=1,\n",
       "          penalty='l2', rand...ski',\n",
       "           metric_params=None, n_jobs=1, n_neighbors=1, p=2,\n",
       "           weights='uniform'))])],\n",
       "            vote='classlabel', weights=None)"
      ]
     },
     "execution_count": 17,
     "metadata": {},
     "output_type": "execute_result"
    }
   ],
   "source": [
    "mv_clf.set_params(**grid.best_estimator_.get_params())"
   ]
  },
  {
   "cell_type": "code",
   "execution_count": 18,
   "metadata": {},
   "outputs": [
    {
     "data": {
      "text/plain": [
       "MajorityVoteClassifier(classifiers=[Pipeline(memory=None,\n",
       "     steps=[('sc', StandardScaler(copy=True, with_mean=True, with_std=True)), ('clf', LogisticRegression(C=100, class_weight=None, dual=False, fit_intercept=True,\n",
       "          intercept_scaling=1, max_iter=100, multi_class='ovr', n_jobs=1,\n",
       "          penalty='l2', rand...ski',\n",
       "           metric_params=None, n_jobs=1, n_neighbors=1, p=2,\n",
       "           weights='uniform'))])],\n",
       "            vote='classlabel', weights=None)"
      ]
     },
     "execution_count": 18,
     "metadata": {},
     "output_type": "execute_result"
    }
   ],
   "source": [
    "mv_clf"
   ]
  },
  {
   "cell_type": "code",
   "execution_count": 24,
   "metadata": {},
   "outputs": [
    {
     "name": "stdout",
     "output_type": "stream",
     "text": [
      "Decision tree train/test accuracies 1.000/0.833\n",
      "Bagging train/test accuracies 1.000/0.917\n"
     ]
    }
   ],
   "source": [
    "#Bagging: bootstrap aggregating\n",
    "#draw bootstrap samples (random samples with replacements) from the initial training set\n",
    "\n",
    "#Random forests: special case of bagging, not only random sample subsets but also random feature subsets when fitting the individual decision tree\n",
    "\n",
    "#Create a more complex classification problem using the Wine dataset\n",
    "\n",
    "#we only consider the Wine classes 2 and 3:\n",
    "#select two features: Alcohol and OD280/OD315 of diluted wines\n",
    "\n",
    "import pandas as pd\n",
    "\n",
    "df_wine = pd.read_csv('https://archive.ics.uci.edu/ml/'\n",
    "                      'machine-learning-databases/wine/wine.data',\n",
    "                      header=None)\n",
    "\n",
    "df_wine.columns = ['Class label', 'Alcohol', 'Malic acid', 'Ash',\n",
    "                   'Alcalinity of ash', 'Magnesium', 'Total phenols',\n",
    "                   'Flavanoids', 'Nonflavanoid phenols', 'Proanthocyanins',\n",
    "                   'Color intensity', 'Hue', 'OD280/OD315 of diluted wines',\n",
    "                   'Proline']\n",
    "\n",
    "#drop 1 class\n",
    "#we only consider the Wine classes 2 and 3:\n",
    "df_wine = df_wine[df_wine['Class label'] != 1]\n",
    "\n",
    "#select two features: Alcohol and OD280/OD315 of diluted wines\n",
    "y = df_wine['Class label'].values\n",
    "X = df_wine[['Alcohol','OD280/OD315 of diluted wines']].values\n",
    "\n",
    "\n",
    "#encode the class labels into binary format\n",
    "#and split the dataset into 80% training and 20% test sets respectively\n",
    "from sklearn.preprocessing import LabelEncoder\n",
    "from sklearn.model_selection import train_test_split\n",
    "\n",
    "le = LabelEncoder()\n",
    "y = le.fit_transform(y)\n",
    "\n",
    "X_train, X_test, y_train, y_test = train_test_split(X, y, test_size=.2,\n",
    "                                                    random_state=1, stratify=y)\n",
    "\n",
    "#BaggingClassifier is already implemented in scikit-learn\n",
    "#import from the ensemble submodule\n",
    "\n",
    "#Here, we will use an unpruned decision tree as the base classifier\n",
    "#create an ensemble of 500 decision trees fit on different bootstrap samples of the training dataset\n",
    "\n",
    "from sklearn.ensemble import BaggingClassifier\n",
    "from sklearn.tree import DecisionTreeClassifier\n",
    "\n",
    "tree = DecisionTreeClassifier(criterion = 'entropy',\n",
    "                              max_depth = None,\n",
    "                              random_state = 1)\n",
    "\n",
    "bag = BaggingClassifier(base_estimator = tree,\n",
    "                        n_estimators = 500,\n",
    "                        max_samples = 1.0,\n",
    "                        max_features = 1.0,\n",
    "                        bootstrap = True,\n",
    "                        bootstrap_features = False,\n",
    "                        n_jobs = 1,\n",
    "                        random_state = 1)\n",
    "\n",
    "\n",
    "#Calculate the accuracy socre of the prediction on the training and test data set\n",
    "#to compare the performance of the bagging classifier to the performance of a single unpruned decision tree\n",
    "\n",
    "from sklearn.metrics import accuracy_score\n",
    "\n",
    "tree = tree.fit(X_train,y_train)\n",
    "y_train_pred = tree.predict(X_train)\n",
    "y_test_pred = tree.predict(X_test)\n",
    "\n",
    "tree_train = accuracy_score(y_train, y_train_pred)\n",
    "tree_test = accuracy_score(y_test, y_test_pred)\n",
    "\n",
    "print('Decision tree train/test accuracies %.3f/%.3f'\n",
    "      % (tree_train,tree_test))\n",
    "\n",
    "\n",
    "bag = bag.fit(X_train, y_train)\n",
    "y_train_pred = bag.predict(X_train)\n",
    "y_test_pred = bag.predict(X_test)\n",
    "\n",
    "bag_train = accuracy_score(y_train, y_train_pred)\n",
    "bag_test = accuracy_score(y_test, y_test_pred)\n",
    "#we can see that the bagging classifier has a slightly better generalization performance\n",
    "print('Bagging train/test accuracies %.3f/%.3f'\n",
    "      %(bag_train,bag_test))"
   ]
  },
  {
   "cell_type": "code",
   "execution_count": 27,
   "metadata": {},
   "outputs": [
    {
     "data": {
      "image/png": "[encoded data removed]",
      "text/plain": [
       "<Figure size 576x216 with 2 Axes>"
      ]
     },
     "metadata": {},
     "output_type": "display_data"
    }
   ],
   "source": [
    "#Compare the decision regions\n",
    "#between the decision tree and the bagging classifier\n",
    "\n",
    "import numpy as np\n",
    "import matplotlib.pyplot as plt\n",
    "\n",
    "#preparing the meshgrid\n",
    "x_min = X_train[:,0].min()-1\n",
    "x_max = X_train[:,0].max()+1\n",
    "y_min = X_train[:,1].min()-1\n",
    "y_max = X_train[:,1].max()+1\n",
    "\n",
    "xx, yy = np.meshgrid(np.arange(x_min,x_max,0.1),\n",
    "                     np.arange(y_min,y_max,0.1))\n",
    "\n",
    "#setting the subplots\n",
    "f, axarr = plt.subplots(nrows = 1, ncols = 2,\n",
    "                       sharex = 'col',\n",
    "                       sharey = 'row',\n",
    "                       figsize = (8,3))\n",
    "\n",
    "#plotting the data on the subplots\n",
    "for idx, clf, tt in zip([0,1],[tree,bag],['Decision tree','Bagging']):\n",
    "    clf.fit(X_train,y_train)\n",
    "    \n",
    "    Z = clf.predict(np.c_[xx.ravel(),yy.ravel()])\n",
    "    Z = Z.reshape(xx.shape)\n",
    "    \n",
    "    axarr[idx].contourf(xx,yy,Z,alpha=.3)\n",
    "    axarr[idx].scatter(X_train[y_train==0,0],\n",
    "                       X_train[y_train==0,1],\n",
    "                       c = 'blue', marker = '^')\n",
    "    axarr[idx].scatter(X_train[y_train==1,0],\n",
    "                       X_train[y_train==1,1],\n",
    "                       c = 'green', marker = 'o')\n",
    "    axarr[idx].set_title(tt)\n",
    "    \n",
    "#legend stuff\n",
    "axarr[0].set_ylabel('Alcohol',fontsize = 12)\n",
    "plt.text(10.2,-0.5,s='OD28N/0D315 of diluted wines',\n",
    "         ha = 'center', va = 'center', fontsize = 12)\n",
    "\n",
    "plt.tight_layout()\n",
    "plt.show()\n",
    "\n",
    "#We only looked at a very simple bagging example\n",
    "#more complex classification tasks and a dataset's high dimensionality can easily lead to overfitting in single decision tree\n",
    "#bagging can play to its strength.\n",
    "\n",
    "#Noted that bagging is good at reduce the variance of a model,\n",
    "#but cannot reduce the bias\n",
    "\n",
    "#Bagging + emsemble"
   ]
  },
  {
   "cell_type": "code",
   "execution_count": 30,
   "metadata": {},
   "outputs": [
    {
     "name": "stdout",
     "output_type": "stream",
     "text": [
      "Decision tree train/test accuracies 0.916/0.875\n",
      "AdaBoost train/test accuracies 1.000/0.917\n"
     ]
    }
   ],
   "source": [
    "#Leveraging weak learners via adaptive boosting\n",
    "\n",
    "#boosting and AdaBoost (Adaptive Boosting)\n",
    "\n",
    "#Boosting:\n",
    "# The ensample consist of very simple base classifiers, also often referred to as Weak learner\n",
    "# which often only have a slight performance advantage over random guessing\n",
    "# boosting is to focuse on the training samples that are hard to classify\n",
    "# to let the weak learners subsequently learn from misclassified training samples to improve the performance of the ensemble\n",
    "# theoretically, decrease in bias and variance\n",
    "# but AdaBoost is also known for their high variance (overfit)\n",
    "\n",
    "#How boosting works?\n",
    "# the initial formulation of boosting: uses random subsets of training samples drawn from the training dataset without replacement\n",
    "# 1. draw a random subset of training samples d_1 without replacement from training set D to train a weak learner C_1\n",
    "# 2. draw a second random training subsets d_2 without replacement from the training set and add 50% of the samples that were previously misclassified to train a weak learner C_2\n",
    "# 3. find the training samples d_3 in training set D, which C_1 and C_2 disagree upon, to train a third weak learner C_3\n",
    "# 4. combine the weak learners C_1, C_2, and C_3 via majority voting.\n",
    "\n",
    "#AdaBoost\n",
    "# use the complete training set to train the weak learners\n",
    "# where the training samples are reweighted in each iteration to build a strong classifier\n",
    "# that learns from the mistake of the previous weak learners in the ensemble.\n",
    "# combine the three weak learners trained on different reweighted training subsets by a weighted marjority vote\n",
    "\n",
    "#AdaBoost Steps:\n",
    "# 1. set the weight vector w to uniform weights\n",
    "# 2. For j in m boosting rounds:\n",
    "#    a. Train a weighted weak learner\n",
    "#    b. Predict class labels\n",
    "#    c. Compute weighted error rate\n",
    "#    d. Compute coefficient\n",
    "#    e. Update weights\n",
    "#    f. Normalize weights to sum to 1\n",
    "# 3. Compute the final prediction\n",
    "\n",
    "#Applying AdaBoost using scikit-learn\n",
    "\n",
    "# use the same Wine subset that we used in the previous section to train the bagging meta-classifier\n",
    "# via the base_estimator attribute, we will train the AdaBoostClassifier on 500 decision tree stumps\n",
    "\n",
    "from sklearn.ensemble import AdaBoostClassifier\n",
    "\n",
    "tree = DecisionTreeClassifier(criterion='entropy',max_depth=1,random_state=1)\n",
    "ada = AdaBoostClassifier(base_estimator=tree,n_estimators=500,learning_rate=0.1,random_state=1)\n",
    "\n",
    "tree = tree.fit(X_train,y_train)\n",
    "y_train_pred = tree.predict(X_train)\n",
    "y_test_pred = tree.predict(X_test)\n",
    "\n",
    "tree_train = accuracy_score(y_train,y_train_pred)\n",
    "tree_test = accuracy_score(y_test,y_test_pred)\n",
    "\n",
    "print('Decision tree train/test accuracies %.3f/%.3f' %(tree_train,tree_test))\n",
    "\n",
    "ada = ada.fit(X_train, y_train)\n",
    "y_train_pred = ada.predict(X_train)\n",
    "y_test_pred = ada.predict(X_test)\n",
    "\n",
    "ada_train = accuracy_score(y_train, y_train_pred)\n",
    "ada_test = accuracy_score(y_test,y_test_pred)\n",
    "\n",
    "print('AdaBoost train/test accuracies %.3f/%.3f'\n",
    "      % (ada_train,ada_test))\n",
    "\n",
    "#AdaBoost shows a slightly improved test set performance compared to the decision tree stump\n",
    "# but also introduce additional variance - a higher gap between training and test performance\n",
    "\n",
    "#But noted that is a bad practice to select a model based on the repeated usage of the test set\n",
    "# the estimate may be over-optimistic"
   ]
  },
  {
   "cell_type": "code",
   "execution_count": 33,
   "metadata": {},
   "outputs": [
    {
     "data": {
      "image/png": "[encoded data removed]",
      "text/plain": [
       "<Figure size 576x216 with 2 Axes>"
      ]
     },
     "metadata": {},
     "output_type": "display_data"
    }
   ],
   "source": [
    "#Check the decision regions:\n",
    "\n",
    "\n",
    "x_min, x_max = X_train[:,0].min()-1, X_train[:,0].max()+1\n",
    "y_min, y_max = X_train[:,1].min()-1, X_train[:,1].max()+1\n",
    "\n",
    "xx, yy = np.meshgrid(np.arange(x_min,x_max,0.1),\n",
    "                     np.arange(y_min,y_max,0.1))\n",
    "\n",
    "f, axarr = plt.subplots(nrows = 1, ncols = 2,\n",
    "                       sharex = 'col',sharey = 'row', figsize = (8,3))\n",
    "\n",
    "for idx, clf, tt in zip([0,1],\n",
    "                        [tree, ada],\n",
    "                        ['Decision tree','AdaBoost']):\n",
    "    clf.fit(X_train,y_train)\n",
    "    \n",
    "    Z = clf.predict(np.c_[xx.ravel(),yy.ravel()])\n",
    "    Z = Z.reshape(xx.shape)\n",
    "    \n",
    "    axarr[idx].contourf(xx,yy,Z,alpha=.3)\n",
    "    axarr[idx].scatter(X_train[y_train==0,0],\n",
    "                       X_train[y_train==0,1],\n",
    "                       c = 'blue', marker = '^')\n",
    "    axarr[idx].scatter(X_train[y_train==1,0],\n",
    "                       X_train[y_train==1,1],\n",
    "                       c = 'green',marker = 'o')\n",
    "    axarr[idx].set_title(tt)\n",
    "axarr[0].set_ylabel('Alcohol', fontsize = 12)\n",
    "\n",
    "plt.text(10.2,-0.5, s = 'OD280/0D315 Of diluted wines',\n",
    "         ha = 'center', va = 'center', fontsize = 12)\n",
    "\n",
    "plt.tight_layout()\n",
    "plt.show()"
   ]
  },
  {
   "cell_type": "code",
   "execution_count": null,
   "metadata": {},
   "outputs": [],
   "source": []
  },
  {
   "cell_type": "code",
   "execution_count": null,
   "metadata": {},
   "outputs": [],
   "source": []
  },
  {
   "cell_type": "code",
   "execution_count": null,
   "metadata": {},
   "outputs": [],
   "source": []
  },
  {
   "cell_type": "code",
   "execution_count": null,
   "metadata": {},
   "outputs": [],
   "source": []
  },
  {
   "cell_type": "code",
   "execution_count": null,
   "metadata": {},
   "outputs": [],
   "source": []
  },
  {
   "cell_type": "code",
   "execution_count": null,
   "metadata": {},
   "outputs": [],
   "source": []
  },
  {
   "cell_type": "code",
   "execution_count": null,
   "metadata": {},
   "outputs": [],
   "source": []
  },
  {
   "cell_type": "code",
   "execution_count": null,
   "metadata": {},
   "outputs": [],
   "source": []
  },
  {
   "cell_type": "code",
   "execution_count": null,
   "metadata": {},
   "outputs": [],
   "source": []
  },
  {
   "cell_type": "code",
   "execution_count": null,
   "metadata": {},
   "outputs": [],
   "source": []
  },
  {
   "cell_type": "code",
   "execution_count": null,
   "metadata": {},
   "outputs": [],
   "source": []
  },
  {
   "cell_type": "code",
   "execution_count": null,
   "metadata": {},
   "outputs": [],
   "source": []
  },
  {
   "cell_type": "code",
   "execution_count": null,
   "metadata": {},
   "outputs": [],
   "source": []
  },
  {
   "cell_type": "code",
   "execution_count": null,
   "metadata": {},
   "outputs": [],
   "source": []
  },
  {
   "cell_type": "code",
   "execution_count": null,
   "metadata": {},
   "outputs": [],
   "source": []
  },
  {
   "cell_type": "code",
   "execution_count": null,
   "metadata": {},
   "outputs": [],
   "source": []
  },
  {
   "cell_type": "code",
   "execution_count": null,
   "metadata": {},
   "outputs": [],
   "source": []
  },
  {
   "cell_type": "code",
   "execution_count": null,
   "metadata": {},
   "outputs": [],
   "source": []
  },
  {
   "cell_type": "code",
   "execution_count": null,
   "metadata": {},
   "outputs": [],
   "source": []
  },
  {
   "cell_type": "code",
   "execution_count": null,
   "metadata": {},
   "outputs": [],
   "source": []
  },
  {
   "cell_type": "code",
   "execution_count": null,
   "metadata": {},
   "outputs": [],
   "source": []
  },
  {
   "cell_type": "code",
   "execution_count": null,
   "metadata": {},
   "outputs": [],
   "source": []
  },
  {
   "cell_type": "code",
   "execution_count": null,
   "metadata": {},
   "outputs": [],
   "source": []
  },
  {
   "cell_type": "code",
   "execution_count": null,
   "metadata": {},
   "outputs": [],
   "source": []
  },
  {
   "cell_type": "code",
   "execution_count": null,
   "metadata": {},
   "outputs": [],
   "source": []
  },
  {
   "cell_type": "raw",
   "metadata": {},
   "source": []
  },
  {
   "cell_type": "code",
   "execution_count": null,
   "metadata": {},
   "outputs": [],
   "source": []
  },
  {
   "cell_type": "code",
   "execution_count": null,
   "metadata": {},
   "outputs": [],
   "source": []
  },
  {
   "cell_type": "code",
   "execution_count": null,
   "metadata": {},
   "outputs": [],
   "source": []
  },
  {
   "cell_type": "code",
   "execution_count": null,
   "metadata": {},
   "outputs": [],
   "source": []
  },
  {
   "cell_type": "code",
   "execution_count": null,
   "metadata": {},
   "outputs": [],
   "source": []
  },
  {
   "cell_type": "code",
   "execution_count": null,
   "metadata": {},
   "outputs": [],
   "source": []
  },
  {
   "cell_type": "code",
   "execution_count": null,
   "metadata": {},
   "outputs": [],
   "source": []
  },
  {
   "cell_type": "code",
   "execution_count": null,
   "metadata": {},
   "outputs": [],
   "source": []
  },
  {
   "cell_type": "code",
   "execution_count": null,
   "metadata": {},
   "outputs": [],
   "source": []
  },
  {
   "cell_type": "code",
   "execution_count": null,
   "metadata": {},
   "outputs": [],
   "source": []
  },
  {
   "cell_type": "code",
   "execution_count": null,
   "metadata": {},
   "outputs": [],
   "source": []
  },
  {
   "cell_type": "code",
   "execution_count": null,
   "metadata": {},
   "outputs": [],
   "source": []
  }
 ],
 "metadata": {
  "kernelspec": {
   "display_name": "Python [conda env:anaconda3]",
   "language": "python",
   "name": "conda-env-anaconda3-py"
  },
  "language_info": {
   "codemirror_mode": {
    "name": "ipython",
    "version": 3
   },
   "file_extension": ".py",
   "mimetype": "text/x-python",
   "name": "python",
   "nbconvert_exporter": "python",
   "pygments_lexer": "ipython3",
   "version": "3.6.5"
  }
 },
 "nbformat": 4,
 "nbformat_minor": 2
}
