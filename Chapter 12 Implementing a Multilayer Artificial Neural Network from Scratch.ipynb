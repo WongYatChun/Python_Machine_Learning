{
 "cells": [
  {
   "cell_type": "markdown",
   "metadata": {},
   "source": [
    "### This chapter will cover:\n",
    "\n",
    "1. Getting a conceptual understanding of multilayer neural network\n",
    "\n",
    "2. Implementing the fundamental backpropagation algorithm for neural network training from scatch\n",
    "\n",
    "3. Training a basic multilayer neural network for image classification"
   ]
  },
  {
   "cell_type": "markdown",
   "metadata": {},
   "source": [
    "# Classifying handwritten digits\n",
    "\n",
    "## Obtaining the MNIST dataset\n",
    "\n",
    "The MNIST dataset is publicly available at http://yann.lecun.com/exdb/mnist/ and consists of the following four parts:\n",
    "\n",
    "- Training set images: train-images-idx3-ubyte.gz (9.9 MB, 47 MB unzipped, 60,000 samples)\n",
    "- Training set labels: train-labels-idx1-ubyte.gz (29 KB, 60 KB unzipped, 60,000 labels)\n",
    "- Test set images: t10k-images-idx3-ubyte.gz (1.6 MB, 7.8 MB, 10,000 samples)\n",
    "- Test set labels: t10k-labels-idx1-ubyte.gz (5 KB, 10 KB unzipped, 10,000 labels)\n",
    "\n",
    "In this section, we will only be working with a subset of MNIST, thus, we only need to download the training set images and training set labels. After downloading the files, I recommend unzipping the files using the Unix/Linux gzip tool from the terminal for efficiency, e.g., using the command \n",
    "\n",
    "    gzip *ubyte.gz -d\n",
    " \n",
    "in your local MNIST download directory, or, using your favorite unzipping tool if you are working with a machine running on Microsoft Windows. The images are stored in byte form, and using the following function, we will read them into NumPy arrays that we will use to train our MLP.\n"
   ]
  },
  {
   "cell_type": "code",
   "execution_count": 8,
   "metadata": {},
   "outputs": [],
   "source": [
    "import os\n",
    "import struct\n",
    "import numpy as np\n",
    "\n",
    "def load_mnist(path, kind = 'train'):\n",
    "    \"\"\"Load MNIST data from `path`\"\"\"\n",
    "    labels_path = os.path.join(path,'%s-labels-idx1-ubyte' % kind)\n",
    "    images_path = os.path.join(path,'%s-images-idx3-ubyte' % kind)\n",
    "    \n",
    "    with open(labels_path, 'rb') as lbpath:\n",
    "        # Unpack the string (presumably packed by pack(fmt, ...)) \n",
    "        # according to the given format. \n",
    "        # The result is a tuple even if it contains exactly one item. \n",
    "        # The string must contain exactly the amount of data required \n",
    "        # by the format (len(string) must equal calcsize(fmt)).\n",
    "        \n",
    "        # `fmt` parameter value '>II'\n",
    "        # '>' big-endian, a sequence of bytes is stored\n",
    "        # 'I' unsigned integer, 4 bytes, 'II' 8 bytes\n",
    "        magic, n = struct.unpack('>II',lbpath.read(8))\n",
    "        labels = np.fromfile(lbpath,dtype = np.uint8)\n",
    "        \n",
    "    with open(images_path, 'rb') as imgpath:\n",
    "        # `fmt` parameter value '>IIII'\n",
    "        # '>' big-endian, a sequence of bytes is stored\n",
    "        # 'I' unsigned integer, 4 bytes, 'IIII' 16 bytes\n",
    "        magic, num, rows, cols = struct.unpack(\">IIII\",imgpath.read(16))\n",
    "        images = np.fromfile(imgpath, dtype = np.uint8).reshape(len(labels),784)\n",
    "        # normalized the pixels values in MNST to the range -1 to 1\n",
    "        # (originally 0 to 255)\n",
    "        # more stable gradient-based optimization\n",
    "        # working with image pixels, centering them at 0 and rescaling them to\n",
    "        # a [-1,1] range is also common and usually works well in practice\n",
    "        images = ( ( images / 255. ) - .5 ) * 2\n",
    "    \n",
    "    return images, labels\n",
    "        "
   ]
  },
  {
   "cell_type": "code",
   "execution_count": 2,
   "metadata": {},
   "outputs": [
    {
     "name": "stdout",
     "output_type": "stream",
     "text": [
      " aclImdb\r\n",
      " aclImdb_v1.tar.gz\r\n",
      "'Chapter 10 Predicting Continuous Target Variables with Regression Analysis.ipynb'\r\n",
      "'Chapter 12 Implementing a Multilayer Artificial Neural Network from Scratch.ipynb'\r\n",
      "'Chapter 2 Trainning Simple Machine Learning Algorithms for Classification.ipynb'\r\n",
      "'Chapter 3 A Tour of Machine Learning Classifiers Using scikit-learn.ipynb'\r\n",
      "'Chapter 4 Building Good Training Sets - Data Preprocessing.ipynb'\r\n",
      "'Chapter 5 Compressing Data via Dimensionality Reduction.ipynb'\r\n",
      "'Chapter 6 Learning Best Practices for Model Evaluation and Hyperparameter Tuning.ipynb'\r\n",
      "'Chapter 7 Combining Different Models for Ensemble Learning.ipynb'\r\n",
      "'Chapter 8 Apply Machine Learning to Sentiment Analysis.ipynb'\r\n",
      " movie_data.csv\r\n",
      " t10k-images-idx3-ubyte\r\n",
      " t10k-labels-idx1-ubyte\r\n",
      " train-images-idx3-ubyte\r\n",
      " train-labels-idx1-ubyte\r\n"
     ]
    }
   ],
   "source": [
    "!ls"
   ]
  },
  {
   "cell_type": "code",
   "execution_count": 5,
   "metadata": {},
   "outputs": [],
   "source": [
    "# unzips mnist\n",
    "\n",
    "import sys\n",
    "import gzip\n",
    "import shutil\n",
    "\n",
    "if (sys.version_info > (3,0)):\n",
    "    writemode = 'wb'\n",
    "else:\n",
    "    writemode = 'w'\n",
    "    \n",
    "zipped_mnist = [f for f in os.listdir('./') if f.endswith('ubyte.gz')]\n",
    "\n",
    "for z in zipped_mnist:\n",
    "    with gzip.GzipFile(z, mode = 'rb') as decompressed, open(z[:,-3],writemode) as outfile:\n",
    "        outfile.write(decompressed.read())"
   ]
  },
  {
   "cell_type": "code",
   "execution_count": 6,
   "metadata": {},
   "outputs": [
    {
     "name": "stdout",
     "output_type": "stream",
     "text": [
      " aclImdb\r\n",
      " aclImdb_v1.tar.gz\r\n",
      "'Chapter 10 Predicting Continuous Target Variables with Regression Analysis.ipynb'\r\n",
      "'Chapter 12 Implementing a Multilayer Artificial Neural Network from Scratch.ipynb'\r\n",
      "'Chapter 2 Trainning Simple Machine Learning Algorithms for Classification.ipynb'\r\n",
      "'Chapter 3 A Tour of Machine Learning Classifiers Using scikit-learn.ipynb'\r\n",
      "'Chapter 4 Building Good Training Sets - Data Preprocessing.ipynb'\r\n",
      "'Chapter 5 Compressing Data via Dimensionality Reduction.ipynb'\r\n",
      "'Chapter 6 Learning Best Practices for Model Evaluation and Hyperparameter Tuning.ipynb'\r\n",
      "'Chapter 7 Combining Different Models for Ensemble Learning.ipynb'\r\n",
      "'Chapter 8 Apply Machine Learning to Sentiment Analysis.ipynb'\r\n",
      " movie_data.csv\r\n",
      " t10k-images-idx3-ubyte\r\n",
      " t10k-labels-idx1-ubyte\r\n",
      " train-images-idx3-ubyte\r\n",
      " train-labels-idx1-ubyte\r\n"
     ]
    }
   ],
   "source": [
    "!ls"
   ]
  },
  {
   "cell_type": "code",
   "execution_count": 10,
   "metadata": {},
   "outputs": [
    {
     "name": "stdout",
     "output_type": "stream",
     "text": [
      "Rows: 60000, columns: 784\n"
     ]
    }
   ],
   "source": [
    "X_train, y_train = load_mnist('', kind = 'train')\n",
    "print('Rows: %d, columns: %d' % (X_train.shape[0], X_train.shape[1]))"
   ]
  },
  {
   "cell_type": "code",
   "execution_count": 11,
   "metadata": {},
   "outputs": [
    {
     "name": "stdout",
     "output_type": "stream",
     "text": [
      "Rows: 10000, columns: 784\n"
     ]
    }
   ],
   "source": [
    "X_test, y_test = load_mnist('', kind = 't10k')\n",
    "print('Rows: %d, columns: %d' % (X_test.shape[0], X_test.shape[1]))"
   ]
  },
  {
   "cell_type": "code",
   "execution_count": 13,
   "metadata": {},
   "outputs": [
    {
     "data": {
      "image/png": "[encoded data removed]",
      "text/plain": [
       "<Figure size 432x288 with 10 Axes>"
      ]
     },
     "metadata": {},
     "output_type": "display_data"
    }
   ],
   "source": [
    "# Visualize the first digit of each class:\n",
    "\n",
    "import matplotlib.pyplot as plt\n",
    "\n",
    "fig, ax = plt.subplots(nrows = 2, ncols = 5, sharex = True, sharey = True)\n",
    "ax = ax.flatten() # 2d array to 1d array\n",
    "\n",
    "for i in range(10):\n",
    "    img = X_train[y_train == i][0].reshape(28,28)\n",
    "    ax[i].imshow(img, cmap = 'Greys')\n",
    "    \n",
    "ax[0].set_xticks([])\n",
    "ax[0].set_yticks([])\n",
    "\n",
    "plt.tight_layout()\n",
    "plt.show()"
   ]
  },
  {
   "cell_type": "code",
   "execution_count": 17,
   "metadata": {},
   "outputs": [
    {
     "data": {
      "image/png": "[encoded data removed]",
      "text/plain": [
       "<Figure size 432x288 with 25 Axes>"
      ]
     },
     "metadata": {},
     "output_type": "display_data"
    }
   ],
   "source": [
    "#visualize 25 different versions of \"7\"\n",
    "\n",
    "fig, ax = plt.subplots(nrows = 5, ncols = 5, sharex = True, sharey = True)\n",
    "ax = ax.flatten()\n",
    "\n",
    "for i in range(25):\n",
    "    img = X_train[y_train == 7][i].reshape(28,28)\n",
    "    ax[i].imshow(img, cmap = 'Greys')\n",
    "    \n",
    "ax[0].set_xticks([])\n",
    "ax[0].set_yticks([])\n",
    "\n",
    "plt.tight_layout()\n",
    "plt.show()"
   ]
  },
  {
   "cell_type": "code",
   "execution_count": 18,
   "metadata": {},
   "outputs": [],
   "source": [
    "# save multidimensional arrays to disk\n",
    "\n",
    "import numpy as np\n",
    "\n",
    "# `savez` optimized for storing NumPy arrays\n",
    "# `savez_compressed` compresses the output file down to substantially smaller file sizes\n",
    "np.savez_compressed('mnist_scaled.npz',\n",
    "                    X_train = X_train,\n",
    "                    y_train = y_train,\n",
    "                    X_test = X_test, \n",
    "                    y_test = y_test)"
   ]
  },
  {
   "cell_type": "code",
   "execution_count": 19,
   "metadata": {},
   "outputs": [
    {
     "data": {
      "text/plain": [
       "['X_train', 'y_train', 'X_test', 'y_test']"
      ]
     },
     "execution_count": 19,
     "metadata": {},
     "output_type": "execute_result"
    }
   ],
   "source": [
    "# load the preprocessed MNIST image arrays\n",
    "\n",
    "mnist = np.load('mnist_scaled.npz')\n",
    "mnist.files"
   ]
  },
  {
   "cell_type": "code",
   "execution_count": 21,
   "metadata": {},
   "outputs": [
    {
     "data": {
      "text/plain": [
       "(60000, 784)"
      ]
     },
     "execution_count": 21,
     "metadata": {},
     "output_type": "execute_result"
    }
   ],
   "source": [
    "X_train, y_train, X_test, y_test = [mnist[f] for f in ['X_train', 'y_train', 'X_test', 'y_test']]\n",
    "\n",
    "del mnist\n",
    "\n",
    "X_train.shape"
   ]
  },
  {
   "cell_type": "markdown",
   "metadata": {},
   "source": [
    "## Implementing a multi-layer perceptron"
   ]
  },
  {
   "cell_type": "code",
   "execution_count": 26,
   "metadata": {},
   "outputs": [],
   "source": [
    "import numpy as np\n",
    "import sys\n",
    "\n",
    "class NeuralNetMLP(object):\n",
    "    \"\"\" Feedforward neural network / Multi-layer perceptron classifier\n",
    "    \n",
    "    Parameters\n",
    "    ------------------------\n",
    "    \n",
    "    n_hidden: int (default: 30)\n",
    "        Number of hidden units\n",
    "    \n",
    "    l2 : float (default: 0.)\n",
    "        Lambda value for L2-regularization\n",
    "        No regularization if l2 = 0 (default)\n",
    "    \n",
    "    epochs : int (default: 100)\n",
    "        Number of passes over the training set\n",
    "    \n",
    "    eta: float (default: True)\n",
    "        Learning rate\n",
    "        \n",
    "    shuffle : bool (default: True)\n",
    "        Shuffles training data ever epoch if True to prevent circles\n",
    "        \n",
    "    minibatch_size : int (default: 1)\n",
    "        Number of training samples per minibatch\n",
    "    \n",
    "    seed : int (default: None)\n",
    "        Random seed for initializing weights and shuffling\n",
    "        \n",
    "    Attributes\n",
    "    -----------------------\n",
    "    \n",
    "    eval_ : dict\n",
    "        Dictionary collecting the cost, training accuracy\n",
    "        and validation accuracy for each epoch during training\n",
    "    \n",
    "    \"\"\"\n",
    "    \n",
    "    def __init__(self, n_hidden = 30, l2 = 0., epochs = 100,\n",
    "                 eta = 0.001, shuffle = True, minibatch_size = 1,\n",
    "                 seed = None):\n",
    "        self.random = np.random.RandomState(seed)\n",
    "        self.n_hidden = n_hidden\n",
    "        self.l2 = l2\n",
    "        self.epochs = epochs\n",
    "        self.eta = eta\n",
    "        self.shuffle = shuffle\n",
    "        self.minibatch_size = minibatch_size\n",
    "        \n",
    "    def _onehot(self, y, n_classes):\n",
    "        \"\"\"Encode labels into one-hot representation\n",
    "        \n",
    "        Parameters\n",
    "        ------------------\n",
    "        y: array, shape = [n_samples]\n",
    "            Target values\n",
    "        \n",
    "        Returns\n",
    "        -------------------\n",
    "        onehot: array, shape = (n_samples, n_labels)\n",
    "        \n",
    "        \"\"\"\n",
    "        onehot = np.zeros((n_classes, y.shape[0]))\n",
    "        for idx, val in enumerate(y.astype(int)):\n",
    "            onehot[val,idx] = 1.\n",
    "        return onehot.T\n",
    "    \n",
    "    def _sigmoid(self, z):\n",
    "        \"\"\"Compute logistic function (sigmoid)\"\"\"\n",
    "        # `np.clip` restricts z to be [-250, 250]\n",
    "        return 1./(1. + np.exp(-np.clip(z,-250,250)))\n",
    "    \n",
    "    def _forward(self, X):\n",
    "        \"\"\"Compute forward propagation step\"\"\"\n",
    "        \n",
    "        # step 1: net input of hidden layer\n",
    "        # [n_samples, n_features] dot [n_features, n_hidden]\n",
    "        # -> [n_samples, n_hidden]\n",
    "        z_h = np.dot(X, self.w_h) +self.b_h\n",
    "        \n",
    "        # step 2: activation of hidden layer\n",
    "        a_h = self._sigmoid(z_h)\n",
    "        \n",
    "        # step 3: net input of output layer\n",
    "        # [n_samples, n_hidden] dot [n_hidden, n_classlabels]\n",
    "        # -> [n_samples, n_hidden]\n",
    "        z_out = np.dot(a_h, self.w_out) + self.b_out\n",
    "        \n",
    "        # step 4: activation output layer\n",
    "        a_out = self._sigmoid(z_out)\n",
    "        \n",
    "        return z_h, a_h, z_out, a_out\n",
    "    \n",
    "    def _compute_cost(self, y_enc, output):\n",
    "        \"\"\"Compute cost function\n",
    "        \n",
    "        Parameters\n",
    "        --------------------\n",
    "        y_enc : array, shape = (n_samples, n_labels)\n",
    "            one-hot ecoded class labels\n",
    "            \n",
    "        output : array, shape = [n_samples, n_output_units]\n",
    "            Activation of the output layer (forward propagation)\n",
    "            \n",
    "        Returns\n",
    "        --------------------\n",
    "        cost : float\n",
    "            Regularized cost\n",
    "        \n",
    "        \n",
    "        \"\"\"\n",
    "        \n",
    "        L2_term =  self.l2 * (np.sum(self.w_h ** 2.) + np.sum(self.w_out ** 2.))\n",
    "        \n",
    "        term1 = -y_enc * (np.log(output + 1e-5))\n",
    "        term2 = (1. - y_enc) * np.log(1. - output + 1e-5)\n",
    "        \n",
    "        # If you are applying this cost function to other\n",
    "        # datasets where activation\n",
    "        # values maybe become more extreme (closer to zero or 1)\n",
    "        # you may encounter \"ZeroDivisionError\"s due to numerical\n",
    "        # instabilities in Python & NumPy for the current implementation.\n",
    "        # I.e., the code tries to evaluate log(0), which is undefined.\n",
    "        # To address this issue, you could add a small constant to the\n",
    "        # activation values that are passed to the log function.\n",
    "        #\n",
    "        # For example:\n",
    "        #\n",
    "        # term1 = -y_enc * (np.log(output + 1e-5))\n",
    "        # term2 = (1. - y_enc) * np.log(1. - output + 1e-5)\n",
    "        \n",
    "        cost = np.sum(term1 - term2) + L2_term\n",
    "        \n",
    "        return cost\n",
    "    \n",
    "    def predict(self, X):\n",
    "        \"\"\"Predict class labels\n",
    "        \n",
    "        Parameters\n",
    "        ---------------------\n",
    "        X : array, shape = [n_samples, n_features]\n",
    "            Input layer with original features\n",
    "            \n",
    "        Returns:\n",
    "        ---------------------\n",
    "        y_pred : array, shape = [n_samples]\n",
    "            Predicted class labels\n",
    "        \n",
    "        \"\"\"\n",
    "        \n",
    "        z_h, a_h, z_out, a_out = self._forward(X)\n",
    "        y_pred = np.argmax(z_out, axis = 1)\n",
    "        return y_pred\n",
    "    \n",
    "    def fit(self, X_train, y_train, X_valid, y_valid):\n",
    "        \"\"\"Learn weights from training data.\n",
    "        \n",
    "        Parameters\n",
    "        ------------------------\n",
    "        X_train : array, shape = [n_samples, n_features]\n",
    "            Input layer with original features\n",
    "        y_train : array, shape = [n_samples]\n",
    "            Target class labels\n",
    "        X_valid : array, shape = [n_samples, n_features]\n",
    "            Sample features for validation during training\n",
    "        y_valid : array, shape = [n_samples]\n",
    "            Sample labels for validation during training\n",
    "        \n",
    "        Returns:\n",
    "        --------------------------\n",
    "        self\n",
    "        \n",
    "        \"\"\"\n",
    "        \n",
    "        n_output = np.unique(y_train).shape[0] # number of class labels\n",
    "        n_features = X_train.shape[1]\n",
    "        \n",
    "        ###########################################\n",
    "        # Weight initialization\n",
    "        ###########################################\n",
    "        \n",
    "        # weights for input -> hidden\n",
    "        self.b_h = np.zeros(self.n_hidden)\n",
    "        self.w_h = self.random.normal(loc = 0.0, scale = 0.1,\n",
    "                                      size = (n_features, self.n_hidden))\n",
    "        \n",
    "        # weights for hidden -> output\n",
    "        self.b_out = np.zeros(n_output)\n",
    "        self.w_out = self.random.normal(loc = 0.0, scale = 0.1,\n",
    "                                        size = (self.n_hidden, n_output))\n",
    "        \n",
    "        epoch_strlen = len(str(self.epochs)) # for progress formatting\n",
    "        self.eval_ = {'cost' : [], 'train_acc' : [], 'valid_acc': []}\n",
    "        \n",
    "        y_train_enc = self._onehot(y_train, n_output)\n",
    "        \n",
    "        # iterate over training epochs\n",
    "        for i in range(self.epochs):\n",
    "            \n",
    "            # iterate over minibatches\n",
    "            indices = np.arange(X_train.shape[0])\n",
    "            \n",
    "            if self.shuffle:\n",
    "                self.random.shuffle(indices)\n",
    "            for start_idx in range(0, indices.shape[0] - self.minibatch_size+1,\n",
    "                                  self.minibatch_size):\n",
    "                batch_idx = indices[start_idx : start_idx + self.minibatch_size]\n",
    "                \n",
    "                # forward propagation\n",
    "                z_h, a_h, z_out, a_out = self._forward(X_train[batch_idx])\n",
    "                \n",
    "                ########################\n",
    "                # Backpropagation\n",
    "                ########################\n",
    "                \n",
    "                # [n_samples, n_classlabels]\n",
    "                sigma_out = a_out - y_train_enc[batch_idx]\n",
    "                \n",
    "                # [n_samples, n_hidden]\n",
    "                sigmoid_derivative_h = a_h * (1. - a_h)\n",
    "                \n",
    "                # [n_samples, n_classlabels] dot [n_classlabels, n_hidden]\n",
    "                # -> [n_samples, n_hidden]\n",
    "                sigma_h = (np.dot(sigma_out, self.w_out.T) * \n",
    "                           sigmoid_derivative_h)\n",
    "                \n",
    "                # [n_features, n_samples] dot [n_samples, n_hidden]\n",
    "                # -> [n_features, n_hidden]\n",
    "                grad_w_h = np.dot(X_train[batch_idx].T, sigma_h)\n",
    "                grad_b_h = np.sum(sigma_h, axis = 0)\n",
    "                \n",
    "                # [n_hidden, n_samples] dot [n_samples, n_classlabels]\n",
    "                # -> [n_hidden, n_classlabels]\n",
    "                grad_w_out = np.dot(a_h.T, sigma_out)\n",
    "                grad_b_out = np.sum(sigma_out, axis = 0)\n",
    "                \n",
    "                # Regularization and weight updates\n",
    "                delta_w_h = (grad_w_h + self.l2 * self.w_h)\n",
    "                delta_b_h = grad_b_h # bias is not regularized\n",
    "                self.w_h -= self.eta * delta_w_h\n",
    "                self.b_h -= self.eta * delta_b_h\n",
    "                \n",
    "                delta_w_out = (grad_w_out + self.l2 * self.w_out)\n",
    "                delta_b_out = grad_b_out # bias is not regularized\n",
    "                self.w_out -= self.eta * delta_w_out\n",
    "                self.b_out -= self.eta * delta_b_out\n",
    "            \n",
    "            #####################\n",
    "            # Evaluation\n",
    "            #####################\n",
    "            \n",
    "            # Evaluate after each epoch during training\n",
    "            z_h, a_h, z_out, a_out = self._forward(X_train)\n",
    "            \n",
    "            cost = self._compute_cost(y_enc = y_train_enc, output = a_out)\n",
    "            y_train_pred = self.predict(X_train)\n",
    "            y_valid_pred = self.predict(X_valid)\n",
    "            \n",
    "            train_acc = ((np.sum(y_train == y_train_pred)).astype(np.float) / X_train.shape[0])\n",
    "            valid_acc = ((np.sum(y_valid == y_valid_pred)).astype(np.float) / X_valid.shape[0])\n",
    "            \n",
    "            sys.stderr.write('\\r%0*d/%d | Cost: %.2f '\n",
    "                             '| Train/Valid Acc.: %.2f%%/%.2f%% '% \n",
    "                             (epoch_strlen, i+1, self.epochs, cost,\n",
    "                              train_acc*100, valid_acc * 100))\n",
    "            \n",
    "            sys.stderr.flush()\n",
    "            \n",
    "            self.eval_['cost'].append(cost)\n",
    "            self.eval_['train_acc'].append(train_acc)\n",
    "            self.eval_['valid_acc'].append(valid_acc)\n",
    "    \n",
    "        return self\n",
    "\n",
    "\n",
    "    "
   ]
  },
  {
   "cell_type": "code",
   "execution_count": 27,
   "metadata": {},
   "outputs": [
    {
     "name": "stderr",
     "output_type": "stream",
     "text": [
      "200/200 | Cost: 5060.02 | Train/Valid Acc.: 99.28%/97.98%  "
     ]
    },
    {
     "data": {
      "text/plain": [
       "<__main__.NeuralNetMLP at 0x7f2609cac5f8>"
      ]
     },
     "execution_count": 27,
     "metadata": {},
     "output_type": "execute_result"
    }
   ],
   "source": [
    "n_epochs = 200\n",
    "\n",
    "nn = NeuralNetMLP(n_hidden = 100,\n",
    "                  l2 = 0.01,\n",
    "                  epochs = n_epochs,\n",
    "                  eta = 0.0005,\n",
    "                  minibatch_size = 100,\n",
    "                  shuffle = True,\n",
    "                  seed = 1)\n",
    "\n",
    "nn.fit(X_train = X_train[:55000],\n",
    "       y_train = y_train[:55000],\n",
    "       X_valid = X_train[55000:],\n",
    "       y_valid = y_train[55000:])"
   ]
  },
  {
   "cell_type": "markdown",
   "metadata": {},
   "source": [
    "---\n",
    "**Note**\n",
    "\n",
    "In the fit method of the MLP example above,\n",
    "\n",
    "```python\n",
    "\n",
    "for idx in mini:\n",
    "...\n",
    "    # compute gradient via backpropagation\n",
    "    grad1, grad2 = self._get_gradient(a1=a1, a2=a2,\n",
    "                                      a3=a3, z2=z2,\n",
    "                                      y_enc=y_enc[:, idx],\n",
    "                                      w1=self.w1,\n",
    "                                      w2=self.w2)\n",
    "\n",
    "    delta_w1, delta_w2 = self.eta * grad1, self.eta * grad2\n",
    "    self.w1 -= (delta_w1 + (self.alpha * delta_w1_prev))\n",
    "    self.w2 -= (delta_w2 + (self.alpha * delta_w2_prev))\n",
    "    delta_w1_prev, delta_w2_prev = delta_w1, delta_w2\n",
    "```\n",
    "\n",
    "`delta_w1_prev` (same applies to `delta_w2_prev`) is a memory view on `delta_w1` via  \n",
    "\n",
    "```python\n",
    "delta_w1_prev = delta_w1\n",
    "```\n",
    "on the last line. This could be problematic, since updating `delta_w1 = self.eta * grad1` would change `delta_w1_prev` as well when we iterate over the for loop. Note that this is not the case here, because we assign a new array to `delta_w1` in each iteration -- the gradient array times the learning rate:\n",
    "\n",
    "```python\n",
    "delta_w1 = self.eta * grad1\n",
    "```\n",
    "\n",
    "The assignment shown above leaves the `delta_w1_prev` pointing to the \"old\" `delta_w1` array. To illustrates this with a simple snippet, consider the following example:\n"
   ]
  },
  {
   "cell_type": "code",
   "execution_count": 28,
   "metadata": {},
   "outputs": [
    {
     "name": "stdout",
     "output_type": "stream",
     "text": [
      "a & b True\n",
      "a & b False\n"
     ]
    }
   ],
   "source": [
    "import numpy as np\n",
    "\n",
    "a = np.arange(5)\n",
    "b = a\n",
    "print('a & b', np.may_share_memory(a, b))\n",
    "\n",
    "\n",
    "a = np.arange(5)\n",
    "print('a & b', np.may_share_memory(a, b))"
   ]
  },
  {
   "cell_type": "code",
   "execution_count": 29,
   "metadata": {},
   "outputs": [
    {
     "data": {
      "image/png": "[encoded data removed]",
      "text/plain": [
       "<Figure size 432x288 with 1 Axes>"
      ]
     },
     "metadata": {},
     "output_type": "display_data"
    }
   ],
   "source": [
    "import matplotlib.pyplot as plt\n",
    "\n",
    "plt.plot(range(nn.epochs), nn.eval_['cost'])\n",
    "plt.ylabel('Cost')\n",
    "plt.xlabel('Epochs')\n",
    "#plt.savefig('images/12_07.png', dpi=300)\n",
    "plt.show()"
   ]
  },
  {
   "cell_type": "code",
   "execution_count": 30,
   "metadata": {},
   "outputs": [
    {
     "data": {
      "image/png": "[encoded data removed]",
      "text/plain": [
       "<Figure size 432x288 with 1 Axes>"
      ]
     },
     "metadata": {},
     "output_type": "display_data"
    }
   ],
   "source": [
    "plt.plot(range(nn.epochs), nn.eval_['train_acc'], \n",
    "         label='training')\n",
    "plt.plot(range(nn.epochs), nn.eval_['valid_acc'], \n",
    "         label='validation', linestyle='--')\n",
    "plt.ylabel('Accuracy')\n",
    "plt.xlabel('Epochs')\n",
    "plt.legend()\n",
    "#plt.savefig('images/12_08.png', dpi=300)\n",
    "plt.show()"
   ]
  },
  {
   "cell_type": "code",
   "execution_count": 31,
   "metadata": {},
   "outputs": [
    {
     "name": "stdout",
     "output_type": "stream",
     "text": [
      "Test accuracy: 97.54%\n"
     ]
    }
   ],
   "source": [
    "y_test_pred = nn.predict(X_test)\n",
    "acc = (np.sum(y_test == y_test_pred)\n",
    "       .astype(np.float) / X_test.shape[0])\n",
    "\n",
    "print('Test accuracy: %.2f%%' % (acc * 100))"
   ]
  },
  {
   "cell_type": "code",
   "execution_count": 32,
   "metadata": {},
   "outputs": [
    {
     "data": {
      "image/png": "[encoded data removed]",
      "text/plain": [
       "<Figure size 432x288 with 25 Axes>"
      ]
     },
     "metadata": {},
     "output_type": "display_data"
    }
   ],
   "source": [
    "miscl_img = X_test[y_test != y_test_pred][:25]\n",
    "correct_lab = y_test[y_test != y_test_pred][:25]\n",
    "miscl_lab = y_test_pred[y_test != y_test_pred][:25]\n",
    "\n",
    "fig, ax = plt.subplots(nrows=5, ncols=5, sharex=True, sharey=True,)\n",
    "ax = ax.flatten()\n",
    "for i in range(25):\n",
    "    img = miscl_img[i].reshape(28, 28)\n",
    "    ax[i].imshow(img, cmap='Greys', interpolation='nearest')\n",
    "    ax[i].set_title('%d) t: %d p: %d' % (i+1, correct_lab[i], miscl_lab[i]))\n",
    "\n",
    "ax[0].set_xticks([])\n",
    "ax[0].set_yticks([])\n",
    "plt.tight_layout()\n",
    "#plt.savefig('images/12_09.png', dpi=300)\n",
    "plt.show()"
   ]
  },
  {
   "cell_type": "code",
   "execution_count": null,
   "metadata": {},
   "outputs": [],
   "source": []
  },
  {
   "cell_type": "code",
   "execution_count": null,
   "metadata": {},
   "outputs": [],
   "source": []
  },
  {
   "cell_type": "code",
   "execution_count": null,
   "metadata": {},
   "outputs": [],
   "source": []
  },
  {
   "cell_type": "code",
   "execution_count": null,
   "metadata": {},
   "outputs": [],
   "source": []
  },
  {
   "cell_type": "code",
   "execution_count": null,
   "metadata": {},
   "outputs": [],
   "source": []
  },
  {
   "cell_type": "code",
   "execution_count": null,
   "metadata": {},
   "outputs": [],
   "source": []
  },
  {
   "cell_type": "code",
   "execution_count": null,
   "metadata": {},
   "outputs": [],
   "source": []
  },
  {
   "cell_type": "code",
   "execution_count": null,
   "metadata": {},
   "outputs": [],
   "source": []
  },
  {
   "cell_type": "code",
   "execution_count": null,
   "metadata": {},
   "outputs": [],
   "source": []
  },
  {
   "cell_type": "code",
   "execution_count": null,
   "metadata": {},
   "outputs": [],
   "source": []
  },
  {
   "cell_type": "code",
   "execution_count": null,
   "metadata": {},
   "outputs": [],
   "source": []
  },
  {
   "cell_type": "code",
   "execution_count": null,
   "metadata": {},
   "outputs": [],
   "source": []
  },
  {
   "cell_type": "code",
   "execution_count": null,
   "metadata": {},
   "outputs": [],
   "source": []
  },
  {
   "cell_type": "code",
   "execution_count": null,
   "metadata": {},
   "outputs": [],
   "source": []
  },
  {
   "cell_type": "code",
   "execution_count": null,
   "metadata": {},
   "outputs": [],
   "source": []
  }
 ],
 "metadata": {
  "kernelspec": {
   "display_name": "Python [conda root]",
   "language": "python",
   "name": "conda-root-py"
  },
  "language_info": {
   "codemirror_mode": {
    "name": "ipython",
    "version": 3
   },
   "file_extension": ".py",
   "mimetype": "text/x-python",
   "name": "python",
   "nbconvert_exporter": "python",
   "pygments_lexer": "ipython3",
   "version": "3.6.5"
  }
 },
 "nbformat": 4,
 "nbformat_minor": 2
}
