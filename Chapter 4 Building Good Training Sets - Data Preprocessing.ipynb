{
 "cells": [
  {
   "cell_type": "code",
   "execution_count": 1,
   "metadata": {},
   "outputs": [
    {
     "data": {
      "text/html": [
       "<div>\n",
       "<style scoped>\n",
       "    .dataframe tbody tr th:only-of-type {\n",
       "        vertical-align: middle;\n",
       "    }\n",
       "\n",
       "    .dataframe tbody tr th {\n",
       "        vertical-align: top;\n",
       "    }\n",
       "\n",
       "    .dataframe thead th {\n",
       "        text-align: right;\n",
       "    }\n",
       "</style>\n",
       "<table border=\"1\" class=\"dataframe\">\n",
       "  <thead>\n",
       "    <tr style=\"text-align: right;\">\n",
       "      <th></th>\n",
       "      <th>A</th>\n",
       "      <th>B</th>\n",
       "      <th>C</th>\n",
       "      <th>D</th>\n",
       "    </tr>\n",
       "  </thead>\n",
       "  <tbody>\n",
       "    <tr>\n",
       "      <th>0</th>\n",
       "      <td>1.0</td>\n",
       "      <td>2.0</td>\n",
       "      <td>3.0</td>\n",
       "      <td>4.0</td>\n",
       "    </tr>\n",
       "    <tr>\n",
       "      <th>1</th>\n",
       "      <td>5.0</td>\n",
       "      <td>6.0</td>\n",
       "      <td>NaN</td>\n",
       "      <td>8.0</td>\n",
       "    </tr>\n",
       "    <tr>\n",
       "      <th>2</th>\n",
       "      <td>10.0</td>\n",
       "      <td>11.0</td>\n",
       "      <td>12.0</td>\n",
       "      <td>NaN</td>\n",
       "    </tr>\n",
       "  </tbody>\n",
       "</table>\n",
       "</div>"
      ],
      "text/plain": [
       "      A     B     C    D\n",
       "0   1.0   2.0   3.0  4.0\n",
       "1   5.0   6.0   NaN  8.0\n",
       "2  10.0  11.0  12.0  NaN"
      ]
     },
     "execution_count": 1,
     "metadata": {},
     "output_type": "execute_result"
    }
   ],
   "source": [
    "import pandas as pd\n",
    "from io import StringIO\n",
    "import sys\n",
    "\n",
    "\n",
    "csv_data = \\\n",
    "'''A,B,C,D\n",
    "1.0,2.0,3.0,4.0\n",
    "5.0,6.0,,8.0\n",
    "10.0,11.0,12.0,'''\n",
    "\n",
    "df = pd.read_csv(StringIO(csv_data))\n",
    "df"
   ]
  },
  {
   "cell_type": "code",
   "execution_count": 2,
   "metadata": {},
   "outputs": [
    {
     "data": {
      "text/plain": [
       "A    0\n",
       "B    0\n",
       "C    1\n",
       "D    1\n",
       "dtype: int64"
      ]
     },
     "execution_count": 2,
     "metadata": {},
     "output_type": "execute_result"
    }
   ],
   "source": [
    "df.isnull().sum()\n",
    "#isnull() method return a dataframe with Boolean values that\n",
    "#indicate whether a cell contains a numeric value(False) or if the data is missing (True)\n",
    "#Using sum method, we can then return the number of missing values per column\n"
   ]
  },
  {
   "cell_type": "code",
   "execution_count": 3,
   "metadata": {},
   "outputs": [
    {
     "data": {
      "text/plain": [
       "array([[ 1.,  2.,  3.,  4.],\n",
       "       [ 5.,  6., nan,  8.],\n",
       "       [10., 11., 12., nan]])"
      ]
     },
     "execution_count": 3,
     "metadata": {},
     "output_type": "execute_result"
    }
   ],
   "source": [
    "#access the underlying NumPy array via the 'values' attribute\n",
    "df.values"
   ]
  },
  {
   "cell_type": "code",
   "execution_count": 4,
   "metadata": {},
   "outputs": [
    {
     "data": {
      "text/html": [
       "<div>\n",
       "<style scoped>\n",
       "    .dataframe tbody tr th:only-of-type {\n",
       "        vertical-align: middle;\n",
       "    }\n",
       "\n",
       "    .dataframe tbody tr th {\n",
       "        vertical-align: top;\n",
       "    }\n",
       "\n",
       "    .dataframe thead th {\n",
       "        text-align: right;\n",
       "    }\n",
       "</style>\n",
       "<table border=\"1\" class=\"dataframe\">\n",
       "  <thead>\n",
       "    <tr style=\"text-align: right;\">\n",
       "      <th></th>\n",
       "      <th>A</th>\n",
       "      <th>B</th>\n",
       "      <th>C</th>\n",
       "      <th>D</th>\n",
       "    </tr>\n",
       "  </thead>\n",
       "  <tbody>\n",
       "    <tr>\n",
       "      <th>0</th>\n",
       "      <td>1.0</td>\n",
       "      <td>2.0</td>\n",
       "      <td>3.0</td>\n",
       "      <td>4.0</td>\n",
       "    </tr>\n",
       "  </tbody>\n",
       "</table>\n",
       "</div>"
      ],
      "text/plain": [
       "     A    B    C    D\n",
       "0  1.0  2.0  3.0  4.0"
      ]
     },
     "execution_count": 4,
     "metadata": {},
     "output_type": "execute_result"
    }
   ],
   "source": [
    "#Eliminating samples or features with missing values\n",
    "\n",
    "#remove rows that contain missing values\n",
    "\n",
    "df.dropna(axis=0)"
   ]
  },
  {
   "cell_type": "code",
   "execution_count": 5,
   "metadata": {},
   "outputs": [
    {
     "data": {
      "text/html": [
       "<div>\n",
       "<style scoped>\n",
       "    .dataframe tbody tr th:only-of-type {\n",
       "        vertical-align: middle;\n",
       "    }\n",
       "\n",
       "    .dataframe tbody tr th {\n",
       "        vertical-align: top;\n",
       "    }\n",
       "\n",
       "    .dataframe thead th {\n",
       "        text-align: right;\n",
       "    }\n",
       "</style>\n",
       "<table border=\"1\" class=\"dataframe\">\n",
       "  <thead>\n",
       "    <tr style=\"text-align: right;\">\n",
       "      <th></th>\n",
       "      <th>A</th>\n",
       "      <th>B</th>\n",
       "    </tr>\n",
       "  </thead>\n",
       "  <tbody>\n",
       "    <tr>\n",
       "      <th>0</th>\n",
       "      <td>1.0</td>\n",
       "      <td>2.0</td>\n",
       "    </tr>\n",
       "    <tr>\n",
       "      <th>1</th>\n",
       "      <td>5.0</td>\n",
       "      <td>6.0</td>\n",
       "    </tr>\n",
       "    <tr>\n",
       "      <th>2</th>\n",
       "      <td>10.0</td>\n",
       "      <td>11.0</td>\n",
       "    </tr>\n",
       "  </tbody>\n",
       "</table>\n",
       "</div>"
      ],
      "text/plain": [
       "      A     B\n",
       "0   1.0   2.0\n",
       "1   5.0   6.0\n",
       "2  10.0  11.0"
      ]
     },
     "execution_count": 5,
     "metadata": {},
     "output_type": "execute_result"
    }
   ],
   "source": [
    "#remove columns that contain missing values\n",
    "df.dropna(axis=1)"
   ]
  },
  {
   "cell_type": "code",
   "execution_count": 6,
   "metadata": {},
   "outputs": [
    {
     "data": {
      "text/html": [
       "<div>\n",
       "<style scoped>\n",
       "    .dataframe tbody tr th:only-of-type {\n",
       "        vertical-align: middle;\n",
       "    }\n",
       "\n",
       "    .dataframe tbody tr th {\n",
       "        vertical-align: top;\n",
       "    }\n",
       "\n",
       "    .dataframe thead th {\n",
       "        text-align: right;\n",
       "    }\n",
       "</style>\n",
       "<table border=\"1\" class=\"dataframe\">\n",
       "  <thead>\n",
       "    <tr style=\"text-align: right;\">\n",
       "      <th></th>\n",
       "      <th>A</th>\n",
       "      <th>B</th>\n",
       "      <th>C</th>\n",
       "      <th>D</th>\n",
       "    </tr>\n",
       "  </thead>\n",
       "  <tbody>\n",
       "    <tr>\n",
       "      <th>0</th>\n",
       "      <td>1.0</td>\n",
       "      <td>2.0</td>\n",
       "      <td>3.0</td>\n",
       "      <td>4.0</td>\n",
       "    </tr>\n",
       "    <tr>\n",
       "      <th>1</th>\n",
       "      <td>5.0</td>\n",
       "      <td>6.0</td>\n",
       "      <td>NaN</td>\n",
       "      <td>8.0</td>\n",
       "    </tr>\n",
       "    <tr>\n",
       "      <th>2</th>\n",
       "      <td>10.0</td>\n",
       "      <td>11.0</td>\n",
       "      <td>12.0</td>\n",
       "      <td>NaN</td>\n",
       "    </tr>\n",
       "  </tbody>\n",
       "</table>\n",
       "</div>"
      ],
      "text/plain": [
       "      A     B     C    D\n",
       "0   1.0   2.0   3.0  4.0\n",
       "1   5.0   6.0   NaN  8.0\n",
       "2  10.0  11.0  12.0  NaN"
      ]
     },
     "execution_count": 6,
     "metadata": {},
     "output_type": "execute_result"
    }
   ],
   "source": [
    "#only drop rows where all columns are NaN\n",
    "df.dropna(how=\"all\")"
   ]
  },
  {
   "cell_type": "code",
   "execution_count": 7,
   "metadata": {},
   "outputs": [
    {
     "data": {
      "text/html": [
       "<div>\n",
       "<style scoped>\n",
       "    .dataframe tbody tr th:only-of-type {\n",
       "        vertical-align: middle;\n",
       "    }\n",
       "\n",
       "    .dataframe tbody tr th {\n",
       "        vertical-align: top;\n",
       "    }\n",
       "\n",
       "    .dataframe thead th {\n",
       "        text-align: right;\n",
       "    }\n",
       "</style>\n",
       "<table border=\"1\" class=\"dataframe\">\n",
       "  <thead>\n",
       "    <tr style=\"text-align: right;\">\n",
       "      <th></th>\n",
       "      <th>A</th>\n",
       "      <th>B</th>\n",
       "      <th>C</th>\n",
       "      <th>D</th>\n",
       "    </tr>\n",
       "  </thead>\n",
       "  <tbody>\n",
       "    <tr>\n",
       "      <th>0</th>\n",
       "      <td>1.0</td>\n",
       "      <td>2.0</td>\n",
       "      <td>3.0</td>\n",
       "      <td>4.0</td>\n",
       "    </tr>\n",
       "  </tbody>\n",
       "</table>\n",
       "</div>"
      ],
      "text/plain": [
       "     A    B    C    D\n",
       "0  1.0  2.0  3.0  4.0"
      ]
     },
     "execution_count": 7,
     "metadata": {},
     "output_type": "execute_result"
    }
   ],
   "source": [
    "#drop rows that have less than 3 real values\n",
    "df.dropna(thresh=4)"
   ]
  },
  {
   "cell_type": "code",
   "execution_count": 8,
   "metadata": {},
   "outputs": [
    {
     "data": {
      "text/html": [
       "<div>\n",
       "<style scoped>\n",
       "    .dataframe tbody tr th:only-of-type {\n",
       "        vertical-align: middle;\n",
       "    }\n",
       "\n",
       "    .dataframe tbody tr th {\n",
       "        vertical-align: top;\n",
       "    }\n",
       "\n",
       "    .dataframe thead th {\n",
       "        text-align: right;\n",
       "    }\n",
       "</style>\n",
       "<table border=\"1\" class=\"dataframe\">\n",
       "  <thead>\n",
       "    <tr style=\"text-align: right;\">\n",
       "      <th></th>\n",
       "      <th>A</th>\n",
       "      <th>B</th>\n",
       "      <th>C</th>\n",
       "      <th>D</th>\n",
       "    </tr>\n",
       "  </thead>\n",
       "  <tbody>\n",
       "    <tr>\n",
       "      <th>0</th>\n",
       "      <td>1.0</td>\n",
       "      <td>2.0</td>\n",
       "      <td>3.0</td>\n",
       "      <td>4.0</td>\n",
       "    </tr>\n",
       "    <tr>\n",
       "      <th>2</th>\n",
       "      <td>10.0</td>\n",
       "      <td>11.0</td>\n",
       "      <td>12.0</td>\n",
       "      <td>NaN</td>\n",
       "    </tr>\n",
       "  </tbody>\n",
       "</table>\n",
       "</div>"
      ],
      "text/plain": [
       "      A     B     C    D\n",
       "0   1.0   2.0   3.0  4.0\n",
       "2  10.0  11.0  12.0  NaN"
      ]
     },
     "execution_count": 8,
     "metadata": {},
     "output_type": "execute_result"
    }
   ],
   "source": [
    "#only drop rows where NaN appear in specific columns (here: 'C')\n",
    "df.dropna(subset=['C'])"
   ]
  },
  {
   "cell_type": "code",
   "execution_count": 9,
   "metadata": {},
   "outputs": [
    {
     "data": {
      "text/plain": [
       "array([[ 1.,  2.,  3.,  4.],\n",
       "       [ 5.,  6., nan,  8.],\n",
       "       [10., 11., 12., nan]])"
      ]
     },
     "execution_count": 9,
     "metadata": {},
     "output_type": "execute_result"
    }
   ],
   "source": [
    "#Imputing missing values\n",
    "df.values"
   ]
  },
  {
   "cell_type": "code",
   "execution_count": 10,
   "metadata": {},
   "outputs": [
    {
     "data": {
      "text/plain": [
       "array([[ 1. ,  2. ,  3. ,  4. ],\n",
       "       [ 5. ,  6. ,  7.5,  8. ],\n",
       "       [10. , 11. , 12. ,  6. ]])"
      ]
     },
     "execution_count": 10,
     "metadata": {},
     "output_type": "execute_result"
    }
   ],
   "source": [
    "#impute missing values via the column mean\n",
    "from sklearn.preprocessing import Imputer\n",
    "\n",
    "imr = Imputer(missing_values='NaN',strategy='mean',axis=0) #axis = 1 row mean\n",
    "imr = imr.fit(df.values)\n",
    "imputed_data = imr.transform(df.values)\n",
    "\n",
    "imputed_data"
   ]
  },
  {
   "cell_type": "code",
   "execution_count": 11,
   "metadata": {},
   "outputs": [
    {
     "data": {
      "text/html": [
       "<div>\n",
       "<style scoped>\n",
       "    .dataframe tbody tr th:only-of-type {\n",
       "        vertical-align: middle;\n",
       "    }\n",
       "\n",
       "    .dataframe tbody tr th {\n",
       "        vertical-align: top;\n",
       "    }\n",
       "\n",
       "    .dataframe thead th {\n",
       "        text-align: right;\n",
       "    }\n",
       "</style>\n",
       "<table border=\"1\" class=\"dataframe\">\n",
       "  <thead>\n",
       "    <tr style=\"text-align: right;\">\n",
       "      <th></th>\n",
       "      <th>color</th>\n",
       "      <th>size</th>\n",
       "      <th>price</th>\n",
       "      <th>classlabel</th>\n",
       "    </tr>\n",
       "  </thead>\n",
       "  <tbody>\n",
       "    <tr>\n",
       "      <th>0</th>\n",
       "      <td>green</td>\n",
       "      <td>M</td>\n",
       "      <td>10.1</td>\n",
       "      <td>class1</td>\n",
       "    </tr>\n",
       "    <tr>\n",
       "      <th>1</th>\n",
       "      <td>red</td>\n",
       "      <td>L</td>\n",
       "      <td>13.5</td>\n",
       "      <td>class2</td>\n",
       "    </tr>\n",
       "    <tr>\n",
       "      <th>2</th>\n",
       "      <td>blue</td>\n",
       "      <td>XL</td>\n",
       "      <td>15.3</td>\n",
       "      <td>class1</td>\n",
       "    </tr>\n",
       "  </tbody>\n",
       "</table>\n",
       "</div>"
      ],
      "text/plain": [
       "   color size  price classlabel\n",
       "0  green    M   10.1     class1\n",
       "1    red    L   13.5     class2\n",
       "2   blue   XL   15.3     class1"
      ]
     },
     "execution_count": 11,
     "metadata": {},
     "output_type": "execute_result"
    }
   ],
   "source": [
    "#Handling categorical data\n",
    "#nominal and ordinal features\n",
    "\n",
    "import pandas as pd\n",
    "\n",
    "df = pd.DataFrame([['green','M',10.1,'class1'],\n",
    "                   ['red','L',13.5,'class2'],\n",
    "                   ['blue','XL',15.3,'class1']])\n",
    "df.columns = ['color','size','price','classlabel']\n",
    "\n",
    "df"
   ]
  },
  {
   "cell_type": "code",
   "execution_count": 12,
   "metadata": {},
   "outputs": [
    {
     "data": {
      "text/html": [
       "<div>\n",
       "<style scoped>\n",
       "    .dataframe tbody tr th:only-of-type {\n",
       "        vertical-align: middle;\n",
       "    }\n",
       "\n",
       "    .dataframe tbody tr th {\n",
       "        vertical-align: top;\n",
       "    }\n",
       "\n",
       "    .dataframe thead th {\n",
       "        text-align: right;\n",
       "    }\n",
       "</style>\n",
       "<table border=\"1\" class=\"dataframe\">\n",
       "  <thead>\n",
       "    <tr style=\"text-align: right;\">\n",
       "      <th></th>\n",
       "      <th>color</th>\n",
       "      <th>size</th>\n",
       "      <th>price</th>\n",
       "      <th>classlabel</th>\n",
       "    </tr>\n",
       "  </thead>\n",
       "  <tbody>\n",
       "    <tr>\n",
       "      <th>0</th>\n",
       "      <td>green</td>\n",
       "      <td>1</td>\n",
       "      <td>10.1</td>\n",
       "      <td>class1</td>\n",
       "    </tr>\n",
       "    <tr>\n",
       "      <th>1</th>\n",
       "      <td>red</td>\n",
       "      <td>2</td>\n",
       "      <td>13.5</td>\n",
       "      <td>class2</td>\n",
       "    </tr>\n",
       "    <tr>\n",
       "      <th>2</th>\n",
       "      <td>blue</td>\n",
       "      <td>3</td>\n",
       "      <td>15.3</td>\n",
       "      <td>class1</td>\n",
       "    </tr>\n",
       "  </tbody>\n",
       "</table>\n",
       "</div>"
      ],
      "text/plain": [
       "   color  size  price classlabel\n",
       "0  green     1   10.1     class1\n",
       "1    red     2   13.5     class2\n",
       "2   blue     3   15.3     class1"
      ]
     },
     "execution_count": 12,
     "metadata": {},
     "output_type": "execute_result"
    }
   ],
   "source": [
    "#Mapping ordinal features\n",
    "#ordinal features can be understood as categorical values that can be sorted or ordered\n",
    "\n",
    "#no convenient function, have to define manully\n",
    "\n",
    "size_mapping={'XL':3,\n",
    "              'L':2,\n",
    "              'M':1}\n",
    "\n",
    "df['size']=df['size'].map(size_mapping)\n",
    "df\n",
    "\n"
   ]
  },
  {
   "cell_type": "code",
   "execution_count": 13,
   "metadata": {},
   "outputs": [
    {
     "data": {
      "text/plain": [
       "0     M\n",
       "1     L\n",
       "2    XL\n",
       "Name: size, dtype: object"
      ]
     },
     "execution_count": 13,
     "metadata": {},
     "output_type": "execute_result"
    }
   ],
   "source": [
    "#transform the integer back to the original string representation\n",
    "#define a reverse-mapping dictionary\n",
    "\n",
    "inv_size_mapping = {v: k for k, v in size_mapping.items()}\n",
    "df['size'].map(inv_size_mapping)"
   ]
  },
  {
   "cell_type": "code",
   "execution_count": 15,
   "metadata": {},
   "outputs": [
    {
     "data": {
      "text/plain": [
       "{'class1': 0, 'class2': 1}"
      ]
     },
     "execution_count": 15,
     "metadata": {},
     "output_type": "execute_result"
    }
   ],
   "source": [
    "#Encoding class labels\n",
    "\n",
    "import numpy as np\n",
    "\n",
    "#create a mapping dict\n",
    "#to convert class labels from strings to integers\n",
    "#remember that class labels are not ordinal, and it does not matter which integer number we assign to a particular string label\n",
    "\n",
    "\n",
    "class_mapping ={label: idx for idx, label in \n",
    "                enumerate(np.unique(df['classlabel']))}\n",
    "class_mapping"
   ]
  },
  {
   "cell_type": "code",
   "execution_count": 16,
   "metadata": {},
   "outputs": [
    {
     "data": {
      "text/html": [
       "<div>\n",
       "<style scoped>\n",
       "    .dataframe tbody tr th:only-of-type {\n",
       "        vertical-align: middle;\n",
       "    }\n",
       "\n",
       "    .dataframe tbody tr th {\n",
       "        vertical-align: top;\n",
       "    }\n",
       "\n",
       "    .dataframe thead th {\n",
       "        text-align: right;\n",
       "    }\n",
       "</style>\n",
       "<table border=\"1\" class=\"dataframe\">\n",
       "  <thead>\n",
       "    <tr style=\"text-align: right;\">\n",
       "      <th></th>\n",
       "      <th>color</th>\n",
       "      <th>size</th>\n",
       "      <th>price</th>\n",
       "      <th>classlabel</th>\n",
       "    </tr>\n",
       "  </thead>\n",
       "  <tbody>\n",
       "    <tr>\n",
       "      <th>0</th>\n",
       "      <td>green</td>\n",
       "      <td>1</td>\n",
       "      <td>10.1</td>\n",
       "      <td>0</td>\n",
       "    </tr>\n",
       "    <tr>\n",
       "      <th>1</th>\n",
       "      <td>red</td>\n",
       "      <td>2</td>\n",
       "      <td>13.5</td>\n",
       "      <td>1</td>\n",
       "    </tr>\n",
       "    <tr>\n",
       "      <th>2</th>\n",
       "      <td>blue</td>\n",
       "      <td>3</td>\n",
       "      <td>15.3</td>\n",
       "      <td>0</td>\n",
       "    </tr>\n",
       "  </tbody>\n",
       "</table>\n",
       "</div>"
      ],
      "text/plain": [
       "   color  size  price  classlabel\n",
       "0  green     1   10.1           0\n",
       "1    red     2   13.5           1\n",
       "2   blue     3   15.3           0"
      ]
     },
     "execution_count": 16,
     "metadata": {},
     "output_type": "execute_result"
    }
   ],
   "source": [
    "#to convert class labels from strings to integers\n",
    "df['classlabel']=df['classlabel'].map(class_mapping)\n",
    "df"
   ]
  },
  {
   "cell_type": "code",
   "execution_count": 17,
   "metadata": {},
   "outputs": [
    {
     "data": {
      "text/plain": [
       "dict_items([('class1', 0), ('class2', 1)])"
      ]
     },
     "execution_count": 17,
     "metadata": {},
     "output_type": "execute_result"
    }
   ],
   "source": [
    "#reverse the class label mapping\n",
    "class_mapping.items()"
   ]
  },
  {
   "cell_type": "code",
   "execution_count": 18,
   "metadata": {},
   "outputs": [
    {
     "data": {
      "text/html": [
       "<div>\n",
       "<style scoped>\n",
       "    .dataframe tbody tr th:only-of-type {\n",
       "        vertical-align: middle;\n",
       "    }\n",
       "\n",
       "    .dataframe tbody tr th {\n",
       "        vertical-align: top;\n",
       "    }\n",
       "\n",
       "    .dataframe thead th {\n",
       "        text-align: right;\n",
       "    }\n",
       "</style>\n",
       "<table border=\"1\" class=\"dataframe\">\n",
       "  <thead>\n",
       "    <tr style=\"text-align: right;\">\n",
       "      <th></th>\n",
       "      <th>color</th>\n",
       "      <th>size</th>\n",
       "      <th>price</th>\n",
       "      <th>classlabel</th>\n",
       "    </tr>\n",
       "  </thead>\n",
       "  <tbody>\n",
       "    <tr>\n",
       "      <th>0</th>\n",
       "      <td>green</td>\n",
       "      <td>1</td>\n",
       "      <td>10.1</td>\n",
       "      <td>class1</td>\n",
       "    </tr>\n",
       "    <tr>\n",
       "      <th>1</th>\n",
       "      <td>red</td>\n",
       "      <td>2</td>\n",
       "      <td>13.5</td>\n",
       "      <td>class2</td>\n",
       "    </tr>\n",
       "    <tr>\n",
       "      <th>2</th>\n",
       "      <td>blue</td>\n",
       "      <td>3</td>\n",
       "      <td>15.3</td>\n",
       "      <td>class1</td>\n",
       "    </tr>\n",
       "  </tbody>\n",
       "</table>\n",
       "</div>"
      ],
      "text/plain": [
       "   color  size  price classlabel\n",
       "0  green     1   10.1     class1\n",
       "1    red     2   13.5     class2\n",
       "2   blue     3   15.3     class1"
      ]
     },
     "execution_count": 18,
     "metadata": {},
     "output_type": "execute_result"
    }
   ],
   "source": [
    "inv_class_mapping = {v:k for k, v in class_mapping.items()}\n",
    "df['classlabel']=df['classlabel'].map(inv_class_mapping)\n",
    "df"
   ]
  },
  {
   "cell_type": "code",
   "execution_count": 23,
   "metadata": {},
   "outputs": [
    {
     "data": {
      "text/plain": [
       "array([0, 1, 0])"
      ]
     },
     "execution_count": 23,
     "metadata": {},
     "output_type": "execute_result"
    }
   ],
   "source": [
    "#alternatively, there is a convenient LabelEncoder class directly implemented in scikit-learn to achieve this:\n",
    "#fit_transform method is just a shortcut for calling fit and transform separately\n",
    "\n",
    "from sklearn.preprocessing import LabelEncoder\n",
    "class_le = LabelEncoder()\n",
    "y = class_le.fit_transform(df['classlabel'].values)\n",
    "\n",
    "y"
   ]
  },
  {
   "cell_type": "code",
   "execution_count": 24,
   "metadata": {},
   "outputs": [
    {
     "name": "stderr",
     "output_type": "stream",
     "text": [
      "/home/Rex/anaconda3/lib/python3.6/site-packages/sklearn/preprocessing/label.py:151: DeprecationWarning: The truth value of an empty array is ambiguous. Returning False, but in future this will result in an error. Use `array.size > 0` to check that an array is not empty.\n",
      "  if diff:\n"
     ]
    },
    {
     "data": {
      "text/plain": [
       "array(['class1', 'class2', 'class1'], dtype=object)"
      ]
     },
     "execution_count": 24,
     "metadata": {},
     "output_type": "execute_result"
    }
   ],
   "source": [
    "#we can use the inverse_transform method to transform the integer class labels back into their original string representation\n",
    "\n",
    "class_le.inverse_transform(y)\n"
   ]
  },
  {
   "cell_type": "code",
   "execution_count": 25,
   "metadata": {},
   "outputs": [
    {
     "data": {
      "text/plain": [
       "array([[1, 1, 10.1],\n",
       "       [2, 2, 13.5],\n",
       "       [0, 3, 15.3]], dtype=object)"
      ]
     },
     "execution_count": 25,
     "metadata": {},
     "output_type": "execute_result"
    }
   ],
   "source": [
    "#performing one-hot encoding on nominal features\n",
    "\n",
    "X = df[['color','size','price']].values\n",
    "\n",
    "color_le = LabelEncoder()\n",
    "X[:,0] = color_le.fit_transform(X[:,0])\n",
    "X"
   ]
  },
  {
   "cell_type": "code",
   "execution_count": 27,
   "metadata": {},
   "outputs": [
    {
     "data": {
      "text/plain": [
       "array([[ 0. ,  1. ,  0. ,  1. , 10.1],\n",
       "       [ 0. ,  0. ,  1. ,  2. , 13.5],\n",
       "       [ 1. ,  0. ,  0. ,  3. , 15.3]])"
      ]
     },
     "execution_count": 27,
     "metadata": {},
     "output_type": "execute_result"
    }
   ],
   "source": [
    "#however, although the color values don't come in any particular order,\n",
    "#a learning algorithm will now assume that 'green' is larger than 'blue'\n",
    "#it might be misleading and the output may not be the optimal\n",
    "#a workaround for this problem is to use a technique called one-hot encoding\n",
    "#the idea behind this approach is to create a new dummy feature for each unique value in the nominal feature column\n",
    "\n",
    "#here we will convert the color feature into three new features: blue, green, and red\n",
    "#perform this transformation, we can use OneHotEncoder that is implemented in the scikit-learn.preprocessing module\n",
    "\n",
    "from sklearn.preprocessing import OneHotEncoder\n",
    "\n",
    "ohe = OneHotEncoder(categorical_features=[0])\n",
    "\n",
    "ohe.fit_transform(X).toarray()"
   ]
  },
  {
   "cell_type": "code",
   "execution_count": 28,
   "metadata": {},
   "outputs": [
    {
     "data": {
      "text/plain": [
       "array([[ 0. ,  1. ,  0. ,  1. , 10.1],\n",
       "       [ 0. ,  0. ,  1. ,  2. , 13.5],\n",
       "       [ 1. ,  0. ,  0. ,  3. , 15.3]])"
      ]
     },
     "execution_count": 28,
     "metadata": {},
     "output_type": "execute_result"
    }
   ],
   "source": [
    "#By default, the OneHotEncoder returns a sparse matrix when we use the transform method\n",
    "#and we converted the sparse matrix representation into a regular (dense) NumPy array for the purpose of visualization via the toarray method\n",
    "#Sparse matrices are a more efficient way of storing large datasets and one that is supported by many scikit-learn functions\n",
    "#which is especially useful if an array contains a lot of zeros\n",
    "#Alternatively, we can initialze the encoder as OneHotEncoder(..., sparse = False) to return a regular NumPy array\n",
    "\n",
    "ohe = OneHotEncoder(categorical_features=[0],sparse=False)\n",
    "ohe.fit_transform(X)"
   ]
  },
  {
   "cell_type": "code",
   "execution_count": 29,
   "metadata": {},
   "outputs": [
    {
     "data": {
      "text/html": [
       "<div>\n",
       "<style scoped>\n",
       "    .dataframe tbody tr th:only-of-type {\n",
       "        vertical-align: middle;\n",
       "    }\n",
       "\n",
       "    .dataframe tbody tr th {\n",
       "        vertical-align: top;\n",
       "    }\n",
       "\n",
       "    .dataframe thead th {\n",
       "        text-align: right;\n",
       "    }\n",
       "</style>\n",
       "<table border=\"1\" class=\"dataframe\">\n",
       "  <thead>\n",
       "    <tr style=\"text-align: right;\">\n",
       "      <th></th>\n",
       "      <th>price</th>\n",
       "      <th>size</th>\n",
       "      <th>color_blue</th>\n",
       "      <th>color_green</th>\n",
       "      <th>color_red</th>\n",
       "    </tr>\n",
       "  </thead>\n",
       "  <tbody>\n",
       "    <tr>\n",
       "      <th>0</th>\n",
       "      <td>10.1</td>\n",
       "      <td>1</td>\n",
       "      <td>0</td>\n",
       "      <td>1</td>\n",
       "      <td>0</td>\n",
       "    </tr>\n",
       "    <tr>\n",
       "      <th>1</th>\n",
       "      <td>13.5</td>\n",
       "      <td>2</td>\n",
       "      <td>0</td>\n",
       "      <td>0</td>\n",
       "      <td>1</td>\n",
       "    </tr>\n",
       "    <tr>\n",
       "      <th>2</th>\n",
       "      <td>15.3</td>\n",
       "      <td>3</td>\n",
       "      <td>1</td>\n",
       "      <td>0</td>\n",
       "      <td>0</td>\n",
       "    </tr>\n",
       "  </tbody>\n",
       "</table>\n",
       "</div>"
      ],
      "text/plain": [
       "   price  size  color_blue  color_green  color_red\n",
       "0   10.1     1           0            1          0\n",
       "1   13.5     2           0            0          1\n",
       "2   15.3     3           1            0          0"
      ]
     },
     "execution_count": 29,
     "metadata": {},
     "output_type": "execute_result"
    }
   ],
   "source": [
    "#we can also create dummy features via one-hot encoding \n",
    "#using the get_dummies method implemented in pandas\n",
    "#it only convert string columns and leave all other columns unchanged\n",
    "\n",
    "pd.get_dummies(df[['price','color','size']])"
   ]
  },
  {
   "cell_type": "code",
   "execution_count": 30,
   "metadata": {},
   "outputs": [
    {
     "data": {
      "text/html": [
       "<div>\n",
       "<style scoped>\n",
       "    .dataframe tbody tr th:only-of-type {\n",
       "        vertical-align: middle;\n",
       "    }\n",
       "\n",
       "    .dataframe tbody tr th {\n",
       "        vertical-align: top;\n",
       "    }\n",
       "\n",
       "    .dataframe thead th {\n",
       "        text-align: right;\n",
       "    }\n",
       "</style>\n",
       "<table border=\"1\" class=\"dataframe\">\n",
       "  <thead>\n",
       "    <tr style=\"text-align: right;\">\n",
       "      <th></th>\n",
       "      <th>price</th>\n",
       "      <th>size</th>\n",
       "      <th>color_green</th>\n",
       "      <th>color_red</th>\n",
       "    </tr>\n",
       "  </thead>\n",
       "  <tbody>\n",
       "    <tr>\n",
       "      <th>0</th>\n",
       "      <td>10.1</td>\n",
       "      <td>1</td>\n",
       "      <td>1</td>\n",
       "      <td>0</td>\n",
       "    </tr>\n",
       "    <tr>\n",
       "      <th>1</th>\n",
       "      <td>13.5</td>\n",
       "      <td>2</td>\n",
       "      <td>0</td>\n",
       "      <td>1</td>\n",
       "    </tr>\n",
       "    <tr>\n",
       "      <th>2</th>\n",
       "      <td>15.3</td>\n",
       "      <td>3</td>\n",
       "      <td>0</td>\n",
       "      <td>0</td>\n",
       "    </tr>\n",
       "  </tbody>\n",
       "</table>\n",
       "</div>"
      ],
      "text/plain": [
       "   price  size  color_green  color_red\n",
       "0   10.1     1            1          0\n",
       "1   13.5     2            0          1\n",
       "2   15.3     3            0          0"
      ]
     },
     "execution_count": 30,
     "metadata": {},
     "output_type": "execute_result"
    }
   ],
   "source": [
    "#using one-hot encoding will introduce multicollinearity, \n",
    "#which is bad for any method that requires matrix inversion\n",
    "#solution is to remove one feature column from the one-hot encoded array\n",
    "\n",
    "#multicollinearity guard in get_dummies\n",
    "\n",
    "pd.get_dummies(df[['price','color','size']],drop_first=True)\n"
   ]
  },
  {
   "cell_type": "code",
   "execution_count": 31,
   "metadata": {},
   "outputs": [
    {
     "data": {
      "text/plain": [
       "array([[ 1. ,  0. ,  1. , 10.1],\n",
       "       [ 0. ,  1. ,  2. , 13.5],\n",
       "       [ 0. ,  0. ,  3. , 15.3]])"
      ]
     },
     "execution_count": 31,
     "metadata": {},
     "output_type": "execute_result"
    }
   ],
   "source": [
    "#multicollinearity guard for the OneHotEncoder\n",
    "#manually\n",
    "\n",
    "ohe = OneHotEncoder(categorical_features=[0])\n",
    "ohe.fit_transform(X).toarray()[:,1:]\n",
    "\n"
   ]
  },
  {
   "cell_type": "code",
   "execution_count": 40,
   "metadata": {},
   "outputs": [
    {
     "name": "stdout",
     "output_type": "stream",
     "text": [
      "Class labels [1 2 3]\n"
     ]
    },
    {
     "data": {
      "text/html": [
       "<div>\n",
       "<style scoped>\n",
       "    .dataframe tbody tr th:only-of-type {\n",
       "        vertical-align: middle;\n",
       "    }\n",
       "\n",
       "    .dataframe tbody tr th {\n",
       "        vertical-align: top;\n",
       "    }\n",
       "\n",
       "    .dataframe thead th {\n",
       "        text-align: right;\n",
       "    }\n",
       "</style>\n",
       "<table border=\"1\" class=\"dataframe\">\n",
       "  <thead>\n",
       "    <tr style=\"text-align: right;\">\n",
       "      <th></th>\n",
       "      <th>Class label</th>\n",
       "      <th>Alcohol</th>\n",
       "      <th>Malic acid</th>\n",
       "      <th>Ash</th>\n",
       "      <th>Alcalinity of ash</th>\n",
       "      <th>Magnesium</th>\n",
       "      <th>Total phenols</th>\n",
       "      <th>Flavanoids</th>\n",
       "      <th>Nonflavanoid phenols</th>\n",
       "      <th>Proanthocyanins</th>\n",
       "      <th>Color intensity</th>\n",
       "      <th>Hue</th>\n",
       "      <th>OD280/OD315 of diluted wines</th>\n",
       "      <th>Proline</th>\n",
       "    </tr>\n",
       "  </thead>\n",
       "  <tbody>\n",
       "    <tr>\n",
       "      <th>0</th>\n",
       "      <td>1</td>\n",
       "      <td>14.23</td>\n",
       "      <td>1.71</td>\n",
       "      <td>2.43</td>\n",
       "      <td>15.6</td>\n",
       "      <td>127</td>\n",
       "      <td>2.80</td>\n",
       "      <td>3.06</td>\n",
       "      <td>0.28</td>\n",
       "      <td>2.29</td>\n",
       "      <td>5.64</td>\n",
       "      <td>1.04</td>\n",
       "      <td>3.92</td>\n",
       "      <td>1065</td>\n",
       "    </tr>\n",
       "    <tr>\n",
       "      <th>1</th>\n",
       "      <td>1</td>\n",
       "      <td>13.20</td>\n",
       "      <td>1.78</td>\n",
       "      <td>2.14</td>\n",
       "      <td>11.2</td>\n",
       "      <td>100</td>\n",
       "      <td>2.65</td>\n",
       "      <td>2.76</td>\n",
       "      <td>0.26</td>\n",
       "      <td>1.28</td>\n",
       "      <td>4.38</td>\n",
       "      <td>1.05</td>\n",
       "      <td>3.40</td>\n",
       "      <td>1050</td>\n",
       "    </tr>\n",
       "    <tr>\n",
       "      <th>2</th>\n",
       "      <td>1</td>\n",
       "      <td>13.16</td>\n",
       "      <td>2.36</td>\n",
       "      <td>2.67</td>\n",
       "      <td>18.6</td>\n",
       "      <td>101</td>\n",
       "      <td>2.80</td>\n",
       "      <td>3.24</td>\n",
       "      <td>0.30</td>\n",
       "      <td>2.81</td>\n",
       "      <td>5.68</td>\n",
       "      <td>1.03</td>\n",
       "      <td>3.17</td>\n",
       "      <td>1185</td>\n",
       "    </tr>\n",
       "    <tr>\n",
       "      <th>3</th>\n",
       "      <td>1</td>\n",
       "      <td>14.37</td>\n",
       "      <td>1.95</td>\n",
       "      <td>2.50</td>\n",
       "      <td>16.8</td>\n",
       "      <td>113</td>\n",
       "      <td>3.85</td>\n",
       "      <td>3.49</td>\n",
       "      <td>0.24</td>\n",
       "      <td>2.18</td>\n",
       "      <td>7.80</td>\n",
       "      <td>0.86</td>\n",
       "      <td>3.45</td>\n",
       "      <td>1480</td>\n",
       "    </tr>\n",
       "    <tr>\n",
       "      <th>4</th>\n",
       "      <td>1</td>\n",
       "      <td>13.24</td>\n",
       "      <td>2.59</td>\n",
       "      <td>2.87</td>\n",
       "      <td>21.0</td>\n",
       "      <td>118</td>\n",
       "      <td>2.80</td>\n",
       "      <td>2.69</td>\n",
       "      <td>0.39</td>\n",
       "      <td>1.82</td>\n",
       "      <td>4.32</td>\n",
       "      <td>1.04</td>\n",
       "      <td>2.93</td>\n",
       "      <td>735</td>\n",
       "    </tr>\n",
       "  </tbody>\n",
       "</table>\n",
       "</div>"
      ],
      "text/plain": [
       "   Class label  Alcohol  Malic acid   Ash  Alcalinity of ash  Magnesium  \\\n",
       "0            1    14.23        1.71  2.43               15.6        127   \n",
       "1            1    13.20        1.78  2.14               11.2        100   \n",
       "2            1    13.16        2.36  2.67               18.6        101   \n",
       "3            1    14.37        1.95  2.50               16.8        113   \n",
       "4            1    13.24        2.59  2.87               21.0        118   \n",
       "\n",
       "   Total phenols  Flavanoids  Nonflavanoid phenols  Proanthocyanins  \\\n",
       "0           2.80        3.06                  0.28             2.29   \n",
       "1           2.65        2.76                  0.26             1.28   \n",
       "2           2.80        3.24                  0.30             2.81   \n",
       "3           3.85        3.49                  0.24             2.18   \n",
       "4           2.80        2.69                  0.39             1.82   \n",
       "\n",
       "   Color intensity   Hue  OD280/OD315 of diluted wines  Proline  \n",
       "0             5.64  1.04                          3.92     1065  \n",
       "1             4.38  1.05                          3.40     1050  \n",
       "2             5.68  1.03                          3.17     1185  \n",
       "3             7.80  0.86                          3.45     1480  \n",
       "4             4.32  1.04                          2.93      735  "
      ]
     },
     "execution_count": 40,
     "metadata": {},
     "output_type": "execute_result"
    }
   ],
   "source": [
    "#Partitioning a dataset into separate training and test sets\n",
    "#we will prepare a new dataset, the Wine dataset.\n",
    "#After we preprocess the dataset, we will explore different techniques for feature selection to reduce the dimensionality\n",
    "\n",
    "#usig the pandas library, we will directly read in he open source Wine dataset from the UCI machine learning repository\n",
    "\n",
    "df_wine = pd.read_csv('https://archive.ics.uci.edu/'\n",
    "                      'ml/machine-learning-databases/'\n",
    "                      'wine/wine.data',header=None)\n",
    "\n",
    "df_wine.columns = ['Class label', 'Alcohol', 'Malic acid', 'Ash',\n",
    "                   'Alcalinity of ash', 'Magnesium', 'Total phenols',\n",
    "                   'Flavanoids', 'Nonflavanoid phenols', 'Proanthocyanins',\n",
    "                   'Color intensity', 'Hue', 'OD280/OD315 of diluted wines',\n",
    "                   'Proline']\n",
    "print('Class labels',np.unique(df_wine['Class label']))\n",
    "df_wine.head()"
   ]
  },
  {
   "cell_type": "code",
   "execution_count": 43,
   "metadata": {},
   "outputs": [],
   "source": [
    "#The samples belong to one of three different classes, 1,2,3, referring to three different types of grape grown in the same region in Italy but derived from different wine cultivars\n",
    "\n",
    "#A convenient way to randomly partition this dataset into separate test and training datasets is to use the train_test_split function from scikit-learn's model_selection submodule\n",
    "\n",
    "#30% test data, 70% training data, stratify ensures that both training and test datasets have the same class proportions as the original dataset\n",
    "\n",
    "from sklearn.model_selection import train_test_split\n",
    "\n",
    "X,y = df_wine.iloc[:,1:].values,df_wine.iloc[:,0].values\n",
    "\n",
    "X_train, X_test, y_train, y_test = \\\n",
    "    train_test_split(X,y,test_size=0.3,random_state=0,stratify=y)"
   ]
  },
  {
   "cell_type": "code",
   "execution_count": 44,
   "metadata": {},
   "outputs": [],
   "source": [
    "#Bringing features onto the same scale\n",
    "\n",
    "#Feature scaln is crucial\n",
    "#Decision trees and random forests are two of the very few machine learning algorithm where we don't need to worry about feature scaling\n",
    "#Most algorithms are not scale invariant, and optimization algorithms behave much better if features are on the same scale\n",
    "#such as gradient descent\n",
    "\n",
    "#Two common approaches, normalization and standardizatin\n",
    "\n",
    "#normalization refers to the rescaling of the features to a range of [0,1]\n",
    "#useful when we have a bounded inteval\n",
    "\n",
    "from sklearn.preprocessing import MinMaxScaler\n",
    "\n",
    "mms = MinMaxScaler()\n",
    "X_train_norm = mms.fit_transform(X_train)\n",
    "X_test_norm = mms.transform(X_test)"
   ]
  },
  {
   "cell_type": "code",
   "execution_count": 45,
   "metadata": {},
   "outputs": [],
   "source": [
    "#Standardization centers the feature columns at mean 0 with standard deviation 1 so that the feature columns takes the form of a normal distribution\n",
    "#maintain useful info about outliers and makes the algo less sensitive to them in contrast to min-max scaling\n",
    "\n",
    "from sklearn.preprocessing import StandardScaler\n",
    "\n",
    "stdsc = StandardScaler()\n",
    "X_train_std = stdsc.fit_transform(X_train)\n",
    "X_test_std = stdsc.transform(X_test)\n",
    "\n"
   ]
  },
  {
   "cell_type": "code",
   "execution_count": 49,
   "metadata": {},
   "outputs": [
    {
     "name": "stdout",
     "output_type": "stream",
     "text": [
      "standardized: [-1.46385011 -0.87831007 -0.29277002  0.29277002  0.87831007  1.46385011]\n",
      "normalized: [0.  0.2 0.4 0.6 0.8 1. ]\n"
     ]
    }
   ],
   "source": [
    "#A visual example\n",
    "\n",
    "ex = np.array([0,1,2,3,4,5])\n",
    "\n",
    "print('standardized:', (ex-ex.mean())/ex.std())\n",
    "\n",
    "# Please note that pandas uses ddof=1 (sample standard deviation) \n",
    "# by default, whereas NumPy's std method and the StandardScaler\n",
    "# uses ddof=0 (population standard deviation)\n",
    "\n",
    "print('normalized:', (ex-ex.min())/(ex.max()-ex.min()))"
   ]
  },
  {
   "cell_type": "code",
   "execution_count": 50,
   "metadata": {},
   "outputs": [
    {
     "data": {
      "text/plain": [
       "LogisticRegression(C=1.0, class_weight=None, dual=False, fit_intercept=True,\n",
       "          intercept_scaling=1, max_iter=100, multi_class='ovr', n_jobs=1,\n",
       "          penalty='l1', random_state=None, solver='liblinear', tol=0.0001,\n",
       "          verbose=0, warm_start=False)"
      ]
     },
     "execution_count": 50,
     "metadata": {},
     "output_type": "execute_result"
    }
   ],
   "source": [
    "#Selecting meaningful features\n",
    "\n",
    "#prevent overfitting\n",
    "#Common solutions:\n",
    "# collect more training data\n",
    "# Introduce a penalty for complexity via regularization\n",
    "# Choose a simpler model with fewer parameters\n",
    "# Reduce the dimentionality of the data\n",
    "\n",
    "#This chapter will introduce regularization and dimensionality reduction via feature selection\n",
    "\n",
    "#L2 regularization: penalizing large individual weights by adding bias and preferring a simpler model to reduce the variance\n",
    "                    \n",
    "#L1 regularization: replace the squares of the weights by absolute value\n",
    "#                 : yields sparse feature vectors, most feature weights will be zero\n",
    "#                 : technique for feature selection\n",
    "\n",
    "#lambda:increase lambda increase the regularization strength\n",
    "#       large lambda shrink the weights towards 0 and decrease the dependence of our model on the training data\n",
    "\n",
    "#for regularized model in scikit-learn that support L1 regularization, we can simply\n",
    "#set the penalty parameter to 'l1' to obtain a sparse solution:\n",
    "\n",
    "from sklearn.linear_model import LogisticRegression\n",
    "\n",
    "LogisticRegression(penalty='l1')"
   ]
  },
  {
   "cell_type": "code",
   "execution_count": 52,
   "metadata": {},
   "outputs": [
    {
     "name": "stdout",
     "output_type": "stream",
     "text": [
      "Training accuracy: 1.0\n",
      "Test accuracy: 1.0\n"
     ]
    }
   ],
   "source": [
    "lr = LogisticRegression(penalty='l1',C=1.0)\n",
    "#Note that C = 1.0 is the default,\n",
    "#you can increase or decrease it to make the regularization effect stronger or weaker respectively\n",
    "\n",
    "lr.fit(X_train_std,y_train)\n",
    "print('Training accuracy:', lr.score(X_train_std,y_train))\n",
    "print('Test accuracy:', lr.score(X_test_std,y_test))"
   ]
  },
  {
   "cell_type": "code",
   "execution_count": 54,
   "metadata": {},
   "outputs": [
    {
     "data": {
      "text/plain": [
       "array([-1.2633684 , -1.21610497, -2.3713488 ])"
      ]
     },
     "execution_count": 54,
     "metadata": {},
     "output_type": "execute_result"
    }
   ],
   "source": [
    "#access the intercept term\n",
    "\n",
    "lr.intercept_\n",
    "\n",
    "#Since we fit the LogisticRegression object on a multiclass dataset,\n",
    "#it uses the One-versus-Rest (OvR) approach by default,\n",
    "#the first intercept belongs to the model that fits class 1 v.s. class 2 and 3\n",
    "#the second intercept belongs to the model that fits class 2 v.s. class 1 and 3\n",
    "#the third intercept belongs to the model that fits class 3 v.s. class 1 and 2"
   ]
  },
  {
   "cell_type": "code",
   "execution_count": 55,
   "metadata": {},
   "outputs": [
    {
     "data": {
      "text/plain": [
       "array([[ 1.24587317,  0.18060614,  0.74371694, -1.16139264,  0.        ,\n",
       "         0.        ,  1.17006833,  0.        ,  0.        ,  0.        ,\n",
       "         0.        ,  0.54693796,  2.51040264],\n",
       "       [-1.53717633, -0.38710002, -0.99515243,  0.36444091, -0.05938356,\n",
       "         0.        ,  0.66813309,  0.        ,  0.        , -1.93401163,\n",
       "         1.23435935,  0.        , -2.23230314],\n",
       "       [ 0.13506411,  0.16979415,  0.35777418,  0.        ,  0.        ,\n",
       "         0.        , -2.43232895,  0.        ,  0.        ,  1.56181748,\n",
       "        -0.81749651, -0.49854103,  0.        ]])"
      ]
     },
     "execution_count": 55,
     "metadata": {},
     "output_type": "execute_result"
    }
   ],
   "source": [
    "#access the weights\n",
    "\n",
    "lr.coef_\n",
    "\n",
    "#one weight vector for each class"
   ]
  },
  {
   "cell_type": "code",
   "execution_count": 81,
   "metadata": {},
   "outputs": [
    {
     "data": {
      "image/png": "[encoded data removed]",
      "text/plain": [
       "<Figure size 432x288 with 1 Axes>"
      ]
     },
     "metadata": {},
     "output_type": "display_data"
    }
   ],
   "source": [
    "#Vary the regularization strength and plot the regularization path\n",
    "#the weight coefficients of the different features for different regularization strength\n",
    "\n",
    "import matplotlib.pyplot as plt\n",
    "\n",
    "fig = plt.figure()\n",
    "ax = plt.subplot(111)\n",
    "\n",
    "colors = ['blue','green','red','cyan',\n",
    "          'magenta','yellow','black',\n",
    "          'pink','lightgreen','lightblue',\n",
    "          'gray','indigo','orange']\n",
    "\n",
    "weights, params = [], []\n",
    "\n",
    "for c in np.arange(-4.,6.):\n",
    "    lr = LogisticRegression(penalty='l1',\n",
    "                           C = 10.**c,\n",
    "                           random_state = 0)\n",
    "    lr.fit(X_train_std,y_train)\n",
    "    weights.append(lr.coef_[1]) #only append the first model\n",
    "    params.append(10**c)\n",
    "    \n",
    "weights = np.array(weights)\n",
    "\n",
    "for column, color in zip(range(weights.shape[1]),colors):\n",
    "    #'range' creates an array from 0 to number of columns\n",
    "    #'zip' assign each color to one column number(feature)\n",
    "    plt.plot(params,weights[:,column], #plot all the weights of a feature against the params\n",
    "             label = df_wine.columns[column+1],\n",
    "             #'column+1' because the first column is the intercept, irrelevent\n",
    "             color = color)\n",
    "\n",
    "plt.axhline(0,color='black',linestyle='--',linewidth=3) #horizontal line at y = 0\n",
    "plt.xlim([10**(-5),10**5])\n",
    "plt.ylabel('weight coefficient')\n",
    "plt.xlabel('C')\n",
    "plt.xscale('log')\n",
    "ax.legend(bbox_to_anchor=(1.1, 1.03),fancybox=True)\n",
    "plt.show()\n",
    "    "
   ]
  },
  {
   "cell_type": "code",
   "execution_count": 96,
   "metadata": {},
   "outputs": [],
   "source": [
    "#Sequential feature selection algorithms\n",
    "\n",
    "#Dimensionality reduction: feature selection and feature extraction\n",
    "\n",
    "#feature selection: select a subset of the orginal features\n",
    "#feature extraction: derive information from the feature set to construct a new feature subspace\n",
    "\n",
    "#Sequential feature selection algorithms are a family of greedy search algorithms\n",
    "#that are used to reduce the number of features in the training set\n",
    "#motivation is to automatically select a subset of features that are most relevant to the problem\n",
    "#improve computation efficiency or reduce the generalization error by removing irrelevant features or noise\n",
    "\n",
    "#Sequential Backward Selection (SBS) is one of the classics\n",
    "#minimum decay in performance of the classifier to improve upon computational efficiency\n",
    "#logic: we eliminate the feature that causes the least performance loss after removal\n",
    "\n",
    "#No scikit-learn yet, we need to self implement\n",
    "\n",
    "from sklearn.base import clone\n",
    "from itertools import combinations\n",
    "import numpy as np\n",
    "from sklearn.metrics import accuracy_score\n",
    "from sklearn.model_selection import train_test_split\n",
    "\n",
    "\n",
    "class SBS():\n",
    "    \n",
    "    def __init__(self,estimator, k_features, scoring = accuracy_score,\n",
    "                test_size = 0.25,random_state=1):\n",
    "        self.scoring = scoring\n",
    "        self.estimator = clone(estimator)\n",
    "        self.k_features= k_features #specify the desired number of features we want to return\n",
    "        self.test_size = test_size\n",
    "        self.random_state =random_state\n",
    "        \n",
    "    def fit(self,X,y):\n",
    "        X_train, X_test, y_train, y_test = \\\n",
    "         train_test_split(X,y,test_size=self.test_size,\n",
    "                          random_state=self.random_state)\n",
    "        #note that the so-called _test data are validation dataset\n",
    "        dim = X_train.shape[1]\n",
    "        self.indices_ = tuple(range(dim))\n",
    "        self.subsets_ = [self.indices_]\n",
    "        score = self._calc_score(X_train,y_train,X_test,y_test,self.indices_)\n",
    "        self.scores_ = [score]\n",
    "        \n",
    "        while dim > self.k_features:\n",
    "            scores = []\n",
    "            subsets = []\n",
    "            \n",
    "            for p in combinations(self.indices_,r=dim-1):\n",
    "                score = self._calc_score(X_train,y_train,X_test,y_test,p)\n",
    "                scores.append(score)\n",
    "                subsets.append(p)\n",
    "            \n",
    "            best = np.argmax(scores)\n",
    "            self.indices_ = subsets[best]\n",
    "            self.subsets_.append(self.indices_)\n",
    "            dim -= 1\n",
    "            \n",
    "            #instead of calculating the criterion explicitly inside the fit method\n",
    "            #we simply removed the feature that is not contained in the best performing feature subsets\n",
    "            self.scores_.append(scores[best])\n",
    "            \n",
    "        self.k_scores_ = self.scores_[-1]\n",
    "        \n",
    "        return self\n",
    "    \n",
    "    def transform(self,X):\n",
    "        return X[:,self.indices_]\n",
    "        \n",
    "    \n",
    "    def _calc_score(self, X_train, y_train, X_test, y_test, indices):\n",
    "        self.estimator.fit(X_train[:,indices],y_train)\n",
    "        y_pred = self.estimator.predict(X_test[:,indices])\n",
    "        score = self.scoring(y_test,y_pred)\n",
    "        return score\n"
   ]
  },
  {
   "cell_type": "code",
   "execution_count": 97,
   "metadata": {},
   "outputs": [
    {
     "data": {
      "image/png": "[encoded data removed]",
      "text/plain": [
       "<Figure size 432x288 with 1 Axes>"
      ]
     },
     "metadata": {},
     "output_type": "display_data"
    }
   ],
   "source": [
    "#SBS implementation in action using the KNN classfier from scikit-learn\n",
    "\n",
    "import matplotlib.pyplot as plt\n",
    "from sklearn.neighbors import KNeighborsClassifier\n",
    "\n",
    "knn = KNeighborsClassifier(n_neighbors=5)\n",
    "\n",
    "#selecting features\n",
    "sbs = SBS(knn, k_features=1)\n",
    "sbs.fit(X_train_std,y_train)\n",
    "\n",
    "\n",
    "#plotting performance of feature subsets\n",
    "k_feat = [len(k) for k in sbs.subsets_]\n",
    "\n",
    "plt.plot(k_feat,sbs.scores_,marker='o')\n",
    "plt.ylim([0.7,1.02])\n",
    "plt.ylabel('Accuracy')\n",
    "plt.xlabel('Number of features')\n",
    "plt.grid()\n",
    "plt.tight_layout()\n",
    "plt.show()\n"
   ]
  },
  {
   "cell_type": "code",
   "execution_count": 98,
   "metadata": {},
   "outputs": [
    {
     "name": "stdout",
     "output_type": "stream",
     "text": [
      "Index(['Alcohol', 'Malic acid', 'OD280/OD315 of diluted wines'], dtype='object')\n"
     ]
    }
   ],
   "source": [
    "#the classfier achieved 100% accuracy for k = [3,7,8,9,10,11,12]\n",
    "\n",
    "k3 = list(sbs.subsets_[10]) #reverse order, 13 first\n",
    "print(df_wine.columns[1:][k3])"
   ]
  },
  {
   "cell_type": "code",
   "execution_count": 99,
   "metadata": {},
   "outputs": [
    {
     "name": "stdout",
     "output_type": "stream",
     "text": [
      "Training accuracy: 0.967741935483871\n",
      "Test accuracy: 0.9629629629629629\n"
     ]
    }
   ],
   "source": [
    "knn.fit(X_train_std,y_train)\n",
    "print('Training accuracy:', knn.score(X_train_std,y_train))\n",
    "print('Test accuracy:', knn.score(X_test_std,y_test))"
   ]
  },
  {
   "cell_type": "code",
   "execution_count": 100,
   "metadata": {},
   "outputs": [
    {
     "name": "stdout",
     "output_type": "stream",
     "text": [
      "Training accuracy: 0.9516129032258065\n",
      "Test accuracy: 0.9259259259259259\n"
     ]
    }
   ],
   "source": [
    "knn.fit(X_train_std[:,k3],y_train)\n",
    "print('Training accuracy:', knn.score(X_train_std[:,k3],y_train))\n",
    "print('Test accuracy:', knn.score(X_test_std[:,k3],y_test))\n",
    "\n",
    "#noted that Wine dataset is a small dataset, which is susceptible to randomness\n",
    "#how we separate the dataset for training and validation matters"
   ]
  },
  {
   "cell_type": "code",
   "execution_count": 110,
   "metadata": {},
   "outputs": [
    {
     "name": "stdout",
     "output_type": "stream",
     "text": [
      " 1) Proline                        0.185453\n",
      " 2) Flavanoids                     0.174751\n",
      " 3) Color intensity                0.143920\n",
      " 4) OD280/OD315 of diluted wines   0.136162\n",
      " 5) Alcohol                        0.118529\n",
      " 6) Hue                            0.058739\n",
      " 7) Total phenols                  0.050872\n",
      " 8) Magnesium                      0.031357\n",
      " 9) Malic acid                     0.025648\n",
      "10) Proanthocyanins                0.025570\n",
      "11) Alcalinity of ash              0.022366\n",
      "12) Nonflavanoid phenols           0.013354\n",
      "13) Ash                            0.013279\n"
     ]
    },
    {
     "data": {
      "image/png": "[encoded data removed]",
      "text/plain": [
       "<Figure size 432x288 with 1 Axes>"
      ]
     },
     "metadata": {},
     "output_type": "display_data"
    }
   ],
   "source": [
    "#Assessing feature importance with Randm Forests\n",
    "\n",
    "#measure feature importance as the averaged impurity decrease computed from all decision trees in the forest\n",
    "#without making any assumptions about whether our data is linearly separable or not\n",
    "\n",
    "#standardization and mormalization is not needed in tree-based models\n",
    "\n",
    "from sklearn.ensemble import RandomForestClassifier\n",
    "\n",
    "feat_labels = df_wine.columns[1:]\n",
    "\n",
    "forest = RandomForestClassifier(n_estimators=500,\n",
    "                                random_state=1)\n",
    "forest.fit(X_train, y_train)\n",
    "importances = forest.feature_importances_\n",
    "\n",
    "indices =np.argsort(importances)[::-1]\n",
    "\n",
    "for f in range(X_train.shape[1]):\n",
    "    print(\"%2d) %-*s %f\" % (f+1,30,feat_labels[indices[f]],\n",
    "                            importances[indices[f]]))\n",
    "    \n",
    "plt.title('Feature Importance')\n",
    "plt.bar(range(X_train.shape[1]),\n",
    "        importances[indices],\n",
    "        align='center')\n",
    "\n",
    "plt.xticks(range(X_train.shape[1]), \n",
    "          feat_labels[indices],rotation=90)\n",
    "\n",
    "plt.xlim([-1,X_train.shape[1]])\n",
    "plt.tight_layout()\n",
    "plt.show()\n",
    "\n"
   ]
  },
  {
   "cell_type": "code",
   "execution_count": 111,
   "metadata": {},
   "outputs": [
    {
     "name": "stdout",
     "output_type": "stream",
     "text": [
      "Number of features that meet this threshold criterion: 5\n"
     ]
    }
   ],
   "source": [
    "#noted that if two or more features are highly correlated, one feature may be ranked very highly while the information of the other feature(s) may not be fully captured\n",
    "\n",
    "#'SelectFromModel' object is useful if we want to use the RandomForestClassifer as a feature selector\n",
    "#and intermediate step in a scikit-learn Pipeline object\n",
    "\n",
    "#We could set the threshold to 0.1 to reduce the dataset to the five most important features using the following code\n",
    "\n",
    "from sklearn.feature_selection import SelectFromModel\n",
    "\n",
    "sfm = SelectFromModel(forest,threshold=0.1,prefit=True)\n",
    "X_selected = sfm.transform(X_train)\n",
    "print('Number of features that meet this threshold criterion:', X_selected.shape[1])\n"
   ]
  },
  {
   "cell_type": "code",
   "execution_count": 112,
   "metadata": {},
   "outputs": [
    {
     "name": "stdout",
     "output_type": "stream",
     "text": [
      " 1) Proline                        0.185453\n",
      " 2) Flavanoids                     0.174751\n",
      " 3) Color intensity                0.143920\n",
      " 4) OD280/OD315 of diluted wines   0.136162\n",
      " 5) Alcohol                        0.118529\n"
     ]
    }
   ],
   "source": [
    "for f in range(X_selected.shape[1]):\n",
    "    print(\"%2d) %-*s %f\" % (f + 1, 30, \n",
    "                            feat_labels[indices[f]], \n",
    "                            importances[indices[f]]))"
   ]
  },
  {
   "cell_type": "code",
   "execution_count": 113,
   "metadata": {},
   "outputs": [
    {
     "data": {
      "text/plain": [
       "array([[1.362000e+01, 8.000000e-01, 4.400000e+00, 2.050000e+00,\n",
       "        5.500000e+02],\n",
       "       [1.376000e+01, 2.740000e+00, 5.400000e+00, 3.000000e+00,\n",
       "        1.235000e+03],\n",
       "       [1.373000e+01, 3.250000e+00, 5.700000e+00, 2.710000e+00,\n",
       "        1.285000e+03],\n",
       "       [1.351000e+01, 2.530000e+00, 4.200000e+00, 2.870000e+00,\n",
       "        1.095000e+03],\n",
       "       [1.260000e+01, 6.600000e-01, 7.100000e+00, 1.580000e+00,\n",
       "        6.950000e+02],\n",
       "       [1.208000e+01, 2.290000e+00, 2.900000e+00, 3.190000e+00,\n",
       "        3.850000e+02],\n",
       "       [1.222000e+01, 2.040000e+00, 2.700000e+00, 3.020000e+00,\n",
       "        3.120000e+02],\n",
       "       [1.251000e+01, 5.800000e-01, 5.450000e+00, 1.510000e+00,\n",
       "        6.500000e+02],\n",
       "       [1.269000e+01, 1.460000e+00, 3.050000e+00, 2.060000e+00,\n",
       "        4.950000e+02],\n",
       "       [1.182000e+01, 1.640000e+00, 2.060000e+00, 2.440000e+00,\n",
       "        4.150000e+02],\n",
       "       [1.349000e+01, 1.840000e+00, 3.740000e+00, 2.780000e+00,\n",
       "        4.720000e+02],\n",
       "       [1.388000e+01, 3.560000e+00, 5.430000e+00, 3.560000e+00,\n",
       "        1.095000e+03],\n",
       "       [1.277000e+01, 1.250000e+00, 3.400000e+00, 2.120000e+00,\n",
       "        3.720000e+02],\n",
       "       [1.277000e+01, 5.100000e-01, 9.899999e+00, 1.630000e+00,\n",
       "        4.700000e+02],\n",
       "       [1.305000e+01, 2.430000e+00, 4.250000e+00, 2.510000e+00,\n",
       "        1.105000e+03],\n",
       "       [1.323000e+01, 8.300000e-01, 1.052000e+01, 1.510000e+00,\n",
       "        6.750000e+02],\n",
       "       [1.200000e+01, 2.260000e+00, 2.500000e+00, 3.120000e+00,\n",
       "        2.780000e+02],\n",
       "       [1.368000e+01, 2.690000e+00, 3.840000e+00, 2.870000e+00,\n",
       "        9.900000e+02],\n",
       "       [1.371000e+01, 6.100000e-01, 7.700000e+00, 1.740000e+00,\n",
       "        7.400000e+02],\n",
       "       [1.349000e+01, 4.800000e-01, 5.700000e+00, 1.820000e+00,\n",
       "        5.800000e+02],\n",
       "       [1.146000e+01, 2.580000e+00, 2.900000e+00, 2.810000e+00,\n",
       "        5.620000e+02],\n",
       "       [1.412000e+01, 2.430000e+00, 5.000000e+00, 2.820000e+00,\n",
       "        1.280000e+03],\n",
       "       [1.161000e+01, 2.920000e+00, 2.650000e+00, 3.260000e+00,\n",
       "        6.800000e+02],\n",
       "       [1.242000e+01, 2.130000e+00, 2.080000e+00, 3.120000e+00,\n",
       "        3.650000e+02],\n",
       "       [1.145000e+01, 2.790000e+00, 3.250000e+00, 3.390000e+00,\n",
       "        6.250000e+02],\n",
       "       [1.311000e+01, 3.180000e+00, 5.300000e+00, 3.180000e+00,\n",
       "        5.020000e+02],\n",
       "       [1.308000e+01, 1.390000e+00, 9.400000e+00, 1.330000e+00,\n",
       "        5.500000e+02],\n",
       "       [1.406000e+01, 2.510000e+00, 5.050000e+00, 3.580000e+00,\n",
       "        1.295000e+03],\n",
       "       [1.386000e+01, 2.860000e+00, 3.380000e+00, 3.160000e+00,\n",
       "        4.100000e+02],\n",
       "       [1.305000e+01, 1.590000e+00, 4.800000e+00, 2.010000e+00,\n",
       "        5.150000e+02],\n",
       "       [1.356000e+01, 3.290000e+00, 6.130000e+00, 3.380000e+00,\n",
       "        7.950000e+02],\n",
       "       [1.430000e+01, 3.140000e+00, 6.200000e+00, 2.650000e+00,\n",
       "        1.280000e+03],\n",
       "       [1.225000e+01, 4.700000e-01, 3.850000e+00, 1.270000e+00,\n",
       "        7.200000e+02],\n",
       "       [1.305000e+01, 2.680000e+00, 3.580000e+00, 3.200000e+00,\n",
       "        8.300000e+02],\n",
       "       [1.187000e+01, 3.030000e+00, 2.800000e+00, 3.640000e+00,\n",
       "        3.800000e+02],\n",
       "       [1.339000e+01, 2.940000e+00, 4.800000e+00, 3.220000e+00,\n",
       "        1.195000e+03],\n",
       "       [1.316000e+01, 3.240000e+00, 5.680000e+00, 3.170000e+00,\n",
       "        1.185000e+03],\n",
       "       [1.184000e+01, 2.210000e+00, 3.050000e+00, 3.080000e+00,\n",
       "        5.200000e+02],\n",
       "       [1.281000e+01, 1.090000e+00, 5.700000e+00, 1.360000e+00,\n",
       "        5.600000e+02],\n",
       "       [1.282000e+01, 6.600000e-01, 1.026000e+01, 1.750000e+00,\n",
       "        6.850000e+02],\n",
       "       [1.483000e+01, 2.980000e+00, 5.200000e+00, 2.850000e+00,\n",
       "        1.045000e+03],\n",
       "       [1.296000e+01, 7.000000e-01, 5.280000e+00, 1.750000e+00,\n",
       "        6.750000e+02],\n",
       "       [1.416000e+01, 7.000000e-01, 9.700000e+00, 1.710000e+00,\n",
       "        6.600000e+02],\n",
       "       [1.317000e+01, 6.300000e-01, 7.900000e+00, 1.480000e+00,\n",
       "        7.250000e+02],\n",
       "       [1.438000e+01, 3.170000e+00, 4.900000e+00, 3.440000e+00,\n",
       "        1.065000e+03],\n",
       "       [1.237000e+01, 2.450000e+00, 2.120000e+00, 2.780000e+00,\n",
       "        3.420000e+02],\n",
       "       [1.316000e+01, 5.500000e-01, 4.000000e+00, 1.680000e+00,\n",
       "        8.300000e+02],\n",
       "       [1.413000e+01, 7.600000e-01, 9.200000e+00, 1.600000e+00,\n",
       "        5.600000e+02],\n",
       "       [1.164000e+01, 1.690000e+00, 2.800000e+00, 2.750000e+00,\n",
       "        6.800000e+02],\n",
       "       [1.352000e+01, 5.200000e-01, 4.350000e+00, 2.060000e+00,\n",
       "        5.200000e+02],\n",
       "       [1.221000e+01, 1.280000e+00, 2.850000e+00, 3.070000e+00,\n",
       "        7.180000e+02],\n",
       "       [1.305000e+01, 2.650000e+00, 2.600000e+00, 3.100000e+00,\n",
       "        3.800000e+02],\n",
       "       [1.267000e+01, 1.940000e+00, 2.620000e+00, 3.160000e+00,\n",
       "        4.500000e+02],\n",
       "       [1.330000e+01, 2.190000e+00, 3.950000e+00, 2.770000e+00,\n",
       "        1.285000e+03],\n",
       "       [1.229000e+01, 2.990000e+00, 2.300000e+00, 2.830000e+00,\n",
       "        4.060000e+02],\n",
       "       [1.165000e+01, 1.610000e+00, 2.600000e+00, 3.210000e+00,\n",
       "        5.620000e+02],\n",
       "       [1.384000e+01, 8.300000e-01, 9.010000e+00, 1.640000e+00,\n",
       "        4.800000e+02],\n",
       "       [1.258000e+01, 5.800000e-01, 7.600000e+00, 1.550000e+00,\n",
       "        6.400000e+02],\n",
       "       [1.264000e+01, 1.410000e+00, 5.750000e+00, 1.590000e+00,\n",
       "        4.500000e+02],\n",
       "       [1.371000e+01, 2.880000e+00, 3.800000e+00, 4.000000e+00,\n",
       "        1.035000e+03],\n",
       "       [1.329000e+01, 3.230000e+00, 6.000000e+00, 2.840000e+00,\n",
       "        1.270000e+03],\n",
       "       [1.367000e+01, 1.790000e+00, 3.800000e+00, 2.460000e+00,\n",
       "        6.300000e+02],\n",
       "       [1.434000e+01, 1.310000e+00, 1.300000e+01, 1.960000e+00,\n",
       "        6.600000e+02],\n",
       "       [1.358000e+01, 8.400000e-01, 8.660000e+00, 1.800000e+00,\n",
       "        7.500000e+02],\n",
       "       [1.179000e+01, 2.240000e+00, 3.000000e+00, 2.440000e+00,\n",
       "        4.660000e+02],\n",
       "       [1.394000e+01, 3.540000e+00, 8.900000e+00, 3.100000e+00,\n",
       "        1.260000e+03],\n",
       "       [1.208000e+01, 1.590000e+00, 1.740000e+00, 3.210000e+00,\n",
       "        6.250000e+02],\n",
       "       [1.229000e+01, 2.250000e+00, 2.150000e+00, 3.300000e+00,\n",
       "        2.900000e+02],\n",
       "       [1.272000e+01, 2.530000e+00, 3.900000e+00, 3.140000e+00,\n",
       "        7.140000e+02],\n",
       "       [1.422000e+01, 3.000000e+00, 6.380000e+00, 3.310000e+00,\n",
       "        9.700000e+02],\n",
       "       [1.363000e+01, 2.910000e+00, 7.300000e+00, 2.880000e+00,\n",
       "        1.310000e+03],\n",
       "       [1.324000e+01, 2.630000e+00, 4.360000e+00, 3.000000e+00,\n",
       "        6.800000e+02],\n",
       "       [1.420000e+01, 3.390000e+00, 6.750000e+00, 2.850000e+00,\n",
       "        1.450000e+03],\n",
       "       [1.383000e+01, 3.400000e+00, 6.600000e+00, 2.570000e+00,\n",
       "        1.130000e+03],\n",
       "       [1.284000e+01, 6.000000e-01, 4.920000e+00, 2.150000e+00,\n",
       "        5.900000e+02],\n",
       "       [1.324000e+01, 2.690000e+00, 4.320000e+00, 2.930000e+00,\n",
       "        7.350000e+02],\n",
       "       [1.299000e+01, 2.890000e+00, 3.350000e+00, 3.500000e+00,\n",
       "        9.850000e+02],\n",
       "       [1.340000e+01, 9.600000e-01, 8.500000e+00, 1.920000e+00,\n",
       "        6.300000e+02],\n",
       "       [1.233000e+01, 1.850000e+00, 3.400000e+00, 2.310000e+00,\n",
       "        7.500000e+02],\n",
       "       [1.207000e+01, 2.650000e+00, 2.760000e+00, 3.280000e+00,\n",
       "        3.780000e+02],\n",
       "       [1.286000e+01, 1.250000e+00, 4.100000e+00, 1.290000e+00,\n",
       "        6.300000e+02],\n",
       "       [1.475000e+01, 3.690000e+00, 5.400000e+00, 2.730000e+00,\n",
       "        1.150000e+03],\n",
       "       [1.251000e+01, 1.920000e+00, 2.940000e+00, 3.570000e+00,\n",
       "        6.720000e+02],\n",
       "       [1.387000e+01, 2.970000e+00, 4.500000e+00, 3.400000e+00,\n",
       "        9.150000e+02],\n",
       "       [1.234000e+01, 2.110000e+00, 2.800000e+00, 3.380000e+00,\n",
       "        4.380000e+02],\n",
       "       [1.334000e+01, 1.300000e+00, 3.170000e+00, 1.930000e+00,\n",
       "        7.500000e+02],\n",
       "       [1.327000e+01, 6.900000e-01, 1.020000e+01, 1.560000e+00,\n",
       "        8.350000e+02],\n",
       "       [1.181000e+01, 9.900000e-01, 2.500000e+00, 2.260000e+00,\n",
       "        6.250000e+02],\n",
       "       [1.348000e+01, 2.980000e+00, 5.100000e+00, 3.470000e+00,\n",
       "        9.200000e+02],\n",
       "       [1.372000e+01, 3.670000e+00, 6.800000e+00, 2.870000e+00,\n",
       "        1.285000e+03],\n",
       "       [1.410000e+01, 3.320000e+00, 5.750000e+00, 3.170000e+00,\n",
       "        1.510000e+03],\n",
       "       [1.253000e+01, 6.000000e-01, 5.000000e+00, 1.690000e+00,\n",
       "        5.150000e+02],\n",
       "       [1.200000e+01, 1.250000e+00, 3.600000e+00, 2.650000e+00,\n",
       "        4.500000e+02],\n",
       "       [1.382000e+01, 3.740000e+00, 7.050000e+00, 3.260000e+00,\n",
       "        1.190000e+03],\n",
       "       [1.438000e+01, 3.640000e+00, 7.500000e+00, 3.000000e+00,\n",
       "        1.547000e+03],\n",
       "       [1.237000e+01, 2.000000e+00, 4.680000e+00, 3.480000e+00,\n",
       "        5.100000e+02],\n",
       "       [1.204000e+01, 1.750000e+00, 2.600000e+00, 2.570000e+00,\n",
       "        5.800000e+02],\n",
       "       [1.369000e+01, 5.600000e-01, 5.880000e+00, 1.820000e+00,\n",
       "        6.800000e+02],\n",
       "       [1.348000e+01, 1.100000e+00, 1.175000e+01, 1.780000e+00,\n",
       "        6.200000e+02],\n",
       "       [1.156000e+01, 5.080000e+00, 6.000000e+00, 3.690000e+00,\n",
       "        4.650000e+02],\n",
       "       [1.341000e+01, 2.680000e+00, 4.280000e+00, 3.000000e+00,\n",
       "        1.035000e+03],\n",
       "       [1.305000e+01, 3.270000e+00, 7.200000e+00, 2.910000e+00,\n",
       "        1.150000e+03],\n",
       "       [1.141000e+01, 2.010000e+00, 3.080000e+00, 2.310000e+00,\n",
       "        4.340000e+02],\n",
       "       [1.166000e+01, 1.570000e+00, 3.800000e+00, 2.140000e+00,\n",
       "        4.280000e+02],\n",
       "       [1.220000e+01, 4.900000e-01, 5.500000e+00, 1.830000e+00,\n",
       "        5.100000e+02],\n",
       "       [1.406000e+01, 3.170000e+00, 5.650000e+00, 3.710000e+00,\n",
       "        7.800000e+02],\n",
       "       [1.279000e+01, 1.360000e+00, 1.080000e+01, 1.470000e+00,\n",
       "        4.800000e+02],\n",
       "       [1.383000e+01, 2.990000e+00, 5.600000e+00, 3.370000e+00,\n",
       "        1.265000e+03],\n",
       "       [1.237000e+01, 2.650000e+00, 4.600000e+00, 2.300000e+00,\n",
       "        6.780000e+02],\n",
       "       [1.252000e+01, 2.270000e+00, 2.000000e+00, 2.780000e+00,\n",
       "        3.250000e+02],\n",
       "       [1.182000e+01, 1.600000e+00, 1.950000e+00, 3.330000e+00,\n",
       "        4.950000e+02],\n",
       "       [1.225000e+01, 2.030000e+00, 3.400000e+00, 3.170000e+00,\n",
       "        5.100000e+02],\n",
       "       [1.356000e+01, 2.780000e+00, 6.250000e+00, 3.030000e+00,\n",
       "        1.120000e+03],\n",
       "       [1.285000e+01, 6.000000e-01, 5.580000e+00, 2.110000e+00,\n",
       "        5.700000e+02],\n",
       "       [1.402000e+01, 2.330000e+00, 4.700000e+00, 3.590000e+00,\n",
       "        1.035000e+03],\n",
       "       [1.358000e+01, 3.190000e+00, 6.900000e+00, 2.880000e+00,\n",
       "        1.515000e+03],\n",
       "       [1.419000e+01, 3.930000e+00, 8.700000e+00, 2.820000e+00,\n",
       "        1.680000e+03],\n",
       "       [1.410000e+01, 2.920000e+00, 6.200000e+00, 2.750000e+00,\n",
       "        1.060000e+03],\n",
       "       [1.272000e+01, 1.760000e+00, 3.300000e+00, 2.420000e+00,\n",
       "        4.880000e+02],\n",
       "       [1.208000e+01, 1.580000e+00, 2.200000e+00, 2.720000e+00,\n",
       "        6.300000e+02],\n",
       "       [1.340000e+01, 7.500000e-01, 7.300000e+00, 1.560000e+00,\n",
       "        7.500000e+02],\n",
       "       [1.388000e+01, 3.400000e-01, 4.900000e+00, 1.330000e+00,\n",
       "        4.150000e+02],\n",
       "       [1.196000e+01, 2.140000e+00, 3.210000e+00, 3.130000e+00,\n",
       "        8.860000e+02],\n",
       "       [1.270000e+01, 2.550000e+00, 2.570000e+00, 3.130000e+00,\n",
       "        4.630000e+02]])"
      ]
     },
     "execution_count": 113,
     "metadata": {},
     "output_type": "execute_result"
    }
   ],
   "source": [
    "X_selected"
   ]
  },
  {
   "cell_type": "code",
   "execution_count": null,
   "metadata": {},
   "outputs": [],
   "source": []
  },
  {
   "cell_type": "code",
   "execution_count": null,
   "metadata": {},
   "outputs": [],
   "source": []
  },
  {
   "cell_type": "code",
   "execution_count": null,
   "metadata": {},
   "outputs": [],
   "source": []
  },
  {
   "cell_type": "code",
   "execution_count": null,
   "metadata": {},
   "outputs": [],
   "source": []
  },
  {
   "cell_type": "code",
   "execution_count": null,
   "metadata": {},
   "outputs": [],
   "source": []
  },
  {
   "cell_type": "code",
   "execution_count": null,
   "metadata": {},
   "outputs": [],
   "source": []
  },
  {
   "cell_type": "code",
   "execution_count": null,
   "metadata": {},
   "outputs": [],
   "source": []
  },
  {
   "cell_type": "code",
   "execution_count": null,
   "metadata": {},
   "outputs": [],
   "source": []
  },
  {
   "cell_type": "code",
   "execution_count": null,
   "metadata": {},
   "outputs": [],
   "source": []
  },
  {
   "cell_type": "code",
   "execution_count": null,
   "metadata": {},
   "outputs": [],
   "source": []
  },
  {
   "cell_type": "code",
   "execution_count": null,
   "metadata": {},
   "outputs": [],
   "source": []
  },
  {
   "cell_type": "code",
   "execution_count": null,
   "metadata": {},
   "outputs": [],
   "source": []
  },
  {
   "cell_type": "code",
   "execution_count": null,
   "metadata": {},
   "outputs": [],
   "source": []
  },
  {
   "cell_type": "code",
   "execution_count": null,
   "metadata": {},
   "outputs": [],
   "source": []
  },
  {
   "cell_type": "code",
   "execution_count": null,
   "metadata": {},
   "outputs": [],
   "source": []
  },
  {
   "cell_type": "code",
   "execution_count": null,
   "metadata": {},
   "outputs": [],
   "source": []
  },
  {
   "cell_type": "code",
   "execution_count": null,
   "metadata": {},
   "outputs": [],
   "source": []
  },
  {
   "cell_type": "code",
   "execution_count": null,
   "metadata": {},
   "outputs": [],
   "source": []
  },
  {
   "cell_type": "code",
   "execution_count": null,
   "metadata": {},
   "outputs": [],
   "source": []
  },
  {
   "cell_type": "code",
   "execution_count": null,
   "metadata": {},
   "outputs": [],
   "source": []
  },
  {
   "cell_type": "code",
   "execution_count": null,
   "metadata": {},
   "outputs": [],
   "source": []
  },
  {
   "cell_type": "code",
   "execution_count": null,
   "metadata": {},
   "outputs": [],
   "source": []
  },
  {
   "cell_type": "code",
   "execution_count": null,
   "metadata": {},
   "outputs": [],
   "source": []
  },
  {
   "cell_type": "code",
   "execution_count": null,
   "metadata": {},
   "outputs": [],
   "source": []
  },
  {
   "cell_type": "code",
   "execution_count": null,
   "metadata": {},
   "outputs": [],
   "source": []
  },
  {
   "cell_type": "code",
   "execution_count": null,
   "metadata": {},
   "outputs": [],
   "source": []
  },
  {
   "cell_type": "code",
   "execution_count": null,
   "metadata": {},
   "outputs": [],
   "source": []
  },
  {
   "cell_type": "code",
   "execution_count": null,
   "metadata": {},
   "outputs": [],
   "source": []
  },
  {
   "cell_type": "code",
   "execution_count": null,
   "metadata": {},
   "outputs": [],
   "source": []
  },
  {
   "cell_type": "code",
   "execution_count": null,
   "metadata": {},
   "outputs": [],
   "source": []
  },
  {
   "cell_type": "code",
   "execution_count": null,
   "metadata": {},
   "outputs": [],
   "source": []
  },
  {
   "cell_type": "code",
   "execution_count": null,
   "metadata": {},
   "outputs": [],
   "source": []
  },
  {
   "cell_type": "code",
   "execution_count": null,
   "metadata": {},
   "outputs": [],
   "source": []
  },
  {
   "cell_type": "code",
   "execution_count": null,
   "metadata": {},
   "outputs": [],
   "source": []
  },
  {
   "cell_type": "code",
   "execution_count": null,
   "metadata": {},
   "outputs": [],
   "source": []
  },
  {
   "cell_type": "code",
   "execution_count": null,
   "metadata": {},
   "outputs": [],
   "source": []
  },
  {
   "cell_type": "code",
   "execution_count": null,
   "metadata": {},
   "outputs": [],
   "source": []
  },
  {
   "cell_type": "code",
   "execution_count": null,
   "metadata": {},
   "outputs": [],
   "source": []
  },
  {
   "cell_type": "code",
   "execution_count": null,
   "metadata": {},
   "outputs": [],
   "source": []
  },
  {
   "cell_type": "code",
   "execution_count": null,
   "metadata": {},
   "outputs": [],
   "source": []
  },
  {
   "cell_type": "code",
   "execution_count": null,
   "metadata": {},
   "outputs": [],
   "source": []
  },
  {
   "cell_type": "code",
   "execution_count": null,
   "metadata": {},
   "outputs": [],
   "source": []
  },
  {
   "cell_type": "code",
   "execution_count": null,
   "metadata": {},
   "outputs": [],
   "source": []
  },
  {
   "cell_type": "code",
   "execution_count": null,
   "metadata": {},
   "outputs": [],
   "source": []
  },
  {
   "cell_type": "code",
   "execution_count": null,
   "metadata": {},
   "outputs": [],
   "source": []
  },
  {
   "cell_type": "code",
   "execution_count": null,
   "metadata": {},
   "outputs": [],
   "source": []
  },
  {
   "cell_type": "code",
   "execution_count": null,
   "metadata": {},
   "outputs": [],
   "source": []
  },
  {
   "cell_type": "code",
   "execution_count": null,
   "metadata": {},
   "outputs": [],
   "source": []
  },
  {
   "cell_type": "code",
   "execution_count": null,
   "metadata": {},
   "outputs": [],
   "source": []
  },
  {
   "cell_type": "code",
   "execution_count": null,
   "metadata": {},
   "outputs": [],
   "source": []
  },
  {
   "cell_type": "code",
   "execution_count": null,
   "metadata": {},
   "outputs": [],
   "source": []
  },
  {
   "cell_type": "code",
   "execution_count": null,
   "metadata": {},
   "outputs": [],
   "source": []
  },
  {
   "cell_type": "code",
   "execution_count": null,
   "metadata": {},
   "outputs": [],
   "source": []
  },
  {
   "cell_type": "code",
   "execution_count": null,
   "metadata": {},
   "outputs": [],
   "source": []
  },
  {
   "cell_type": "code",
   "execution_count": null,
   "metadata": {},
   "outputs": [],
   "source": []
  },
  {
   "cell_type": "code",
   "execution_count": null,
   "metadata": {},
   "outputs": [],
   "source": []
  },
  {
   "cell_type": "code",
   "execution_count": null,
   "metadata": {},
   "outputs": [],
   "source": []
  },
  {
   "cell_type": "code",
   "execution_count": null,
   "metadata": {},
   "outputs": [],
   "source": []
  },
  {
   "cell_type": "code",
   "execution_count": null,
   "metadata": {},
   "outputs": [],
   "source": []
  },
  {
   "cell_type": "code",
   "execution_count": null,
   "metadata": {},
   "outputs": [],
   "source": []
  },
  {
   "cell_type": "code",
   "execution_count": null,
   "metadata": {},
   "outputs": [],
   "source": []
  },
  {
   "cell_type": "code",
   "execution_count": null,
   "metadata": {},
   "outputs": [],
   "source": [
    "\n",
    "\n",
    "\n",
    "\n"
   ]
  }
 ],
 "metadata": {
  "kernelspec": {
   "display_name": "Python [conda env:anaconda3]",
   "language": "python",
   "name": "conda-env-anaconda3-py"
  },
  "language_info": {
   "codemirror_mode": {
    "name": "ipython",
    "version": 3
   },
   "file_extension": ".py",
   "mimetype": "text/x-python",
   "name": "python",
   "nbconvert_exporter": "python",
   "pygments_lexer": "ipython3",
   "version": "3.6.5"
  }
 },
 "nbformat": 4,
 "nbformat_minor": 2
}
