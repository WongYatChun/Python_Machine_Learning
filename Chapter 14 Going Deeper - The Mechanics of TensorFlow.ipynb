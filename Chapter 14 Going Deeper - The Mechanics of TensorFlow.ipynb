{
 "cells": [
  {
   "cell_type": "markdown",
   "metadata": {},
   "source": [
    "# Chapter 14 - Going Deeper: The Mechanics of TensorFlow\n",
    "\n",
    "\n",
    "- [TensorFlow in a nutshell](#TensorFlow-in-a-nutshell)\n",
    "- [Understanding TensorFlow's computation graphs](#Understanding-TensorFlow's-computation-graphs)\n",
    "- [Working with TensorFlow’s placeholders, variables, and operations](#Working-with-TensorFlow’s-placeholders,-variables,-and-operations)\n",
    "  - [Using placeholders for feeding data as input to a model in TensorFlow](#Using-placeholders-for-feeding-data-as-input-to-a-model-in-TensorFlow)\n",
    "    - [Defining placeholders](#Defining-placeholders)\n",
    "    - [Feeding placeholders with data](#Feeding-placeholders-with-data)\n",
    "    - [Defining placeholders for data arrays with varying batchsizes](#Defining-placeholders-for-data-arrays-with-varying-batchsizes)\n",
    "  - [Variables in TensorFlow](#Variables-in-TensorFlow)\n",
    "    - [Defining variables](#Defining-variables)\n",
    "    - [Initializing variables](#Initializing-variables)\n",
    "    - [Variable scope](#Variable-scope)\n",
    "    - [Reusing variables](#Reusing-variables)\n",
    "  - [Building a regression model](#Building-a-regression-model)\n",
    "  - [Executing objects in a TensorFlow graph using their names](#Executing-objects-in-a-TensorFlow-graph-using-their-names)\n",
    "- [Saving and restoring a model in TensorFlow](#Saving-and-restoring-a-model-in-TensorFlow)\n",
    "- [Transforming Tensors as multidimensional data arrays](#Transforming-Tensors-as-multidimensional-data-arrays)\n",
    "- [Utilizing control flow mechanics in building graphs](#Utilizing-control-flow-mechanics-in-building-graphs)\n",
    "- [Visualizing the graph with TensorBoard](#Visualizing-the-graph-with-TensorBoard)\n",
    "- [Summary](#Summary)"
   ]
  },
  {
   "cell_type": "code",
   "execution_count": 1,
   "metadata": {},
   "outputs": [],
   "source": [
    "from IPython.display import Image\n",
    "%matplotlib inline\n",
    "\n",
    "import matplotlib.pyplot as plt\n",
    "import tensorflow as tf\n",
    "import numpy as np"
   ]
  },
  {
   "cell_type": "markdown",
   "metadata": {},
   "source": [
    "### How to get the rank and shape of a tensor\n",
    "\n",
    "- `tf.rank` function to get the rank of a tensor\n",
    "    - it returns a tensor as output\n",
    "    - to get the actual value, need to evaluate that tensor\n",
    "    \n",
    "- `X.get_shape()` get the shape of a TensorFlow tensor\n",
    "    - return an object of a special class called `TensorShape`\n",
    "    \n",
    "- We can print the shape and use it directly for the shape argument when creating other tensors\n",
    "- But we **cannot** index or slice this object directly\n",
    "    - we can convert it into a Python list using the `as_list` method of the tensor class"
   ]
  },
  {
   "cell_type": "code",
   "execution_count": 2,
   "metadata": {},
   "outputs": [
    {
     "name": "stdout",
     "output_type": "stream",
     "text": [
      "Shapes: () (4,) (2, 2)\n",
      "Ranks: 0 1 2\n"
     ]
    }
   ],
   "source": [
    "g = tf.Graph()\n",
    "\n",
    "## define the computation graph\n",
    "\n",
    "with g.as_default():\n",
    "    ## define tensors t1, t2, t3:\n",
    "    t1 = tf.constant(np.pi) # scalar 0\n",
    "    t2 = tf.constant([1,2,3,4]) # vector 1\n",
    "    t3 = tf.constant([[1,2],[3,4]]) # matrix 2\n",
    "    \n",
    "    ## get their ranks\n",
    "    r1 = tf.rank(t1) # zero-element tuple\n",
    "    r2 = tf.rank(t2) # one-element tuple\n",
    "    r3 = tf.rank(t3) # two element tuple\n",
    "    \n",
    "    ## get their shapes\n",
    "    s1 = t1.get_shape()\n",
    "    s2 = t2.get_shape()\n",
    "    s3 = t3.get_shape()\n",
    "    \n",
    "    print('Shapes:', s1,s2,s3)\n",
    "\n",
    "with tf.Session(graph = g) as sess:\n",
    "    print('Ranks:', r1.eval(), r2.eval(), r3.eval())\n",
    "    \n"
   ]
  },
  {
   "cell_type": "markdown",
   "metadata": {},
   "source": [
    "## Understanding TensorFlow's computation graph"
   ]
  },
  {
   "cell_type": "code",
   "execution_count": 3,
   "metadata": {},
   "outputs": [
    {
     "name": "stdout",
     "output_type": "stream",
     "text": [
      "2 * (a - b) + c =>  1\n"
     ]
    }
   ],
   "source": [
    "g = tf.Graph()\n",
    "\n",
    "## add nodes to the graph()\n",
    "\n",
    "with g.as_default():\n",
    "    a = tf.constant(1, name = 'a')\n",
    "    b = tf.constant(2, name = 'b')\n",
    "    c = tf.constant(3, name = 'c')\n",
    "    \n",
    "    z = 2 * (a-b) + c\n",
    "    \n",
    "# launch the graph\n",
    "\n",
    "with tf.Session(graph = g) as sess:\n",
    "    print('2 * (a - b) + c => ', sess.run(z))"
   ]
  },
  {
   "cell_type": "markdown",
   "metadata": {},
   "source": [
    "## Working with TensorFlow's placeholders, variables, and operations"
   ]
  },
  {
   "cell_type": "markdown",
   "metadata": {},
   "source": [
    "### Using placeholders for feeding data as input to a model in TensorFlow\n",
    "\n",
    "#### Defining placeholders"
   ]
  },
  {
   "cell_type": "code",
   "execution_count": 4,
   "metadata": {},
   "outputs": [],
   "source": [
    "g = tf.Graph()\n",
    "\n",
    "with g.as_default():\n",
    "    tf_a = tf.placeholder(tf.int32, shape = [],\n",
    "                          name = 'tf_a')\n",
    "    tf_b = tf.placeholder(tf.int32, shape = [],\n",
    "                          name = 'tf_b')\n",
    "    tf_c = tf.placeholder(tf.int32, shape = [],\n",
    "                          name = 'tf_c')\n",
    "    \n",
    "    r1 = tf_a - tf_b\n",
    "    r2 = 2 * r1\n",
    "    z = r2 + tf_c"
   ]
  },
  {
   "cell_type": "markdown",
   "metadata": {},
   "source": [
    "#### Feeding placeholders with data"
   ]
  },
  {
   "cell_type": "code",
   "execution_count": 5,
   "metadata": {},
   "outputs": [
    {
     "name": "stdout",
     "output_type": "stream",
     "text": [
      "z: 1\n"
     ]
    }
   ],
   "source": [
    "## launch the previous graph\n",
    "\n",
    "with tf.Session(graph = g) as sess:\n",
    "    feed = {tf_a : 1,\n",
    "            tf_b : 2,\n",
    "            tf_c : 3}\n",
    "    print('z:', sess.run(z, feed_dict = feed))"
   ]
  },
  {
   "cell_type": "markdown",
   "metadata": {},
   "source": [
    "Execution with and without feeding tf_c"
   ]
  },
  {
   "cell_type": "code",
   "execution_count": 6,
   "metadata": {},
   "outputs": [
    {
     "name": "stdout",
     "output_type": "stream",
     "text": [
      "r1: -1\n",
      "r2: -2\n",
      "r1: -1\n",
      "r2: -2\n"
     ]
    }
   ],
   "source": [
    "## launch the previous graph\n",
    "\n",
    "with tf.Session(graph = g) as sess:\n",
    "    ## execution without feeding tf_c\n",
    "    feed = {tf_a : 1,\n",
    "            tf_b : 2}\n",
    "    print('r1:', sess.run(r1, feed_dict = feed))\n",
    "    print('r2:', sess.run(r2, feed_dict = feed))\n",
    "    \n",
    "    ## execution with feeding tf_c\n",
    "    feed = {tf_a : 1,\n",
    "            tf_b : 2,\n",
    "            tf_c : 3}\n",
    "    \n",
    "    print('r1:', sess.run(r1, feed_dict = feed))\n",
    "    print('r2:', sess.run(r2, feed_dict = feed))\n",
    "    "
   ]
  },
  {
   "cell_type": "markdown",
   "metadata": {},
   "source": [
    "### Defining placeholders for data arrays with varying batchsizes\n",
    "\n",
    "placeholder for varing batchsizes"
   ]
  },
  {
   "cell_type": "code",
   "execution_count": 7,
   "metadata": {},
   "outputs": [
    {
     "name": "stdout",
     "output_type": "stream",
     "text": [
      "Feeding data with shape (5, 2)\n",
      "Result: [0.62 0.47]\n",
      "Feeding data with shape (10, 2)\n",
      "Result: [0.46 0.49]\n"
     ]
    }
   ],
   "source": [
    "g = tf.Graph()\n",
    "\n",
    "with g.as_default():\n",
    "    # specify `None` for the dimension that is varing size\n",
    "    tf_x = tf.placeholder(tf.float32, shape = [None, 2],\n",
    "                          name = 'tf_x')\n",
    "    x_mean = tf.reduce_mean(tf_x, axis = 0, name = 'mean')\n",
    "\n",
    "np.random.seed(123)\n",
    "np.set_printoptions(precision = 2)\n",
    "\n",
    "with tf.Session(graph = g) as sess:\n",
    "    x1 = np.random.uniform(low = 0, high = 1, size = (5,2))\n",
    "    print('Feeding data with shape', x1.shape)\n",
    "    print('Result:', sess.run(x_mean, feed_dict = {tf_x : x1}))\n",
    "    \n",
    "    x2 = np.random.uniform(low = 0, high = 1, size = (10,2))\n",
    "    print('Feeding data with shape', x2.shape)\n",
    "    print('Result:', sess.run(x_mean, feed_dict = {tf_x : x2}))\n",
    "    \n",
    "    "
   ]
  },
  {
   "cell_type": "code",
   "execution_count": 8,
   "metadata": {},
   "outputs": [
    {
     "name": "stdout",
     "output_type": "stream",
     "text": [
      "Tensor(\"tf_x:0\", shape=(?, 2), dtype=float32)\n"
     ]
    }
   ],
   "source": [
    "print(tf_x)"
   ]
  },
  {
   "cell_type": "markdown",
   "metadata": {},
   "source": [
    "### Variables in TensorFlow\n",
    "\n",
    "#### Defining Variables"
   ]
  },
  {
   "cell_type": "code",
   "execution_count": 9,
   "metadata": {},
   "outputs": [
    {
     "name": "stdout",
     "output_type": "stream",
     "text": [
      "<tf.Variable 'w:0' shape=(2, 4) dtype=int64_ref>\n"
     ]
    }
   ],
   "source": [
    "g1 = tf.Graph()\n",
    "\n",
    "with g1.as_default():\n",
    "    w = tf.Variable(np.array([[1,2,3,4],\n",
    "                              [5,6,7,8]]), name = 'w')\n",
    "    print(w)"
   ]
  },
  {
   "cell_type": "markdown",
   "metadata": {},
   "source": [
    "#### Initialzing variables\n",
    "\n",
    "- `tf.Variable`\n",
    "    - create an object for a new variable and add it to the graph\n",
    "    - does not have an explicit way to determine `shape` and `dtype`\n",
    "        - the same as those of the initial value\n",
    "        \n",
    "- `tf.get_variable`\n",
    "    - reuse an existing variable with a given name, or\n",
    "    - create a new one if the name does not exist\n",
    "    - explicit way to set `shape` and `dtype`\n",
    "    \n",
    "- In either initialization technique, noted that initial values are not set until we launch the graph in `tf.Session` and explicitly run the initializer operator in that session\n",
    "    - the required memory for a graph is not allocated until we initialize the variables in a TensorFlow session\n"
   ]
  },
  {
   "cell_type": "code",
   "execution_count": 10,
   "metadata": {},
   "outputs": [
    {
     "name": "stdout",
     "output_type": "stream",
     "text": [
      "[[1 2 3 4]\n",
      " [5 6 7 8]]\n"
     ]
    }
   ],
   "source": [
    "## initialize w and evaluate it\n",
    "\n",
    "with tf.Session(graph = g1) as sess:\n",
    "    sess.run(tf.global_variables_initializer())\n",
    "    print(sess.run(w))"
   ]
  },
  {
   "cell_type": "code",
   "execution_count": 11,
   "metadata": {},
   "outputs": [
    {
     "name": "stdout",
     "output_type": "stream",
     "text": [
      "[[1 2 3 4]\n",
      " [5 6 7 8]]\n"
     ]
    }
   ],
   "source": [
    "## add the init_op to the graph\n",
    "\n",
    "with g1.as_default():\n",
    "    init_op = tf.global_variables_initializer()\n",
    "\n",
    "## initialize w with init_op and evaluate it\n",
    "with tf.Session(graph = g1) as sess:\n",
    "    sess.run(init_op)\n",
    "    print(sess.run(w))"
   ]
  },
  {
   "cell_type": "code",
   "execution_count": 12,
   "metadata": {},
   "outputs": [],
   "source": [
    "g2 = tf.Graph()\n",
    "\n",
    "with g2.as_default():\n",
    "    w1 = tf.Variable(1,name = 'w1')\n",
    "    init_op =tf.global_variables_initializer()\n",
    "    w2 = tf.Variable(2, name = 'w2')"
   ]
  },
  {
   "cell_type": "code",
   "execution_count": 13,
   "metadata": {},
   "outputs": [
    {
     "name": "stdout",
     "output_type": "stream",
     "text": [
      "w1: 1\n"
     ]
    }
   ],
   "source": [
    "with tf.Session(graph = g2) as sess:\n",
    "    sess.run(init_op)\n",
    "    print('w1:', sess.run(w1))"
   ]
  },
  {
   "cell_type": "markdown",
   "metadata": {},
   "source": [
    "Error if a variable is not initialized:"
   ]
  },
  {
   "cell_type": "code",
   "execution_count": 14,
   "metadata": {},
   "outputs": [
    {
     "name": "stdout",
     "output_type": "stream",
     "text": [
      "Attempting to use uninitialized value w2\n",
      "\t [[Node: _retval_w2_0_0 = _Retval[T=DT_INT32, index=0, _device=\"/job:localhost/replica:0/task:0/device:CPU:0\"](w2)]]\n"
     ]
    }
   ],
   "source": [
    "with tf.Session(graph = g2) as sess:\n",
    "    try :\n",
    "        sess.run(init_op)\n",
    "        print('w2:', sess.run(w2))\n",
    "    except tf.errors.FailedPreconditionError as e:\n",
    "        print(e)"
   ]
  },
  {
   "cell_type": "markdown",
   "metadata": {},
   "source": [
    "#### Variable scope"
   ]
  },
  {
   "cell_type": "code",
   "execution_count": 15,
   "metadata": {},
   "outputs": [
    {
     "name": "stdout",
     "output_type": "stream",
     "text": [
      "<tf.Variable 'net_A/layer-1/weights:0' shape=(10, 4) dtype=float32_ref>\n",
      "<tf.Variable 'net_A/layer-2/weights:0' shape=(20, 10) dtype=float32_ref>\n",
      "<tf.Variable 'net_B/layer-1/weights:0' shape=(10, 4) dtype=float32_ref>\n"
     ]
    }
   ],
   "source": [
    "g = tf.Graph()\n",
    "\n",
    "with g.as_default():\n",
    "    with tf.variable_scope('net_A'):\n",
    "        with tf.variable_scope('layer-1'):\n",
    "            w1 = tf.Variable(tf.random_normal(shape=(10,4)), name='weights')\n",
    "        with tf.variable_scope('layer-2'):\n",
    "            w2 = tf.Variable(tf.random_normal(shape=(20,10)), name='weights')\n",
    "    with tf.variable_scope('net_B'):\n",
    "        with tf.variable_scope('layer-1'):\n",
    "            w3 = tf.Variable(tf.random_normal(shape=(10,4)), name='weights')\n",
    "            \n",
    "    print(w1)\n",
    "    print(w2)\n",
    "    print(w3)"
   ]
  },
  {
   "cell_type": "markdown",
   "metadata": {},
   "source": [
    "#### Reusing variables\n",
    "\n",
    "- a classifier whose input data comes from more than one source\n",
    "- desing our graph in such a way that it will use the data from only one source as input tensor to build the network\n",
    "\n",
    "In the following example, we assume that data from source A is fed through placeholder, and source B is the output of a generator network.\n",
    "\n",
    "We will build generator network by calling the `build_generator` function within the `generator` scope, then we will add a classifier by calling `build_classfier` within the `classifier` scope"
   ]
  },
  {
   "cell_type": "code",
   "execution_count": 16,
   "metadata": {},
   "outputs": [],
   "source": [
    "import tensorflow as tf\n",
    "\n",
    "########################\n",
    "## Helper function #####\n",
    "########################\n",
    "\n",
    "def build_classifier(data, labels, n_classes = 2):\n",
    "    data_shape = data.get_shape().as_list()\n",
    "    weights = tf.get_variable(name = 'weights',\n",
    "                              shape = (data_shape[1],\n",
    "                                       n_classes),\n",
    "                              dtype = tf.float32)\n",
    "    \n",
    "    bias = tf.get_variable(name = 'bias',\n",
    "                           initializer = tf.zeros(\n",
    "                                         shape = n_classes))\n",
    "    \n",
    "    logits = tf.add(tf.matmul(data, weights),\n",
    "                    bias,\n",
    "                    name = 'logits')\n",
    "    \n",
    "    return logits, tf.nn.softmax(logits)\n",
    "\n",
    "def build_generator(data, n_hidden):\n",
    "    data_shape = data.get_shape().as_list()\n",
    "    w1 = tf.Variable(tf.random_normal(shape=(data_shape[1],\n",
    "                                             n_hidden)),\n",
    "                    name = 'w1')\n",
    "    b1 = tf.Variable(tf.zeros(shape=n_hidden),\n",
    "                     name = 'b1')\n",
    "    hidden = tf.add(tf.matmul(data,w1),b1,name = 'hidden_pre-activation')\n",
    "    \n",
    "    w2 = tf.Variable(tf.random_normal(shape=(n_hidden,data_shape[1])),\n",
    "                     name = 'w2')\n",
    "    b2 = tf.Variable(tf.zeros(shape = data_shape[1]),\n",
    "                     name = 'b2')\n",
    "    output = tf.add(tf.matmul(hidden, w2), b2, name = 'output')\n",
    "    \n",
    "    return output, tf.nn.sigmoid(output)\n",
    "\n",
    "############################\n",
    "## Build the graph\n",
    "############################\n",
    "\n",
    "batch_size = 64\n",
    "\n",
    "g = tf.Graph()\n",
    "\n",
    "with g.as_default():\n",
    "    tf_X = tf.placeholder(shape = (batch_size, 100),\n",
    "                          dtype = tf.float32,\n",
    "                          name = 'tf_X')\n",
    "    \n",
    "    ## build the generator\n",
    "    with tf.variable_scope('generator'):\n",
    "        gen_out1 = build_generator(data = tf_X,\n",
    "                                   n_hidden = 50)\n",
    "    \n",
    "    ## build the classifier\n",
    "    with tf.variable_scope('classifier') as scope:\n",
    "        ## classifier for the original data:\n",
    "        cls_out1 = build_classifier(data = tf_X,\n",
    "                                    labels =tf.ones(shape = batch_size))\n",
    "        \n",
    "        ## reuse the classifier for generated data\n",
    "        scope.reuse_variables()\n",
    "        cls_out2 = build_classifier(data = gen_out1[1],\n",
    "                                    labels = tf.zeros(shape = batch_size))\n",
    "        init_op = tf.global_variables_initializer()"
   ]
  },
  {
   "cell_type": "code",
   "execution_count": 17,
   "metadata": {},
   "outputs": [],
   "source": [
    "## alternative way\n",
    "\n",
    "g = tf.Graph()\n",
    "\n",
    "with g.as_default():\n",
    "    tf_X = tf.placeholder(shape=(batch_size, 100), \n",
    "                          dtype=tf.float32,\n",
    "                          name='tf_X')\n",
    "    ## build the generator\n",
    "    with tf.variable_scope('generator'):\n",
    "        gen_out1 = build_generator(data=tf_X, \n",
    "                                   n_hidden=50)\n",
    "    \n",
    "    ## build the classifier\n",
    "    with tf.variable_scope('classifier'):\n",
    "        ## classifier for the original data:\n",
    "        cls_out1 = build_classifier(data=tf_X, \n",
    "                                    labels=tf.ones(\n",
    "                                        shape=batch_size))\n",
    "        \n",
    "    with tf.variable_scope('classifier', reuse=True):\n",
    "        ## reuse the classifier for generated data\n",
    "        cls_out2 = build_classifier(data=gen_out1[1],\n",
    "                                    labels=tf.zeros(\n",
    "                                        shape=batch_size))\n",
    "        \n",
    "        init_op = tf.global_variables_initializer()"
   ]
  },
  {
   "cell_type": "markdown",
   "metadata": {},
   "source": [
    "### Building a regression model"
   ]
  },
  {
   "cell_type": "code",
   "execution_count": 18,
   "metadata": {},
   "outputs": [
    {
     "name": "stdout",
     "output_type": "stream",
     "text": [
      "Tensor(\"y_hat:0\", dtype=float32)\n",
      "Tensor(\"cost:0\", shape=(), dtype=float32)\n"
     ]
    }
   ],
   "source": [
    "## define a graph\n",
    "\n",
    "g = tf.Graph()\n",
    "\n",
    "## define the computation graph\n",
    "\n",
    "with g.as_default():\n",
    "    ## placeholders\n",
    "    tf.set_random_seed(123)\n",
    "    tf_x = tf.placeholder(shape = (None),\n",
    "                          dtype = tf.float32,\n",
    "                          name = 'tf_x')\n",
    "    tf_y = tf.placeholder(shape = (None),\n",
    "                          dtype = tf.float32,\n",
    "                          name = 'tf_y')\n",
    "    \n",
    "    ## define the variable (model parameters)\n",
    "    weight = tf.Variable(\n",
    "                tf.random_normal(shape = (1,1),stddev = 0.25),\n",
    "                name = 'weight')\n",
    "    bias = tf.Variable(0.0, name = 'bias')\n",
    "    \n",
    "    ## build the model\n",
    "    y_hat = tf.add(weight * tf_x, bias, name = 'y_hat')\n",
    "    \n",
    "    print(y_hat)\n",
    "    \n",
    "    ## compute the cost\n",
    "    cost = tf.reduce_mean(tf.square(tf_y - y_hat), name = 'cost')\n",
    "    \n",
    "    print(cost)\n",
    "    \n",
    "    ## train\n",
    "    optim = tf.train.GradientDescentOptimizer(\n",
    "        learning_rate = 0.001)\n",
    "    train_op = optim.minimize(cost, name = 'train_op')\n"
   ]
  },
  {
   "cell_type": "code",
   "execution_count": 19,
   "metadata": {},
   "outputs": [
    {
     "data": {
      "text/plain": [
       "[<matplotlib.lines.Line2D at 0x7f3fe456f400>]"
      ]
     },
     "execution_count": 19,
     "metadata": {},
     "output_type": "execute_result"
    },
    {
     "data": {
      "image/png": "[encoded data removed]",
      "text/plain": [
       "<Figure size 432x288 with 1 Axes>"
      ]
     },
     "metadata": {},
     "output_type": "display_data"
    }
   ],
   "source": [
    "## create a random toy dataset for regression\n",
    "\n",
    "np.random.seed(0)\n",
    "\n",
    "def make_random_data():\n",
    "    x = np.random.uniform(low = -2, high = 4, size = 200)\n",
    "    y = []\n",
    "    for t in x:\n",
    "        r = np.random.normal(loc = 0.0,\n",
    "                             scale = (0.5 + t * t/3),\n",
    "                             size = None)\n",
    "        y.append(r)\n",
    "    return x, 1.726 * x - 0.84 + np.array(y)\n",
    "\n",
    "x, y = make_random_data()\n",
    "\n",
    "plt.plot(x, y, 'o')\n"
   ]
  },
  {
   "cell_type": "markdown",
   "metadata": {},
   "source": [
    "### Executing objects in a TensorFlow graph using their names"
   ]
  },
  {
   "cell_type": "code",
   "execution_count": 20,
   "metadata": {},
   "outputs": [
    {
     "name": "stdout",
     "output_type": "stream",
     "text": [
      "Epoch    0: 12.2230\n",
      "Epoch   50: 8.3876\n",
      "Epoch  100: 6.5721\n",
      "Epoch  150: 5.6844\n",
      "Epoch  200: 5.2269\n",
      "Epoch  250: 4.9725\n",
      "Epoch  300: 4.8169\n",
      "Epoch  350: 4.7119\n",
      "Epoch  400: 4.6347\n",
      "Epoch  450: 4.5742\n"
     ]
    },
    {
     "data": {
      "text/plain": [
       "[<matplotlib.lines.Line2D at 0x7f3fe4515438>]"
      ]
     },
     "execution_count": 20,
     "metadata": {},
     "output_type": "execute_result"
    },
    {
     "data": {
      "image/png": "[encoded data removed]",
      "text/plain": [
       "<Figure size 432x288 with 1 Axes>"
      ]
     },
     "metadata": {},
     "output_type": "display_data"
    }
   ],
   "source": [
    "## train/test splits\n",
    "\n",
    "x_train, y_train = x[:100], y[:100]\n",
    "x_test, y_test = x[100:], y[100:]\n",
    "\n",
    "## training the model\n",
    "\n",
    "n_epochs = 500\n",
    "training_costs = []\n",
    "\n",
    "with tf.Session(graph=g) as sess:\n",
    "    ## first, run the variables initializer\n",
    "    sess.run(tf.global_variables_initializer())\n",
    "    \n",
    "    ## train the model for n_epochs\n",
    "    for e in range(n_epochs):\n",
    "        c, _ = sess.run([cost, train_op],\n",
    "                        feed_dict = {tf_x : x_train,\n",
    "                                     tf_y : y_train})\n",
    "        training_costs.append(c)\n",
    "        if not e % 50:\n",
    "            print('Epoch %4d: %.4f' % (e,c))\n",
    "\n",
    "plt.plot(training_costs)"
   ]
  },
  {
   "cell_type": "markdown",
   "metadata": {},
   "source": [
    "Executing with variable names:"
   ]
  },
  {
   "cell_type": "code",
   "execution_count": 21,
   "metadata": {},
   "outputs": [
    {
     "data": {
      "image/png": "[encoded data removed]",
      "text/plain": [
       "<Figure size 432x288 with 1 Axes>"
      ]
     },
     "metadata": {},
     "output_type": "display_data"
    },
    {
     "name": "stdout",
     "output_type": "stream",
     "text": [
      "Epoch    0: 12.2230\n",
      "Epoch   50: 8.3876\n",
      "Epoch  100: 6.5721\n",
      "Epoch  150: 5.6844\n",
      "Epoch  200: 5.2269\n",
      "Epoch  250: 4.9725\n",
      "Epoch  300: 4.8169\n",
      "Epoch  350: 4.7119\n",
      "Epoch  400: 4.6347\n",
      "Epoch  450: 4.5742\n"
     ]
    }
   ],
   "source": [
    "## train/test splits\n",
    "x_train, y_train = x[:100], y[:100]\n",
    "x_test, y_test = x[100:], y[100:]\n",
    "\n",
    "## plot trainng data\n",
    "plt.plot(x_train, y_train, 'o')\n",
    "plt.show()\n",
    "\n",
    "## training the model\n",
    "n_epochs = 500\n",
    "training_costs = []\n",
    "with tf.Session(graph=g) as sess:\n",
    "    ## first, run the variables initializer\n",
    "    sess.run(tf.global_variables_initializer())\n",
    "    \n",
    "    ## train the model for n_eopchs\n",
    "    for e in range(n_epochs):\n",
    "        c, _ = sess.run(['cost:0', 'train_op'], # names!\n",
    "                        feed_dict={'tf_x:0': x_train,\n",
    "                                   'tf_y:0': y_train})\n",
    "        training_costs.append(c)\n",
    "        if not e % 50:\n",
    "            print('Epoch %4d: %.4f' % (e, c))"
   ]
  },
  {
   "cell_type": "markdown",
   "metadata": {},
   "source": [
    "## Saving and restoring a model in TensorFlow\n",
    "\n",
    "- once we exit the `tf.Session` environment, all the variables and their allocated memories are freed\n",
    "- we need to save the trained model for future use, therefore,\n",
    "- we adda a new node to the graph, an instance of the `tf.train.Saver` class\n",
    "    - which we call `saver`"
   ]
  },
  {
   "cell_type": "code",
   "execution_count": 22,
   "metadata": {},
   "outputs": [
    {
     "name": "stdout",
     "output_type": "stream",
     "text": [
      "Epoch    0: 12.2230\n",
      "Epoch   50: 8.3876\n",
      "Epoch  100: 6.5721\n",
      "Epoch  150: 5.6844\n",
      "Epoch  200: 5.2269\n",
      "Epoch  250: 4.9725\n",
      "Epoch  300: 4.8169\n",
      "Epoch  350: 4.7119\n",
      "Epoch  400: 4.6347\n",
      "Epoch  450: 4.5742\n"
     ]
    }
   ],
   "source": [
    "## add saver to the graph\n",
    "with g.as_default():\n",
    "    saver = tf.train.Saver()\n",
    "    \n",
    "## train the model\n",
    "n_epochs = 500\n",
    "training_costs = []\n",
    "\n",
    "with tf.Session(graph = g) as sess:\n",
    "    ## first, run the variables initialier\n",
    "    sess.run(tf.global_variables_initializer())\n",
    "    \n",
    "    ## train the model for n_epochs\n",
    "    for e in range(n_epochs):\n",
    "        c, _ = sess.run(['cost:0','train_op'],\n",
    "                        feed_dict = {'tf_x:0':x_train,\n",
    "                                     'tf_y:0':y_train})\n",
    "        training_costs.append(c)\n",
    "        if not e % 50:\n",
    "            print('Epoch %4d: %.4f' % (e,c))\n",
    "    \n",
    "    saver.save(sess,'./trained-model')\n",
    "    \n",
    "    ## as a result, three files are created with extensions .data, .index, .meta"
   ]
  },
  {
   "cell_type": "markdown",
   "metadata": {},
   "source": [
    "Restoring the saved model:\n",
    "\n",
    "1. Rebuild the graph that has the same nodes and names as the saved model \n",
    " - all of the information is saved as metadata (.meta)\n",
    "\n",
    "\n",
    "2. Restore the saved variables in a new `tf.Session` environment"
   ]
  },
  {
   "cell_type": "code",
   "execution_count": 23,
   "metadata": {},
   "outputs": [
    {
     "name": "stdout",
     "output_type": "stream",
     "text": [
      "INFO:tensorflow:Restoring parameters from ./trained-model\n"
     ]
    }
   ],
   "source": [
    "## new file: loading a trained model\n",
    "## and run the model on test set\n",
    "\n",
    "\n",
    "g2 = tf.Graph()\n",
    "\n",
    "with tf.Session(graph = g2) as sess:\n",
    "    # load the .meta file, recreating the graph\n",
    "    new_saver = tf.train.import_meta_graph(\n",
    "        './trained-model.meta')\n",
    "    # restore the parameters of the model in that session and execute it\n",
    "    new_saver.restore(sess, './trained-model')\n",
    "    \n",
    "    y_pred = sess.run('y_hat:0',\n",
    "                      feed_dict = {'tf_x:0' : x_test})"
   ]
  },
  {
   "cell_type": "code",
   "execution_count": 24,
   "metadata": {},
   "outputs": [
    {
     "name": "stdout",
     "output_type": "stream",
     "text": [
      "SSE: 538.8118\n"
     ]
    }
   ],
   "source": [
    "print('SSE: %.4f' % (np.sum(np.square(y_pred - y_test))))"
   ]
  },
  {
   "cell_type": "code",
   "execution_count": 25,
   "metadata": {},
   "outputs": [
    {
     "name": "stdout",
     "output_type": "stream",
     "text": [
      "INFO:tensorflow:Restoring parameters from ./trained-model\n"
     ]
    },
    {
     "data": {
      "text/plain": [
       "[<matplotlib.lines.Line2D at 0x7f3fe436ef60>]"
      ]
     },
     "execution_count": 25,
     "metadata": {},
     "output_type": "execute_result"
    },
    {
     "data": {
      "image/png": "[encoded data removed]",
      "text/plain": [
       "<Figure size 432x288 with 1 Axes>"
      ]
     },
     "metadata": {},
     "output_type": "display_data"
    }
   ],
   "source": [
    "# visualize the prediction\n",
    "\n",
    "x_arr = np.arange(-2,4,0.1)\n",
    "\n",
    "g2 = tf.Graph()\n",
    "\n",
    "with tf.Session(graph = g2) as sess:\n",
    "    new_saver = tf.train.import_meta_graph('./trained-model.meta')\n",
    "    new_saver.restore(sess, './trained-model')\n",
    "    \n",
    "    y_arr = sess.run('y_hat:0', feed_dict = {'tf_x:0': x_arr})\n",
    "\n",
    "plt.figure()\n",
    "plt.plot(x_train, y_train, 'bo')\n",
    "plt.plot(x_test, y_test, 'bo', alpha=0.3)\n",
    "plt.plot(x_arr, y_arr.T[:, 0], '-r', lw=3)"
   ]
  },
  {
   "cell_type": "markdown",
   "metadata": {},
   "source": [
    "## Transforming Tensors as multidimensional data arrays\n",
    "\n",
    "- explore a selection of operators that can be used to transform tensors\n",
    "- similar to `Numpy`\n",
    "- But when dealing with tensors with ranks higher than 2, we need to be careful in using such transformations\n",
    "    - e.g. transpose of a tensor"
   ]
  },
  {
   "cell_type": "code",
   "execution_count": 26,
   "metadata": {},
   "outputs": [
    {
     "name": "stdout",
     "output_type": "stream",
     "text": [
      "Tensor(\"T1:0\", shape=(3, 4), dtype=float64)\n",
      "Shape of T1 is (3, 4)\n",
      "<tf.Variable 'Variable:0' shape=(3, 4) dtype=float32_ref>\n",
      "<tf.Variable 'Variable_1:0' shape=(3,) dtype=float32_ref>\n"
     ]
    }
   ],
   "source": [
    "## tf.get_shape to get the shape of a Numpy array\n",
    "\n",
    "import tensorflow as tf\n",
    "import numpy as np\n",
    "\n",
    "g = tf.Graph()\n",
    "\n",
    "with g.as_default():\n",
    "    arr = np.array([[1.,2.,3.,3.5],\n",
    "                    [4.,5.,6.,6.5],\n",
    "                    [7.,8.,9.,9.5]])\n",
    "    T1 = tf.constant(arr, name = 'T1')\n",
    "    print(T1)\n",
    "    s = T1.get_shape()\n",
    "    print('Shape of T1 is',s)\n",
    "    T2 = tf.Variable(tf.random_normal(shape = s))\n",
    "    print(T2)\n",
    "    # cannot slice or idex s for creating T3\n",
    "    # convert s into a regular Python list by s.as_list()\n",
    "    T3 = tf.Variable(tf.random_normal(shape = (s.as_list()[0],)))\n",
    "    print(T3)"
   ]
  },
  {
   "cell_type": "code",
   "execution_count": 27,
   "metadata": {},
   "outputs": [
    {
     "name": "stdout",
     "output_type": "stream",
     "text": [
      "Tensor(\"T4:0\", shape=(1, 1, 12), dtype=float64)\n",
      "Tensor(\"T5:0\", shape=(1, 3, 4), dtype=float64)\n"
     ]
    }
   ],
   "source": [
    "# reshape tensors: tf.reshape\n",
    "\n",
    "# one dimension can be set to -1\n",
    "# the size of the new dimension will be inferred based on the total size of the array\n",
    "# and the other remaining dimension(s) that are specified\n",
    "\n",
    "with g.as_default():\n",
    "    T4 = tf.reshape(T1, shape = [1,1,-1],\n",
    "                    name = 'T4')\n",
    "    print(T4)\n",
    "    T5 = tf.reshape(T1, shape = [1,3,-1],\n",
    "                    name = 'T5')\n",
    "    print(T5)"
   ]
  },
  {
   "cell_type": "code",
   "execution_count": 28,
   "metadata": {},
   "outputs": [
    {
     "name": "stdout",
     "output_type": "stream",
     "text": [
      "[[[1.  2.  3.  3.5 4.  5.  6.  6.5 7.  8.  9.  9.5]]]\n",
      "\n",
      "[[[1.  2.  3.  3.5]\n",
      "  [4.  5.  6.  6.5]\n",
      "  [7.  8.  9.  9.5]]]\n"
     ]
    }
   ],
   "source": [
    "with tf.Session(graph = g) as sess:\n",
    "    print(sess.run(T4))\n",
    "    print()\n",
    "    print(sess.run(T5))"
   ]
  },
  {
   "cell_type": "code",
   "execution_count": 29,
   "metadata": {},
   "outputs": [
    {
     "name": "stdout",
     "output_type": "stream",
     "text": [
      "Tensor(\"T6:0\", shape=(4, 3, 1), dtype=float64)\n",
      "Tensor(\"T7:0\", shape=(1, 4, 3), dtype=float64)\n"
     ]
    }
   ],
   "source": [
    "# transpose a tensor in TensorFlow: tf.transpose\n",
    "# change the order of the dimensions in any way \n",
    "# by specifying the order in `perm = [...]`\n",
    "\n",
    "\n",
    "with g.as_default():\n",
    "    T6 = tf.transpose(T5, perm=[2,1,0],\n",
    "                      name = 'T6')\n",
    "    print(T6)\n",
    "    T7 = tf.transpose(T5, perm=[0,2,1],\n",
    "                      name = 'T7')\n",
    "    print(T7)"
   ]
  },
  {
   "cell_type": "code",
   "execution_count": 30,
   "metadata": {},
   "outputs": [
    {
     "name": "stdout",
     "output_type": "stream",
     "text": [
      "[<tf.Tensor 'T8:0' shape=(1, 3, 2) dtype=float64>, <tf.Tensor 'T8:1' shape=(1, 3, 2) dtype=float64>]\n"
     ]
    }
   ],
   "source": [
    "# split a tensor into a list of subtensors using the `tf.split`\n",
    "\n",
    "with g.as_default():\n",
    "    t5_split = tf.split(T5, num_or_size_splits=2,axis=2,name='T8')\n",
    "# the output is not a tensor object, but a list of tensors\n",
    "    print(t5_split)"
   ]
  },
  {
   "cell_type": "code",
   "execution_count": 31,
   "metadata": {},
   "outputs": [
    {
     "name": "stdout",
     "output_type": "stream",
     "text": [
      "Tensor(\"t1:0\", shape=(5, 1), dtype=float32)\n",
      "Tensor(\"t2:0\", shape=(5, 1), dtype=float32)\n",
      "Tensor(\"t3:0\", shape=(10, 1), dtype=float32)\n",
      "Tensor(\"t4:0\", shape=(5, 2), dtype=float32)\n"
     ]
    }
   ],
   "source": [
    "# Concatenation of multiple tensors: tf.concat\n",
    "\n",
    "g = tf.Graph()\n",
    "\n",
    "with g.as_default():\n",
    "    t1 = tf.ones(shape = (5,1),\n",
    "                 dtype = tf.float32, name = 't1')\n",
    "    t2 = tf.zeros(shape = (5,1),\n",
    "                  dtype = tf.float32, name = 't2')\n",
    "    print(t1)\n",
    "    print(t2)\n",
    "\n",
    "with g.as_default():\n",
    "    t3 = tf.concat([t1,t2],axis=0,name='t3')\n",
    "    print(t3)\n",
    "    t4 = tf.concat([t1,t2],axis=1,name='t4')\n",
    "    print(t4)"
   ]
  },
  {
   "cell_type": "code",
   "execution_count": 32,
   "metadata": {},
   "outputs": [
    {
     "name": "stdout",
     "output_type": "stream",
     "text": [
      "[[1.]\n",
      " [1.]\n",
      " [1.]\n",
      " [1.]\n",
      " [1.]\n",
      " [0.]\n",
      " [0.]\n",
      " [0.]\n",
      " [0.]\n",
      " [0.]]\n",
      "\n",
      "[[1. 0.]\n",
      " [1. 0.]\n",
      " [1. 0.]\n",
      " [1. 0.]\n",
      " [1. 0.]]\n"
     ]
    }
   ],
   "source": [
    "with tf.Session(graph = g) as sess:\n",
    "    print(t3.eval())\n",
    "    print()\n",
    "    print(t4.eval())"
   ]
  },
  {
   "cell_type": "markdown",
   "metadata": {},
   "source": [
    "## Utilizing control flow mechanics in building graphs\n",
    "\n",
    "There are some subtle differences when we use Python's control flow statements compared to TensorFlow's control flow functions, when constructing computation graphs"
   ]
  },
  {
   "cell_type": "code",
   "execution_count": 36,
   "metadata": {},
   "outputs": [
    {
     "name": "stdout",
     "output_type": "stream",
     "text": [
      "Object:  Tensor(\"result_add:0\", dtype=float32)\n",
      "x<y: True -> Result 3.0\n",
      "x<y: False -> Result 3.0\n"
     ]
    }
   ],
   "source": [
    "## Python control flow\n",
    "\n",
    "x, y = 1.0, 2.0\n",
    "\n",
    "g = tf.Graph()\n",
    "\n",
    "with g.as_default():\n",
    "    tf_x = tf.placeholder(dtype=tf.float32,\n",
    "                          shape = None, name = 'tf_x')\n",
    "    tf_y = tf.placeholder(dtype=tf.float32,\n",
    "                          shape = None, name = 'tf_y')\n",
    "    if x < y:\n",
    "        res = tf.add(tf_x, tf_y, name = 'result_add')\n",
    "    else:\n",
    "        res = tf.subtract(tf_x, tf_y, name = 'result_sub')\n",
    "    print('Object: ', res)\n",
    "    \n",
    "# the computation graph has only one branch associated with the addition operator,\n",
    "# and the subtract operator has not been called\n",
    "    \n",
    "with tf.Session(graph=g) as sess:\n",
    "    print('x<y: %s -> Result' % (x<y),\n",
    "          res.eval(feed_dict={'tf_x:0':x,\n",
    "                              'tf_y:0':y}))\n",
    "    x, y = 2.0, 1.0\n",
    "    # TensorFlow computation graph is static\n",
    "    # once the compuatation graph is built\n",
    "    # it remains unchanged during the execution process\n",
    "    print('x<y: %s -> Result' % (x<y),\n",
    "          res.eval(feed_dict={'tf_x:0':x,\n",
    "                              'tf_y:0':y}))\n",
    "    ## uncomment the next line if you want to visualize the graph in TensorBoard:\n",
    "    file_writer = tf.summary.FileWriter(logdir='./logs/py-cflow/', graph=g)\n",
    "    "
   ]
  },
  {
   "cell_type": "code",
   "execution_count": 35,
   "metadata": {},
   "outputs": [
    {
     "name": "stdout",
     "output_type": "stream",
     "text": [
      "Object: Tensor(\"cond/Merge:0\", dtype=float32)\n",
      "x<y: True -> Result: 3.0\n",
      "x<y: False -> Result: 1.0\n"
     ]
    }
   ],
   "source": [
    "## TensorFlow control flow\n",
    "\n",
    "x, y = 1.0, 2.0\n",
    "\n",
    "g = tf.Graph()\n",
    "\n",
    "with g.as_default():\n",
    "    tf_x = tf.placeholder(dtype=tf.float32,\n",
    "                          shape = None, name = 'tf_x')\n",
    "    tf_y = tf.placeholder(dtype=tf.float32,\n",
    "                          shape = None, name = 'tf_y')\n",
    "    res = tf.cond(tf_x<tf_y,\n",
    "                  lambda: tf.add(tf_x, tf_y,\n",
    "                                 name = 'result_add'),\n",
    "                  lambda: tf.subtract(tf_x, tf_y,\n",
    "                                       name = 'result_sub'))\n",
    "    print('Object:', res)\n",
    "    \n",
    "with tf.Session(graph = g) as sess:\n",
    "    print('x<y: %s -> Result:' % (x<y),\n",
    "          res.eval(feed_dict = {'tf_x:0':x,\n",
    "                                'tf_y:0':y}))\n",
    "    x, y = 2.0, 1.0\n",
    "    # the `res` object is named \"cond/Merge: 0\"\n",
    "    # the computation graph has two branches with a mechanism to decide\n",
    "    # which branch to follow at execution time\n",
    "    \n",
    "    print('x<y: %s -> Result:' % (x<y),\n",
    "          res.eval(feed_dict = {'tf_x:0':x,\n",
    "                                'tf_y:0':y}))\n",
    "    "
   ]
  },
  {
   "cell_type": "markdown",
   "metadata": {},
   "source": [
    "## Visualizing the graph with TensorBoard"
   ]
  },
  {
   "cell_type": "code",
   "execution_count": 37,
   "metadata": {},
   "outputs": [
    {
     "name": "stdout",
     "output_type": "stream",
     "text": [
      "<tf.Variable 'classifier/weights:0' shape=(100, 2) dtype=float32_ref>\n",
      "<tf.Variable 'classifier/bias:0' shape=(2,) dtype=float32_ref>\n",
      "Tensor(\"classifier/logits:0\", shape=(64, 2), dtype=float32)\n",
      "<tf.Variable 'classifier/weights:0' shape=(100, 2) dtype=float32_ref>\n",
      "<tf.Variable 'classifier/bias:0' shape=(2,) dtype=float32_ref>\n",
      "Tensor(\"classifier/logits_1:0\", shape=(64, 2), dtype=float32)\n"
     ]
    }
   ],
   "source": [
    "import tensorflow as tf\n",
    "\n",
    "\n",
    "###########################\n",
    "##   Helper functions    ##\n",
    "###########################\n",
    "\n",
    "def build_classifier(data, labels, n_classes=2):\n",
    "    data_shape = data.get_shape().as_list()\n",
    "    weights = tf.get_variable(name = 'weights',\n",
    "                              shape=(data_shape[1],\n",
    "                                     n_classes),\n",
    "                              dtype=tf.float32)\n",
    "    bias = tf.get_variable(name='bias', \n",
    "                           initializer=tf.zeros(\n",
    "                                     shape=n_classes))\n",
    "    print(weights)\n",
    "    print(bias)\n",
    "    logits = tf.add(tf.matmul(data, weights), \n",
    "                    bias, \n",
    "                    name='logits')\n",
    "    print(logits)\n",
    "    return logits, tf.nn.softmax(logits)\n",
    "\n",
    "\n",
    "def build_generator(data, n_hidden):\n",
    "    data_shape = data.get_shape().as_list()\n",
    "    w1 = tf.Variable(\n",
    "        tf.random_normal(shape=(data_shape[1], \n",
    "                                n_hidden)),\n",
    "        name='w1')\n",
    "    b1 = tf.Variable(tf.zeros(shape=n_hidden),\n",
    "                     name='b1')\n",
    "    hidden = tf.add(tf.matmul(data, w1), b1, \n",
    "                    name='hidden_pre-activation')\n",
    "    hidden = tf.nn.relu(hidden, 'hidden_activation')\n",
    "        \n",
    "    w2 = tf.Variable(\n",
    "        tf.random_normal(shape=(n_hidden, \n",
    "                                data_shape[1])),\n",
    "        name='w2')\n",
    "    b2 = tf.Variable(tf.zeros(shape=data_shape[1]),\n",
    "                     name='b2')\n",
    "    output = tf.add(tf.matmul(hidden, w2), b2, \n",
    "                    name = 'output')\n",
    "    return output, tf.nn.sigmoid(output)\n",
    "\n",
    "\n",
    "###########################\n",
    "##  Building the graph   ##\n",
    "###########################\n",
    "\n",
    "batch_size=64\n",
    "g = tf.Graph()\n",
    "\n",
    "with g.as_default():\n",
    "    tf_X = tf.placeholder(shape=(batch_size, 100), \n",
    "                          dtype=tf.float32,\n",
    "                          name='tf_X')\n",
    "    \n",
    "    ## build the generator\n",
    "    with tf.variable_scope('generator'):\n",
    "        gen_out1 = build_generator(data=tf_X, \n",
    "                                   n_hidden=50)\n",
    "    \n",
    "    ## build the classifier\n",
    "    with tf.variable_scope('classifier') as scope:\n",
    "        ## classifier for the original data:\n",
    "        cls_out1 = build_classifier(data=tf_X, \n",
    "                                    labels=tf.ones(\n",
    "                                        shape=batch_size))\n",
    "        \n",
    "        ## reuse the classifier for generated data\n",
    "        scope.reuse_variables()\n",
    "        cls_out2 = build_classifier(data=gen_out1[1],\n",
    "                                    labels=tf.zeros(\n",
    "                                        shape=batch_size))\n",
    "\n",
    "        \n",
    "with tf.Session(graph = g) as sess:\n",
    "    sess.run(tf.global_variables_initializer())\n",
    "    \n",
    "    file_writer = tf.summary.FileWriter(logdir='logs/', graph=g)\n",
    "\n"
   ]
  },
  {
   "cell_type": "code",
   "execution_count": null,
   "metadata": {},
   "outputs": [],
   "source": []
  },
  {
   "cell_type": "code",
   "execution_count": null,
   "metadata": {},
   "outputs": [],
   "source": []
  },
  {
   "cell_type": "code",
   "execution_count": null,
   "metadata": {},
   "outputs": [],
   "source": []
  },
  {
   "cell_type": "code",
   "execution_count": null,
   "metadata": {},
   "outputs": [],
   "source": []
  },
  {
   "cell_type": "code",
   "execution_count": null,
   "metadata": {},
   "outputs": [],
   "source": []
  },
  {
   "cell_type": "code",
   "execution_count": null,
   "metadata": {},
   "outputs": [],
   "source": []
  },
  {
   "cell_type": "code",
   "execution_count": null,
   "metadata": {},
   "outputs": [],
   "source": []
  },
  {
   "cell_type": "code",
   "execution_count": null,
   "metadata": {},
   "outputs": [],
   "source": []
  },
  {
   "cell_type": "code",
   "execution_count": null,
   "metadata": {},
   "outputs": [],
   "source": []
  },
  {
   "cell_type": "code",
   "execution_count": null,
   "metadata": {},
   "outputs": [],
   "source": []
  },
  {
   "cell_type": "code",
   "execution_count": null,
   "metadata": {},
   "outputs": [],
   "source": []
  },
  {
   "cell_type": "code",
   "execution_count": null,
   "metadata": {},
   "outputs": [],
   "source": []
  },
  {
   "cell_type": "code",
   "execution_count": null,
   "metadata": {},
   "outputs": [],
   "source": []
  },
  {
   "cell_type": "code",
   "execution_count": null,
   "metadata": {},
   "outputs": [],
   "source": []
  },
  {
   "cell_type": "code",
   "execution_count": null,
   "metadata": {},
   "outputs": [],
   "source": []
  },
  {
   "cell_type": "code",
   "execution_count": null,
   "metadata": {},
   "outputs": [],
   "source": []
  },
  {
   "cell_type": "code",
   "execution_count": null,
   "metadata": {},
   "outputs": [],
   "source": []
  },
  {
   "cell_type": "code",
   "execution_count": null,
   "metadata": {},
   "outputs": [],
   "source": []
  },
  {
   "cell_type": "code",
   "execution_count": null,
   "metadata": {},
   "outputs": [],
   "source": []
  },
  {
   "cell_type": "code",
   "execution_count": null,
   "metadata": {},
   "outputs": [],
   "source": []
  },
  {
   "cell_type": "code",
   "execution_count": null,
   "metadata": {},
   "outputs": [],
   "source": []
  },
  {
   "cell_type": "code",
   "execution_count": null,
   "metadata": {},
   "outputs": [],
   "source": []
  },
  {
   "cell_type": "code",
   "execution_count": null,
   "metadata": {},
   "outputs": [],
   "source": []
  },
  {
   "cell_type": "code",
   "execution_count": null,
   "metadata": {},
   "outputs": [],
   "source": []
  },
  {
   "cell_type": "code",
   "execution_count": null,
   "metadata": {},
   "outputs": [],
   "source": []
  },
  {
   "cell_type": "code",
   "execution_count": null,
   "metadata": {},
   "outputs": [],
   "source": []
  },
  {
   "cell_type": "code",
   "execution_count": null,
   "metadata": {},
   "outputs": [],
   "source": []
  },
  {
   "cell_type": "code",
   "execution_count": null,
   "metadata": {},
   "outputs": [],
   "source": []
  },
  {
   "cell_type": "code",
   "execution_count": null,
   "metadata": {},
   "outputs": [],
   "source": []
  },
  {
   "cell_type": "code",
   "execution_count": null,
   "metadata": {},
   "outputs": [],
   "source": []
  },
  {
   "cell_type": "code",
   "execution_count": null,
   "metadata": {},
   "outputs": [],
   "source": []
  },
  {
   "cell_type": "code",
   "execution_count": null,
   "metadata": {},
   "outputs": [],
   "source": []
  },
  {
   "cell_type": "code",
   "execution_count": null,
   "metadata": {},
   "outputs": [],
   "source": []
  },
  {
   "cell_type": "code",
   "execution_count": null,
   "metadata": {},
   "outputs": [],
   "source": []
  },
  {
   "cell_type": "code",
   "execution_count": null,
   "metadata": {},
   "outputs": [],
   "source": []
  },
  {
   "cell_type": "code",
   "execution_count": null,
   "metadata": {},
   "outputs": [],
   "source": []
  }
 ],
 "metadata": {
  "kernelspec": {
   "display_name": "Python [conda root]",
   "language": "python",
   "name": "conda-root-py"
  },
  "language_info": {
   "codemirror_mode": {
    "name": "ipython",
    "version": 3
   },
   "file_extension": ".py",
   "mimetype": "text/x-python",
   "name": "python",
   "nbconvert_exporter": "python",
   "pygments_lexer": "ipython3",
   "version": "3.6.5"
  }
 },
 "nbformat": 4,
 "nbformat_minor": 2
}
