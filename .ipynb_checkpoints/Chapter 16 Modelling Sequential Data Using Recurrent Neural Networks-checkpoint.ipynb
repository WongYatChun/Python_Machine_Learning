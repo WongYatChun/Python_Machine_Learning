{
 "cells": [
  {
   "cell_type": "markdown",
   "metadata": {},
   "source": [
    "# Chapter 16 Modelling Sequential Data Using Recurrent Neural Network\n",
    "\n",
    "### In this chapter, we will cover\n",
    "- Introducing sequential data\n",
    "- RNNs for modelling sequences\n",
    "- Long Short-Term Memory (LSTM)\n",
    "- Truncated Backpropagation Through Time (T-BPTT)\n",
    "- Implementing a multilayer RNN for sequential modeling in TensorFlow\n",
    "- Project 1: RNN sentiment analysis of the IMDb movie review dataset\n",
    "- Project 2: RNN character-level languge modeling with LSTM cells, using text data from Shakspeare's Hamlet\n",
    "- Using gradient clipping to avoid  exploding gradients"
   ]
  },
  {
   "cell_type": "markdown",
   "metadata": {},
   "source": [
    "## Introducing sequential data\n",
    "- Sequential data: elements in a sequence appear in a certain order\n",
    "    - are not independent of each other\n",
    "    - order matters\n",
    "    - Unlike typical machine learning algorithms for supervised learning which assums the input data is IID\n",
    "        - MLPs and CNNs are not capable of handling the order of input samples\n",
    "        - they do not have memory of the past seen samples\n",
    "            - weights are updated independent of the order in which the sample is processed\n",
    "    - RNN:\n",
    "        - designed for modeling sequences\n",
    "        - capable of remembering past information and processing new events accordingly\n",
    "        - Application: e.g. language translation, image captioning, text generation\n",
    "    \n",
    "    "
   ]
  },
  {
   "cell_type": "code",
   "execution_count": null,
   "metadata": {},
   "outputs": [],
   "source": []
  }
 ],
 "metadata": {
  "kernelspec": {
   "display_name": "Python [conda root]",
   "language": "python",
   "name": "conda-root-py"
  },
  "language_info": {
   "codemirror_mode": {
    "name": "ipython",
    "version": 3
   },
   "file_extension": ".py",
   "mimetype": "text/x-python",
   "name": "python",
   "nbconvert_exporter": "python",
   "pygments_lexer": "ipython3",
   "version": "3.6.5"
  }
 },
 "nbformat": 4,
 "nbformat_minor": 2
}
