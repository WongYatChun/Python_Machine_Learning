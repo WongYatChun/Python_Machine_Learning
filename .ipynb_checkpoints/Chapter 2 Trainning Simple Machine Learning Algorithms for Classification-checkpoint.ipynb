{
 "cells": [
  {
   "cell_type": "code",
   "execution_count": 6,
   "metadata": {},
   "outputs": [],
   "source": [
    "#Author: Rex Wong\n",
    "#Last Update: 2018-06-30\n",
    "#An object-oriented perceptron API\n",
    "\n",
    "# As a convention, we append an underscore(_) to attibutes that are \n",
    "# not being created upon the initialization of the object but by calling the \n",
    "# object's other methods, for example, self.w_\n",
    "\n",
    "import numpy as np"
   ]
  },
  {
   "cell_type": "code",
   "execution_count": 20,
   "metadata": {},
   "outputs": [],
   "source": [
    "class Perceptron(object):\n",
    "    \n",
    "#     Perceptron classifier\n",
    "#     Parameters\n",
    "#     ---------------------------------------\n",
    "#     eta: float\n",
    "#         Learning Rate (between 0.0 and 1.0)\n",
    "#     n_iter: int\n",
    "#         Passes over the training dataset.\n",
    "#     random_state: int\n",
    "#         Random number generator seed for random weight initialization\n",
    "#     \"\"\"\n",
    "#     Attributes\n",
    "#     ------------------------------\n",
    "#     w_: 1d-array\n",
    "#         Weights after fitting\n",
    "#     errors: list\n",
    "#         No. of misclassification (updates) in each epoch\n",
    "#     \"\"\"\n",
    "    \n",
    "    def __init__(self,eta = 0.01, n_iter = 50, random_state =1):\n",
    "        self.eta =eta\n",
    "        self.n_iter = n_iter\n",
    "        self.random_state = random_state\n",
    "    \n",
    "    def fit(self,x,y):\n",
    "        \"\"\"Fit Training data.\n",
    "        \n",
    "        Parameters\n",
    "        ------------------------\n",
    "        X: {array-like}. shape = [n_samples, n_features],\n",
    "            Traing vectors, where n_samples is the number of samples \n",
    "            and n_features is the number of features\n",
    "        \n",
    "        y: array-like, shape = [n_sample]\n",
    "            Target values\n",
    "            \n",
    "        Returns\n",
    "        -----------------\n",
    "        --------\n",
    "        self: object\n",
    "        \n",
    "        \"\"\"\n",
    "        rgen = np.random.RandomState(self.random_state)\n",
    "        self.w_=rgen.normal(loc=0.0,scale=0.01,size=1+X.shape[1]) \n",
    "        #Dimention: 1 + features, 1 is the bias unit\n",
    "        #Weights cannot be all zero because the learning rate eta onl has an effect on the classification outcome if the weights are initilized to non-zero value\n",
    "        \n",
    "        self.errors_=[]\n",
    "        \n",
    "        for _ in range(self.n_iter):\n",
    "            errors = 0\n",
    "            for xi, target in zip(X,y):\n",
    "                #zip : zip((1,2,3),(4,5,6)) = [(1,4),(2,5),(3,6)]\n",
    "                #zip : zip((1,2,3),(4)) = [(1,4),(2,4),(3,4)]\n",
    "                update = self.eta*(target - self.predict(xi))\n",
    "                self.w_[1:]+=update*xi\n",
    "                self.w_[0]+= update\n",
    "                errors+=int(update!=0.0)\n",
    "            self.errors_.append(errors)\n",
    "        return self\n",
    "    \n",
    "    def net_input(self,X):\n",
    "        \"\"\"Calculate net input\"\"\"\n",
    "        return np.dot(X,self.w_[1:])+self.w_[0]\n",
    "        #vector dot product\n",
    "    def predict(self,X):\n",
    "        \"\"\"Return Class label after unit step\"\"\"\n",
    "        return np.where(self.net_input(X)>=0.0,1,-1)\n",
    "            \n",
    "    \n",
    "    "
   ]
  },
  {
   "cell_type": "code",
   "execution_count": 8,
   "metadata": {},
   "outputs": [
    {
     "data": {
      "text/html": [
       "<div>\n",
       "<style scoped>\n",
       "    .dataframe tbody tr th:only-of-type {\n",
       "        vertical-align: middle;\n",
       "    }\n",
       "\n",
       "    .dataframe tbody tr th {\n",
       "        vertical-align: top;\n",
       "    }\n",
       "\n",
       "    .dataframe thead th {\n",
       "        text-align: right;\n",
       "    }\n",
       "</style>\n",
       "<table border=\"1\" class=\"dataframe\">\n",
       "  <thead>\n",
       "    <tr style=\"text-align: right;\">\n",
       "      <th></th>\n",
       "      <th>0</th>\n",
       "      <th>1</th>\n",
       "      <th>2</th>\n",
       "      <th>3</th>\n",
       "      <th>4</th>\n",
       "    </tr>\n",
       "  </thead>\n",
       "  <tbody>\n",
       "    <tr>\n",
       "      <th>145</th>\n",
       "      <td>6.7</td>\n",
       "      <td>3.0</td>\n",
       "      <td>5.2</td>\n",
       "      <td>2.3</td>\n",
       "      <td>Iris-virginica</td>\n",
       "    </tr>\n",
       "    <tr>\n",
       "      <th>146</th>\n",
       "      <td>6.3</td>\n",
       "      <td>2.5</td>\n",
       "      <td>5.0</td>\n",
       "      <td>1.9</td>\n",
       "      <td>Iris-virginica</td>\n",
       "    </tr>\n",
       "    <tr>\n",
       "      <th>147</th>\n",
       "      <td>6.5</td>\n",
       "      <td>3.0</td>\n",
       "      <td>5.2</td>\n",
       "      <td>2.0</td>\n",
       "      <td>Iris-virginica</td>\n",
       "    </tr>\n",
       "    <tr>\n",
       "      <th>148</th>\n",
       "      <td>6.2</td>\n",
       "      <td>3.4</td>\n",
       "      <td>5.4</td>\n",
       "      <td>2.3</td>\n",
       "      <td>Iris-virginica</td>\n",
       "    </tr>\n",
       "    <tr>\n",
       "      <th>149</th>\n",
       "      <td>5.9</td>\n",
       "      <td>3.0</td>\n",
       "      <td>5.1</td>\n",
       "      <td>1.8</td>\n",
       "      <td>Iris-virginica</td>\n",
       "    </tr>\n",
       "  </tbody>\n",
       "</table>\n",
       "</div>"
      ],
      "text/plain": [
       "       0    1    2    3               4\n",
       "145  6.7  3.0  5.2  2.3  Iris-virginica\n",
       "146  6.3  2.5  5.0  1.9  Iris-virginica\n",
       "147  6.5  3.0  5.2  2.0  Iris-virginica\n",
       "148  6.2  3.4  5.4  2.3  Iris-virginica\n",
       "149  5.9  3.0  5.1  1.8  Iris-virginica"
      ]
     },
     "execution_count": 8,
     "metadata": {},
     "output_type": "execute_result"
    }
   ],
   "source": [
    "#Training a perceptron model on the Iris dataset\n",
    "\n",
    "import pandas as pd\n",
    "df = pd.read_csv('https://archive.ics.uci.edu/ml/machine-learning-databases/iris/iris.data',\n",
    "                 header=None)\n",
    "df.tail()"
   ]
  },
  {
   "cell_type": "code",
   "execution_count": 9,
   "metadata": {},
   "outputs": [],
   "source": [
    "#Plotting the Iris data\n",
    "\n",
    "import matplotlib.pyplot as plt"
   ]
  },
  {
   "cell_type": "code",
   "execution_count": 15,
   "metadata": {},
   "outputs": [],
   "source": [
    "#Select setosa and versicolor\n",
    "#Note that the first 100 calss labels that correspond to the 50 Iris-setosa and 50 Iris-versicolor\n",
    "\n",
    "y = df.iloc[0:100,4].values\n",
    "#Convert them the class labels into the two integer class labels, 1(versicolor) and -1 (setosa)\n",
    "y = np.where(y=='Iris-setosa',-1,1)\n",
    "\n",
    "#extract sepal length and petal length\n",
    "\n",
    "X = df.iloc[0:100,[0,2]].values"
   ]
  },
  {
   "cell_type": "code",
   "execution_count": 18,
   "metadata": {},
   "outputs": [
    {
     "data": {
      "image/png": "[encoded data removed]",
      "text/plain": [
       "<Figure size 432x288 with 1 Axes>"
      ]
     },
     "metadata": {},
     "output_type": "display_data"
    }
   ],
   "source": [
    "#Plot data\n",
    "\n",
    "plt.scatter(X[:50,0],X[:50,1],color='red',marker='o',label='setosa')\n",
    "plt.scatter(X[50:,0],X[50:,1],color='blue',marker='x',label='versicolor')\n",
    "\n",
    "plt.xlabel('sepal length [cm]')\n",
    "plt.ylabel('petal length [cm]')\n",
    "plt.legend(loc='upper left')\n",
    "\n",
    "#plt.savefig('images/02_06.png',dpi=300)\n",
    "plt.show()"
   ]
  },
  {
   "cell_type": "code",
   "execution_count": 22,
   "metadata": {},
   "outputs": [
    {
     "data": {
      "image/png": "[encoded data removed]",
      "text/plain": [
       "<Figure size 432x288 with 1 Axes>"
      ]
     },
     "metadata": {},
     "output_type": "display_data"
    }
   ],
   "source": [
    "#Training the perceptron model\n",
    "\n",
    "ppn = Perceptron(eta=0.1,n_iter=10)\n",
    "\n",
    "ppn.fit(X,y)\n",
    "plt.plot(range(1,len(ppn.errors_)+1),ppn.errors_,marker='o')\n",
    "plt.xlabel('Ephochs')\n",
    "plt.ylabel('Number of updates')\n",
    "\n",
    "#plt.savefig('images/02_07.png',dpi=300)\n",
    "plt.show()\n",
    "\n",
    "#As we can see, out perceptron converged after the sixth epoch and should now be able to classify the training samples perfectly"
   ]
  },
  {
   "cell_type": "code",
   "execution_count": 27,
   "metadata": {},
   "outputs": [],
   "source": [
    "#A function for plotting decision regions\n",
    "#Visualize the decision boundaries for 2D datasets\n",
    "from matplotlib.colors import ListedColormap\n",
    "\n",
    "def plot_decision_regions(X,y,classifier,resolution=0.02):\n",
    "    #setup marker generator and color map\n",
    "    markers = ('s','x','o','^','v')\n",
    "    colors=('red','blue','lightgreen','gray','cyan')\n",
    "    cmap = ListedColormap(colors[:len(np.unique(y))])\n",
    "    \n",
    "    #plot the decision surface\n",
    "    x1_min, x1_max = X[:,0].min()-1,X[:,0].max()+1\n",
    "    x2_min, x2_max = X[:,1].min()-1,X[:,1].max()+1\n",
    "    xx1, xx2 = np.meshgrid(np.arange(x1_min,x1_max,resolution),\n",
    "                           np.arange(x2_min,x2_max,resolution))\n",
    "    #meshgrid: x = [(x1, x2, x3),(x1, x2, x3),(x1, x2, x3)]\n",
    "    #meshgrid: y = [(x1, x1, x1),(x2, x2, x2),(x3, x3, x3)]\n",
    "    #meshgrid allows each x matches each y value\n",
    "    \n",
    "    #np.arange allows the the step to be a decimal\n",
    "    \n",
    "    Z = classifier.predict(np.array([xx1.ravel(),xx2.ravel()]).T)\n",
    "    #ravel flatten the grid array\n",
    "    #and create a matrix that has the same number of columns as the Iris training subset\n",
    "    Z = Z.reshape(xx1.shape)\n",
    "    #.shape output the shape of xx1\n",
    "    #Z.reshape reshapes the Z to the shape of xx1\n",
    "    \n",
    "    plt.contourf(xx1,xx2,Z,alpha=0.3,cmap=cmap)\n",
    "    plt.xlim(xx1.min(),xx1.max())\n",
    "    plt.ylim(xx2.min(),xx2.max())\n",
    "    \n",
    "    #plot class samples\n",
    "\n",
    "    for idx, cl in enumerate(np.unique(y)):\n",
    "        plt.scatter(x=X[y==cl,0],\n",
    "                    y=X[y==cl,1],\n",
    "                    alpha = 0.8,\n",
    "                    c= colors[idx],\n",
    "                    marker=markers[idx],\n",
    "                    label=cl,\n",
    "                    edgecolor='black')\n",
    "                    \n",
    "\n",
    "            "
   ]
  },
  {
   "cell_type": "code",
   "execution_count": 28,
   "metadata": {},
   "outputs": [
    {
     "data": {
      "image/png": "[encoded data removed]",
      "text/plain": [
       "<Figure size 432x288 with 1 Axes>"
      ]
     },
     "metadata": {},
     "output_type": "display_data"
    }
   ],
   "source": [
    "plot_decision_regions(X,y,classifier=ppn)\n",
    "plt.xlabel('sepal lenght [cm]')\n",
    "plt.ylabel('petal lenght [cm]')\n",
    "plt.legend(loc='upper left')\n",
    "\n",
    "#plt.savefig('images/02_08.png',dpi=300)\n",
    "plt.show()"
   ]
  },
  {
   "cell_type": "code",
   "execution_count": null,
   "metadata": {},
   "outputs": [],
   "source": [
    "#Adaptive linear nerous and the convergence of learning \n",
    "#Implementing an adaptive linear neuron in Python"
   ]
  },
  {
   "cell_type": "code",
   "execution_count": null,
   "metadata": {},
   "outputs": [],
   "source": []
  },
  {
   "cell_type": "code",
   "execution_count": null,
   "metadata": {},
   "outputs": [],
   "source": []
  },
  {
   "cell_type": "code",
   "execution_count": null,
   "metadata": {},
   "outputs": [],
   "source": []
  },
  {
   "cell_type": "code",
   "execution_count": null,
   "metadata": {},
   "outputs": [],
   "source": []
  }
 ],
 "metadata": {
  "kernelspec": {
   "display_name": "Python [conda env:anaconda3]",
   "language": "python",
   "name": "conda-env-anaconda3-py"
  },
  "language_info": {
   "codemirror_mode": {
    "name": "ipython",
    "version": 3
   },
   "file_extension": ".py",
   "mimetype": "text/x-python",
   "name": "python",
   "nbconvert_exporter": "python",
   "pygments_lexer": "ipython3",
   "version": "3.6.5"
  }
 },
 "nbformat": 4,
 "nbformat_minor": 2
}
