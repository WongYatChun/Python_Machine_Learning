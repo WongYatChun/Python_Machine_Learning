{
 "cells": [
  {
   "cell_type": "markdown",
   "metadata": {},
   "source": [
    "## What is TensorFlow?\n",
    "\n",
    "### First steps with TensorFlow"
   ]
  },
  {
   "cell_type": "code",
   "execution_count": 1,
   "metadata": {},
   "outputs": [
    {
     "name": "stdout",
     "output_type": "stream",
     "text": [
      "x= 1.0 --> z= 2.7\n",
      "x= 0.6 --> z= 1.9\n",
      "x=-1.8 --> z=-2.9\n"
     ]
    }
   ],
   "source": [
    "import tensorflow as tf\n",
    "\n",
    "## create a graph\n",
    "g = tf.Graph()\n",
    "with g.as_default():\n",
    "    x = tf.placeholder(dtype=tf.float32,\n",
    "                       shape=(None), name='x')\n",
    "    w = tf.Variable(2.0, name='weight')\n",
    "    b = tf.Variable(0.7, name='bias')\n",
    "\n",
    "    z = w*x + b\n",
    "    init = tf.global_variables_initializer()\n",
    "\n",
    "## create a session and pass in graph g\n",
    "with tf.Session(graph=g) as sess:\n",
    "    ## initialize w and b:\n",
    "    sess.run(init)\n",
    "    ## evaluate z:\n",
    "    for t in [1.0, 0.6, -1.8]:\n",
    "        print('x=%4.1f --> z=%4.1f'%(\n",
    "              t, sess.run(z, feed_dict={x:t})))\n"
   ]
  },
  {
   "cell_type": "code",
   "execution_count": 2,
   "metadata": {},
   "outputs": [
    {
     "name": "stdout",
     "output_type": "stream",
     "text": [
      "[2.7 4.7 6.7]\n"
     ]
    }
   ],
   "source": [
    "with tf.Session(graph = g) as sess:\n",
    "    sess.run(init)\n",
    "    print(sess.run(z,feed_dict={x:[1.,2.,3.]}))"
   ]
  },
  {
   "cell_type": "markdown",
   "metadata": {},
   "source": [
    "## Working with array structures"
   ]
  },
  {
   "cell_type": "code",
   "execution_count": 3,
   "metadata": {},
   "outputs": [
    {
     "name": "stdout",
     "output_type": "stream",
     "text": [
      "input shape:  (3, 2, 3)\n",
      "Reshaped: \n",
      " [[ 0.  1.  2.  3.  4.  5.]\n",
      " [ 6.  7.  8.  9. 10. 11.]\n",
      " [12. 13. 14. 15. 16. 17.]]\n",
      "Column Sums: \n",
      " [18. 21. 24. 27. 30. 33.]\n",
      "Column Means: \n",
      " [ 6.  7.  8.  9. 10. 11.]\n"
     ]
    }
   ],
   "source": [
    "import tensorflow as tf\n",
    "import numpy as np\n",
    "\n",
    "g = tf.Graph()\n",
    "\n",
    "with g.as_default():\n",
    "    x = tf.placeholder(dtype = tf.float32,\n",
    "                       shape = (None, 2, 3),\n",
    "                       name = 'input_x')\n",
    "    x2 = tf.reshape(x, shape = (-1, 6),# we dont know the batch size\n",
    "                                       # used to flatten a tensor\n",
    "                    name = 'x2')\n",
    "    \n",
    "    ## calculate the sum of each column\n",
    "    xsum = tf.reduce_sum(x2, axis = 0, name = 'col_sum')\n",
    "    \n",
    "    ## calculate the mean of the column\n",
    "    xmean = tf.reduce_mean(x2, axis = 0, name = 'col_mean')\n",
    "    \n",
    "with tf.Session(graph = g) as sess:\n",
    "    x_array = np.arange(18).reshape(3,2,3)\n",
    "    print('input shape: ', x_array.shape)\n",
    "    print('Reshaped: \\n',\n",
    "          sess.run(x2, feed_dict = {x: x_array}))\n",
    "    print('Column Sums: \\n',\n",
    "          sess.run(xsum, feed_dict = {x: x_array}))\n",
    "    print('Column Means: \\n',\n",
    "          sess.run(xmean, feed_dict = {x: x_array}))"
   ]
  },
  {
   "cell_type": "markdown",
   "metadata": {},
   "source": [
    "## Developong a simple model with low-level TensorFlow API\n",
    "\n"
   ]
  },
  {
   "cell_type": "code",
   "execution_count": 4,
   "metadata": {},
   "outputs": [],
   "source": [
    "import tensorflow as tf\n",
    "import numpy as np\n",
    "\n",
    "X_train = np.arange(10).reshape((10,1))\n",
    "y_train = np.array([1.0, 1.3, 3.1,\n",
    "                    2.0, 5.0, 6.3,\n",
    "                    6.6, 7.4, 8.0,\n",
    "                    9.0])\n",
    "\n",
    "class TfLinreg(object):\n",
    "    def __init__(self, x_dim, learning_rate = 0.01,\n",
    "                 random_seed = None):\n",
    "        self.x_dim = x_dim\n",
    "        self.learning_rate = learning_rate\n",
    "        self.g = tf.Graph()\n",
    "        ## Build the model\n",
    "        with self.g.as_default():\n",
    "            ## set graph-level random-seed\n",
    "            tf.set_random_seed(random_seed)\n",
    "            \n",
    "            self.build()\n",
    "            ## create initializer\n",
    "            self.init_op = tf.global_variables_initializer()\n",
    "    \n",
    "    def build(self):\n",
    "        ## define placeholders for inputs\n",
    "        self.X = tf.placeholder(dtype = tf.float32,\n",
    "                                shape = (None, self.x_dim),\n",
    "                                name = 'x_input')\n",
    "        self.y = tf.placeholder(dtype = tf.float32,\n",
    "                                shape = (None),\n",
    "                                name = 'y_input')\n",
    "        \n",
    "        print(self.X)\n",
    "        print(self.y)\n",
    "        \n",
    "        ## define weight matrix and bias vector\n",
    "        w = tf.Variable(tf.zeros(shape = (1)),\n",
    "                        name = 'weight')\n",
    "        b = tf.Variable(tf.zeros(shape = (1)),\n",
    "                        name = 'bias')\n",
    "        \n",
    "        print(w)\n",
    "        print(b)\n",
    "        \n",
    "        self.z_net = tf.squeeze(w * self.X + b,\n",
    "                                name = 'z_net')\n",
    "        print(self.z_net)\n",
    "        \n",
    "        sqr_errors = tf.square(self.y - self.z_net,\n",
    "                               name = 'sqr_errors')\n",
    "        print(sqr_errors)\n",
    "        # cost function to be MSE\n",
    "        self.mean_cost =tf.reduce_mean(sqr_errors,\n",
    "                                       name = 'mean_cost')\n",
    "        optimizer = tf.train.GradientDescentOptimizer(\n",
    "                    learning_rate = self.learning_rate,\n",
    "                    name = 'GradientDescent')\n",
    "        self.optimizer = optimizer.minimize(self.mean_cost)\n",
    "                                "
   ]
  },
  {
   "cell_type": "code",
   "execution_count": 5,
   "metadata": {},
   "outputs": [
    {
     "name": "stdout",
     "output_type": "stream",
     "text": [
      "Tensor(\"x_input:0\", shape=(?, 1), dtype=float32)\n",
      "Tensor(\"y_input:0\", dtype=float32)\n",
      "<tf.Variable 'weight:0' shape=(1,) dtype=float32_ref>\n",
      "<tf.Variable 'bias:0' shape=(1,) dtype=float32_ref>\n",
      "Tensor(\"z_net:0\", dtype=float32)\n",
      "Tensor(\"sqr_errors:0\", dtype=float32)\n"
     ]
    }
   ],
   "source": [
    "# Create an instance this class\n",
    "\n",
    "lrmodel = TfLinreg(x_dim = X_train.shape[1], learning_rate=0.01)"
   ]
  },
  {
   "cell_type": "code",
   "execution_count": 6,
   "metadata": {},
   "outputs": [],
   "source": [
    "def train_linreg(sess, model, X_train, y_train, num_epochs = 10):\n",
    "    ## initialize all variables: W & b\n",
    "    sess.run(model.init_op)\n",
    "    \n",
    "    training_costs = []\n",
    "    for i in range(num_epochs):\n",
    "        _, cost = sess.run([model.optimizer, model.mean_cost],\n",
    "                            feed_dict = {model.X : X_train,\n",
    "                                         model.y : y_train})\n",
    "        training_costs.append(cost)\n",
    "        \n",
    "    return training_costs"
   ]
  },
  {
   "cell_type": "code",
   "execution_count": 7,
   "metadata": {},
   "outputs": [],
   "source": [
    "sess = tf.Session(graph = lrmodel.g)\n",
    "training_costs = train_linreg(sess, lrmodel, X_train, y_train)"
   ]
  },
  {
   "cell_type": "code",
   "execution_count": 8,
   "metadata": {},
   "outputs": [
    {
     "data": {
      "text/plain": [
       "<Figure size 640x480 with 1 Axes>"
      ]
     },
     "metadata": {},
     "output_type": "display_data"
    }
   ],
   "source": [
    "import matplotlib.pyplot as plt\n",
    "\n",
    "plt.plot(range(1,len(training_costs)+1), training_costs)\n",
    "plt.tight_layout()\n",
    "plt.xlabel('Epoch')\n",
    "plt.ylabel('Training Cost')\n",
    "plt.show()"
   ]
  },
  {
   "cell_type": "code",
   "execution_count": 9,
   "metadata": {},
   "outputs": [],
   "source": [
    "def predict_linreg(sess, model, X_test):\n",
    "    y_pred = sess.run(model.z_net, feed_dict = {model.X:X_test})\n",
    "    return y_pred"
   ]
  },
  {
   "cell_type": "code",
   "execution_count": 10,
   "metadata": {},
   "outputs": [
    {
     "data": {
      "image/png": "[encoded data removed]",
      "text/plain": [
       "<Figure size 432x288 with 1 Axes>"
      ]
     },
     "metadata": {},
     "output_type": "display_data"
    }
   ],
   "source": [
    "plt.scatter(X_train, y_train,\n",
    "            marker = 's', s = 50,\n",
    "            label = 'Training Data')\n",
    "plt.plot(range(X_train.shape[0]),\n",
    "         predict_linreg(sess, lrmodel, X_train),\n",
    "         color = 'gray', marker = 'o',\n",
    "         markersize = 6, linewidth = 3,\n",
    "         label = 'LinReg Model')\n",
    "plt.xlabel('x')\n",
    "plt.ylabel('y')\n",
    "plt.legend()\n",
    "plt.tight_layout()\n",
    "plt.show()"
   ]
  },
  {
   "cell_type": "markdown",
   "metadata": {},
   "source": [
    "## Training neural networks efficiently with high-level TensorFlow APIs\n",
    "\n",
    "### Building multilayer neural networks using TensorFlow's Layers API"
   ]
  },
  {
   "cell_type": "code",
   "execution_count": 11,
   "metadata": {},
   "outputs": [],
   "source": [
    "# unzips mnist\n",
    "\n",
    "import sys\n",
    "import gzip\n",
    "import shutil\n",
    "import os\n",
    "\n",
    "if (sys.version_info > (3,0)):\n",
    "    writemode = 'wb'\n",
    "else:\n",
    "    writemode = 'w'\n",
    "    \n",
    "zipped_mnist = [f for f in os.listdir('./') if f.endswith('ubyte.gz')]\n",
    "\n",
    "for z in zipped_mnist:\n",
    "    with gzip.GzipFile(z, mode = 'rb') as decompressed, open(z[:-3], writemode) as outfile:\n",
    "        outfile.write(decompressed.read())\n"
   ]
  },
  {
   "cell_type": "code",
   "execution_count": 12,
   "metadata": {},
   "outputs": [],
   "source": [
    "import struct\n",
    "\n",
    "def load_mnist(path,kind='train'):\n",
    "    \"\"\"Load MNIST data from `path`\"\"\"\n",
    "    labels_path = os.path.join(path, '%s-labels-idx1-ubyte' % kind)\n",
    "    images_path = os.path.join(path, '%s-images-idx3-ubyte' % kind)\n",
    "    \n",
    "    with open(labels_path, 'rb') as lbpath:\n",
    "        magic, n = struct.unpack('>II', lbpath.read(8))\n",
    "        labels = np.fromfile(lbpath, dtype = np.uint8)\n",
    "        \n",
    "    with open(images_path, 'rb') as imgpath:\n",
    "        magic, num, rows, cols = struct.unpack('>IIII', imgpath.read(16))\n",
    "        images = np.fromfile(imgpath,dtype = np.uint8).reshape(len(labels),784)\n",
    "        images = ( ( images / 255. ) - .5 ) * 2\n",
    "    \n",
    "    return images, labels\n"
   ]
  },
  {
   "cell_type": "code",
   "execution_count": 13,
   "metadata": {},
   "outputs": [
    {
     "name": "stdout",
     "output_type": "stream",
     "text": [
      "Rows: 60000, Columns: 784\n",
      "Rows: 10000, Columns: 784\n",
      "(60000, 784) (60000,)\n",
      "(10000, 784) (10000,)\n"
     ]
    }
   ],
   "source": [
    "## loading the data\n",
    "\n",
    "X_train, y_train = load_mnist('.', kind = 'train')\n",
    "print('Rows: %d, Columns: %d' % (X_train.shape[0],\n",
    "                                 X_train.shape[1]))\n",
    "\n",
    "X_test, y_test = load_mnist('.', kind = 't10k')\n",
    "print('Rows: %d, Columns: %d' % (X_test.shape[0],\n",
    "                                 X_test.shape[1]))\n",
    "\n",
    "## mean centering and normalization\n",
    "mean_vals = np.mean(X_train, axis = 0)\n",
    "std_val = np.std(X_train)\n",
    "\n",
    "X_train_centered = (X_train - mean_vals)/std_val\n",
    "X_test_centered = (X_test - mean_vals)/std_val # assume the test data are from the training set\n",
    "\n",
    "del X_train, X_test\n",
    "\n",
    "print(X_train_centered.shape, y_train.shape)\n",
    "\n",
    "print(X_test_centered.shape, y_test.shape)"
   ]
  },
  {
   "cell_type": "code",
   "execution_count": 14,
   "metadata": {},
   "outputs": [],
   "source": [
    "import tensorflow as tf\n",
    "\n",
    "n_features = X_train_centered.shape[1]\n",
    "n_classes = 10\n",
    "random_seed = 123\n",
    "np.random.seed(random_seed)\n",
    "\n",
    "g = tf.Graph()\n",
    "\n",
    "with g.as_default():\n",
    "    tf.set_random_seed(random_seed)\n",
    "    tf_x = tf.placeholder(dtype = tf.float32,\n",
    "                          shape = (None, n_features),\n",
    "                          name = 'tf_x')\n",
    "    tf_y = tf.placeholder(dtype = tf.int32,\n",
    "                          shape = None, name = 'tf_y')\n",
    "    y_onehot = tf.one_hot(indices = tf_y, depth = n_classes)\n",
    "    \n",
    "    h1 = tf.layers.dense(inputs = tf_x, units = 50,\n",
    "                         activation = tf.tanh,\n",
    "                         name = 'layer1')\n",
    "    \n",
    "    h2 = tf.layers.dense(inputs = h1, units = 50,\n",
    "                         activation = tf.tanh,\n",
    "                         name = 'layer2')\n",
    "    \n",
    "    logits = tf.layers.dense(inputs = h2,\n",
    "                             units = 10,\n",
    "                             activation = None,\n",
    "                             name = 'layer3')\n",
    "    \n",
    "    predictions = {\n",
    "        'classes' : tf.argmax(logits, axis = 1,\n",
    "                              name = 'predicted_classes'),\n",
    "        'probabilities' : tf.nn.softmax(logits,\n",
    "                                        name = 'softmax_tensor')\n",
    "    }"
   ]
  },
  {
   "cell_type": "code",
   "execution_count": 15,
   "metadata": {},
   "outputs": [
    {
     "name": "stdout",
     "output_type": "stream",
     "text": [
      "WARNING:tensorflow:From /home/Rex/anaconda3/lib/python3.6/site-packages/tensorflow/python/ops/losses/losses_impl.py:691: softmax_cross_entropy_with_logits (from tensorflow.python.ops.nn_ops) is deprecated and will be removed in a future version.\n",
      "Instructions for updating:\n",
      "\n",
      "Future major versions of TensorFlow will allow gradients to flow\n",
      "into the labels input on backprop by default.\n",
      "\n",
      "See tf.nn.softmax_cross_entropy_with_logits_v2.\n",
      "\n"
     ]
    }
   ],
   "source": [
    "## define cost function and optimizer:\n",
    "\n",
    "with g.as_default():\n",
    "    cost = tf.losses.softmax_cross_entropy(onehot_labels = y_onehot,\n",
    "                                           logits = logits)\n",
    "    \n",
    "    optimizer = tf.train.GradientDescentOptimizer(learning_rate=0.001)\n",
    "    \n",
    "    train_op = optimizer.minimize(loss = cost)\n",
    "    \n",
    "    init_op = tf.global_variables_initializer()\n",
    "    \n",
    "    "
   ]
  },
  {
   "cell_type": "code",
   "execution_count": 17,
   "metadata": {},
   "outputs": [],
   "source": [
    "# generate batches of data\n",
    "\n",
    "def create_batch_generator(X, y, batch_size = 128, shuffle = False):\n",
    "    X_copy = np.array(X)\n",
    "    y_copy = np.array(y)\n",
    "    \n",
    "    if shuffle:\n",
    "        data = np.column_stack((X_copy, y_copy))\n",
    "        np.random.shuffle(data)\n",
    "        X_copy = data[:, :-1]\n",
    "        y_copy = data[:,-1].astype(int)\n",
    "    \n",
    "    for i in range(0, X.shape[0], batch_size):\n",
    "        yield (X_copy[i:i+batch_size,:], y_copy[i:i+batch_size])"
   ]
  },
  {
   "cell_type": "code",
   "execution_count": 25,
   "metadata": {},
   "outputs": [
    {
     "name": "stdout",
     "output_type": "stream",
     "text": [
      " -- Epoch  1  Avg. Training Loss: 1.5573\n",
      " -- Epoch  2  Avg. Training Loss: 1.2532\n",
      " -- Epoch  3  Avg. Training Loss: 1.0854\n",
      " -- Epoch  4  Avg. Training Loss: 0.9738\n",
      " -- Epoch  5  Avg. Training Loss: 0.8924\n",
      " -- Epoch  6  Avg. Training Loss: 0.8296\n",
      " -- Epoch  7  Avg. Training Loss: 0.7794\n",
      " -- Epoch  8  Avg. Training Loss: 0.7381\n",
      " -- Epoch  9  Avg. Training Loss: 0.7032\n",
      " -- Epoch 10  Avg. Training Loss: 0.6734\n",
      " -- Epoch 11  Avg. Training Loss: 0.6475\n",
      " -- Epoch 12  Avg. Training Loss: 0.6247\n",
      " -- Epoch 13  Avg. Training Loss: 0.6045\n",
      " -- Epoch 14  Avg. Training Loss: 0.5864\n",
      " -- Epoch 15  Avg. Training Loss: 0.5700\n",
      " -- Epoch 16  Avg. Training Loss: 0.5551\n",
      " -- Epoch 17  Avg. Training Loss: 0.5415\n",
      " -- Epoch 18  Avg. Training Loss: 0.5290\n",
      " -- Epoch 19  Avg. Training Loss: 0.5175\n",
      " -- Epoch 20  Avg. Training Loss: 0.5068\n",
      " -- Epoch 21  Avg. Training Loss: 0.4968\n",
      " -- Epoch 22  Avg. Training Loss: 0.4875\n",
      " -- Epoch 23  Avg. Training Loss: 0.4788\n",
      " -- Epoch 24  Avg. Training Loss: 0.4706\n",
      " -- Epoch 25  Avg. Training Loss: 0.4629\n",
      " -- Epoch 26  Avg. Training Loss: 0.4556\n",
      " -- Epoch 27  Avg. Training Loss: 0.4487\n",
      " -- Epoch 28  Avg. Training Loss: 0.4422\n",
      " -- Epoch 29  Avg. Training Loss: 0.4359\n",
      " -- Epoch 30  Avg. Training Loss: 0.4300\n",
      " -- Epoch 31  Avg. Training Loss: 0.4243\n",
      " -- Epoch 32  Avg. Training Loss: 0.4189\n",
      " -- Epoch 33  Avg. Training Loss: 0.4138\n",
      " -- Epoch 34  Avg. Training Loss: 0.4088\n",
      " -- Epoch 35  Avg. Training Loss: 0.4041\n",
      " -- Epoch 36  Avg. Training Loss: 0.3995\n",
      " -- Epoch 37  Avg. Training Loss: 0.3951\n",
      " -- Epoch 38  Avg. Training Loss: 0.3909\n",
      " -- Epoch 39  Avg. Training Loss: 0.3868\n",
      " -- Epoch 40  Avg. Training Loss: 0.3829\n",
      " -- Epoch 41  Avg. Training Loss: 0.3791\n",
      " -- Epoch 42  Avg. Training Loss: 0.3754\n",
      " -- Epoch 43  Avg. Training Loss: 0.3718\n",
      " -- Epoch 44  Avg. Training Loss: 0.3684\n",
      " -- Epoch 45  Avg. Training Loss: 0.3651\n",
      " -- Epoch 46  Avg. Training Loss: 0.3618\n",
      " -- Epoch 47  Avg. Training Loss: 0.3587\n",
      " -- Epoch 48  Avg. Training Loss: 0.3556\n",
      " -- Epoch 49  Avg. Training Loss: 0.3527\n",
      " -- Epoch 50  Avg. Training Loss: 0.3498\n"
     ]
    }
   ],
   "source": [
    "## create a session to launch the graph\n",
    "sess = tf.Session(graph=g)\n",
    "## run the variable initialization operator\n",
    "sess.run(init_op)\n",
    "\n",
    "# 50 epochs of training:\n",
    "\n",
    "training_costs = []\n",
    "\n",
    "for epoch in range(50):\n",
    "    batch_generator = create_batch_generator(X_train_centered,\n",
    "                                             y_train,\n",
    "                                             batch_size = 64)\n",
    "    for batch_X, batch_y in batch_generator:\n",
    "        ##prepare a dict to feed data to our network:\n",
    "        feed = {tf_x: batch_X, tf_y: batch_y}\n",
    "        _, batch_cost = sess.run([train_op, cost],\n",
    "                                 feed_dict = feed)\n",
    "        training_costs.append(batch_cost)\n",
    "    print(' -- Epoch %2d  '\n",
    "          'Avg. Training Loss: %.4f' % (epoch+1, np.mean(training_costs)))\n",
    "\n"
   ]
  },
  {
   "cell_type": "code",
   "execution_count": 24,
   "metadata": {},
   "outputs": [
    {
     "name": "stdout",
     "output_type": "stream",
     "text": [
      "Test Accuracy: 93.89%\n"
     ]
    }
   ],
   "source": [
    "# do prediction on the test set\n",
    "\n",
    "feed = {tf_x : X_test_centered}\n",
    "y_pred = sess.run(predictions['classes'],\n",
    "                  feed_dict = feed)\n",
    "print('Test Accuracy: %.2f%%' % (100*np.sum(y_pred == y_test)/y_test.shape[0]))"
   ]
  },
  {
   "cell_type": "markdown",
   "metadata": {},
   "source": [
    "### Developing Multilayer Neural Networks with Keras"
   ]
  },
  {
   "cell_type": "code",
   "execution_count": 26,
   "metadata": {},
   "outputs": [
    {
     "name": "stdout",
     "output_type": "stream",
     "text": [
      "Rows: 60000, Columns: 784\n",
      "Rows: 10000, Columns: 784\n",
      "(60000, 784) (60000,)\n",
      "(10000, 784) (10000,)\n"
     ]
    }
   ],
   "source": [
    "X_train, y_train = load_mnist('./', kind = 'train')\n",
    "print('Rows: %d, Columns: %d' %(X_train.shape[0],\n",
    "                                X_train.shape[1]))\n",
    "X_test, y_test = load_mnist('./', kind = 't10k')\n",
    "print('Rows: %d, Columns: %d' %(X_test.shape[0],\n",
    "                                X_test.shape[1]))\n",
    "\n",
    "## Mean centering and normalization:\n",
    "mean_vals = np.mean(X_train, axis = 0)\n",
    "std_val = np.std(X_train)\n",
    "\n",
    "X_train_centered = (X_train - mean_vals)/std_val\n",
    "X_test_centered = (X_test - mean_vals)/std_val\n",
    "\n",
    "del X_train, X_test\n",
    "\n",
    "print(X_train_centered.shape, y_train.shape)\n",
    "print(X_test_centered.shape, y_test.shape)"
   ]
  },
  {
   "cell_type": "code",
   "execution_count": 31,
   "metadata": {},
   "outputs": [
    {
     "name": "stdout",
     "output_type": "stream",
     "text": [
      "First 3 labels:  [5 0 4]\n",
      "\n",
      "First 3 labels (one-hot):\n",
      " [[0. 0. 0. 0. 0. 1. 0. 0. 0. 0.]\n",
      " [1. 0. 0. 0. 0. 0. 0. 0. 0. 0.]\n",
      " [0. 0. 0. 0. 1. 0. 0. 0. 0. 0.]]\n"
     ]
    }
   ],
   "source": [
    "import tensorflow as tf\n",
    "\n",
    "\n",
    "np.random.seed(123)\n",
    "tf.set_random_seed(123)\n",
    "y_train_onehot = tf.keras.utils.to_categorical(y_train)\n",
    "print('First 3 labels: ', y_train[:3])\n",
    "print('\\nFirst 3 labels (one-hot):\\n', y_train_onehot[:3])"
   ]
  },
  {
   "cell_type": "code",
   "execution_count": 33,
   "metadata": {},
   "outputs": [
    {
     "name": "stdout",
     "output_type": "stream",
     "text": [
      "WARNING:tensorflow:From /home/Rex/anaconda3/lib/python3.6/site-packages/tensorflow/python/keras/_impl/keras/backend.py:3086: calling reduce_sum (from tensorflow.python.ops.math_ops) with keep_dims is deprecated and will be removed in a future version.\n",
      "Instructions for updating:\n",
      "keep_dims is deprecated, use keepdims instead\n",
      "WARNING:tensorflow:From /home/Rex/anaconda3/lib/python3.6/site-packages/tensorflow/python/keras/_impl/keras/backend.py:1557: calling reduce_mean (from tensorflow.python.ops.math_ops) with keep_dims is deprecated and will be removed in a future version.\n",
      "Instructions for updating:\n",
      "keep_dims is deprecated, use keepdims instead\n",
      "Train on 54000 samples, validate on 6000 samples\n",
      "Epoch 1/50\n",
      "54000/54000 [==============================]54000/54000 [==============================] - 7s 127us/step - loss: 0.7247 - val_loss: 0.3616\n",
      "\n",
      "Epoch 2/50\n",
      "54000/54000 [==============================]54000/54000 [==============================] - 6s 104us/step - loss: 0.3718 - val_loss: 0.2815\n",
      "\n",
      "Epoch 3/50\n",
      "54000/54000 [==============================]54000/54000 [==============================] - 7s 133us/step - loss: 0.3087 - val_loss: 0.2447\n",
      "\n",
      "Epoch 4/50\n",
      "54000/54000 [==============================]54000/54000 [==============================] - 7s 125us/step - loss: 0.2728 - val_loss: 0.2216\n",
      "\n",
      "Epoch 5/50\n",
      "54000/54000 [==============================]54000/54000 [==============================] - 8s 145us/step - loss: 0.2475 - val_loss: 0.2042\n",
      "\n",
      "Epoch 6/50\n",
      "54000/54000 [==============================]54000/54000 [==============================] - 5s 99us/step - loss: 0.2277 - val_loss: 0.1918\n",
      "\n",
      "Epoch 7/50\n",
      "54000/54000 [==============================]54000/54000 [==============================] - 6s 111us/step - loss: 0.2115 - val_loss: 0.1810\n",
      "\n",
      "Epoch 8/50\n",
      "54000/54000 [==============================]54000/54000 [==============================] - 5s 91us/step - loss: 0.1979 - val_loss: 0.1719\n",
      "\n",
      "Epoch 9/50\n",
      "54000/54000 [==============================]54000/54000 [==============================] - 6s 116us/step - loss: 0.1860 - val_loss: 0.1646\n",
      "\n",
      "Epoch 10/50\n",
      "54000/54000 [==============================]54000/54000 [==============================] - 6s 104us/step - loss: 0.1758 - val_loss: 0.1591\n",
      "\n",
      "Epoch 11/50\n",
      "54000/54000 [==============================]54000/54000 [==============================] - 6s 114us/step - loss: 0.1667 - val_loss: 0.1543\n",
      "\n",
      "Epoch 12/50\n",
      "54000/54000 [==============================]54000/54000 [==============================] - 5s 84us/step - loss: 0.1589 - val_loss: 0.1492\n",
      "\n",
      "Epoch 13/50\n",
      "54000/54000 [==============================]54000/54000 [==============================] - 5s 97us/step - loss: 0.1516 - val_loss: 0.1451\n",
      "\n",
      "Epoch 14/50\n",
      "54000/54000 [==============================]54000/54000 [==============================] - 6s 105us/step - loss: 0.1450 - val_loss: 0.1420\n",
      "\n",
      "Epoch 15/50\n",
      "54000/54000 [==============================]54000/54000 [==============================] - 6s 114us/step - loss: 0.1389 - val_loss: 0.1386\n",
      "\n",
      "Epoch 16/50\n",
      "54000/54000 [==============================]54000/54000 [==============================] - 5s 91us/step - loss: 0.1333 - val_loss: 0.1363\n",
      "\n",
      "Epoch 17/50\n",
      "54000/54000 [==============================]54000/54000 [==============================] - 6s 119us/step - loss: 0.1283 - val_loss: 0.1332\n",
      "\n",
      "Epoch 18/50\n",
      "54000/54000 [==============================]54000/54000 [==============================] - 5s 88us/step - loss: 0.1234 - val_loss: 0.1327\n",
      "\n",
      "Epoch 19/50\n",
      "54000/54000 [==============================]54000/54000 [==============================] - 6s 102us/step - loss: 0.1191 - val_loss: 0.1293\n",
      "\n",
      "Epoch 20/50\n",
      "54000/54000 [==============================]54000/54000 [==============================] - 6s 112us/step - loss: 0.1148 - val_loss: 0.1282\n",
      "\n",
      "Epoch 21/50\n",
      "54000/54000 [==============================]54000/54000 [==============================] - 8s 142us/step - loss: 0.1109 - val_loss: 0.1271\n",
      "\n",
      "Epoch 22/50\n",
      "54000/54000 [==============================]54000/54000 [==============================] - 6s 115us/step - loss: 0.1071 - val_loss: 0.1265\n",
      "\n",
      "Epoch 23/50\n",
      "54000/54000 [==============================]54000/54000 [==============================] - 6s 120us/step - loss: 0.1037 - val_loss: 0.1243\n",
      "\n",
      "Epoch 24/50\n",
      "54000/54000 [==============================]54000/54000 [==============================] - 7s 120us/step - loss: 0.1003 - val_loss: 0.1229\n",
      "\n",
      "Epoch 25/50\n",
      "54000/54000 [==============================]54000/54000 [==============================] - 5s 99us/step - loss: 0.0971 - val_loss: 0.1217\n",
      "\n",
      "Epoch 26/50\n",
      "54000/54000 [==============================]54000/54000 [==============================] - 6s 118us/step - loss: 0.0941 - val_loss: 0.1212\n",
      "\n",
      "Epoch 27/50\n",
      "54000/54000 [==============================]54000/54000 [==============================] - 8s 145us/step - loss: 0.0912 - val_loss: 0.1200\n",
      "\n",
      "Epoch 28/50\n",
      "54000/54000 [==============================]54000/54000 [==============================] - 7s 124us/step - loss: 0.0884 - val_loss: 0.1202\n",
      "\n",
      "Epoch 29/50\n",
      "54000/54000 [==============================]54000/54000 [==============================] - 7s 131us/step - loss: 0.0858 - val_loss: 0.1189\n",
      "\n",
      "Epoch 30/50\n",
      "54000/54000 [==============================]54000/54000 [==============================] - 7s 122us/step - loss: 0.0834 - val_loss: 0.1184\n",
      "\n",
      "Epoch 31/50\n",
      "54000/54000 [==============================]54000/54000 [==============================] - 5s 99us/step - loss: 0.0810 - val_loss: 0.1184\n",
      "\n",
      "Epoch 32/50\n",
      "54000/54000 [==============================]54000/54000 [==============================] - 6s 117us/step - loss: 0.0787 - val_loss: 0.1189\n",
      "\n",
      "Epoch 33/50\n",
      "54000/54000 [==============================]54000/54000 [==============================] - 6s 106us/step - loss: 0.0765 - val_loss: 0.1183\n",
      "\n",
      "Epoch 34/50\n",
      "54000/54000 [==============================]54000/54000 [==============================] - 6s 119us/step - loss: 0.0743 - val_loss: 0.1197\n",
      "\n",
      "Epoch 35/50\n",
      "54000/54000 [==============================]54000/54000 [==============================] - 5s 99us/step - loss: 0.0723 - val_loss: 0.1179\n",
      "\n",
      "Epoch 36/50\n",
      "54000/54000 [==============================]54000/54000 [==============================] - 5s 101us/step - loss: 0.0703 - val_loss: 0.1174\n",
      "\n",
      "Epoch 37/50\n",
      "54000/54000 [==============================]54000/54000 [==============================] - 6s 107us/step - loss: 0.0684 - val_loss: 0.1185\n",
      "\n",
      "Epoch 38/50\n",
      "54000/54000 [==============================]54000/54000 [==============================] - 6s 105us/step - loss: 0.0665 - val_loss: 0.1187\n",
      "\n",
      "Epoch 39/50\n",
      "54000/54000 [==============================]54000/54000 [==============================] - 6s 107us/step - loss: 0.0647 - val_loss: 0.1172\n",
      "\n",
      "Epoch 40/50\n",
      "54000/54000 [==============================]54000/54000 [==============================] - 6s 105us/step - loss: 0.0629 - val_loss: 0.1172\n",
      "\n",
      "Epoch 41/50\n",
      "54000/54000 [==============================]54000/54000 [==============================] - 6s 104us/step - loss: 0.0613 - val_loss: 0.1175\n",
      "\n",
      "Epoch 42/50\n",
      "54000/54000 [==============================]54000/54000 [==============================] - 6s 110us/step - loss: 0.0597 - val_loss: 0.1171\n",
      "\n",
      "Epoch 43/50\n",
      "54000/54000 [==============================]54000/54000 [==============================] - 5s 98us/step - loss: 0.0581 - val_loss: 0.1168\n",
      "\n",
      "Epoch 44/50\n",
      "54000/54000 [==============================]54000/54000 [==============================] - 6s 104us/step - loss: 0.0566 - val_loss: 0.1166\n",
      "\n",
      "Epoch 45/50\n",
      "54000/54000 [==============================]54000/54000 [==============================] - 7s 129us/step - loss: 0.0552 - val_loss: 0.1166\n",
      "\n",
      "Epoch 46/50\n",
      "54000/54000 [==============================]54000/54000 [==============================] - 7s 124us/step - loss: 0.0537 - val_loss: 0.1162\n",
      "\n",
      "Epoch 47/50\n",
      "54000/54000 [==============================]54000/54000 [==============================] - 6s 114us/step - loss: 0.0523 - val_loss: 0.1170\n",
      "\n",
      "Epoch 48/50\n",
      "54000/54000 [==============================]54000/54000 [==============================] - 7s 134us/step - loss: 0.0510 - val_loss: 0.1172\n",
      "\n",
      "Epoch 49/50\n",
      "54000/54000 [==============================]54000/54000 [==============================] - 7s 128us/step - loss: 0.0498 - val_loss: 0.1171\n",
      "\n",
      "Epoch 50/50\n"
     ]
    },
    {
     "name": "stdout",
     "output_type": "stream",
     "text": [
      "54000/54000 [==============================]54000/54000 [==============================] - 6s 102us/step - loss: 0.0485 - val_loss: 0.1174\n",
      "\n"
     ]
    }
   ],
   "source": [
    "model = tf.keras.models.Sequential()\n",
    "\n",
    "model.add(\n",
    "    tf.keras.layers.Dense(\n",
    "        units = 50, \n",
    "        input_dim = X_train_centered.shape[1],# first layer, `input_dim` matches the # of features\n",
    "        kernel_initializer = 'glorot_uniform',\n",
    "        bias_initializer = 'zeros',\n",
    "        activation = 'tanh'))\n",
    "\n",
    "model.add(\n",
    "    tf.keras.layers.Dense(\n",
    "        units = 50,\n",
    "        input_dim = 50, # # of output units and input units of two consecutive layers match\n",
    "        kernel_initializer = 'glorot_uniform',\n",
    "        bias_initializer = 'zeros',\n",
    "        activation = 'tanh'))\n",
    "model.add(\n",
    "    tf.keras.layers.Dense(\n",
    "        units = y_train_onehot.shape[1],\n",
    "        input_dim = 50,\n",
    "        kernel_initializer = 'glorot_uniform',\n",
    "        bias_initializer = 'zeros',\n",
    "        activation = 'softmax'))\n",
    "\n",
    "sgd_optimizer = tf.keras.optimizers.SGD(\n",
    "    lr = 0.001, decay = 1e-7, momentum = .9)\n",
    "\n",
    "model.compile(optimizer = sgd_optimizer,\n",
    "                loss = 'categorical_crossentropy')\n",
    "\n",
    "history = model.fit(X_train_centered, y_train_onehot,\n",
    "                    batch_size = 64, epochs = 50,\n",
    "                    verbose = 1,\n",
    "                    validation_split = 0.1) # reserve 10% training data for validation, monitor whether overfitting"
   ]
  },
  {
   "cell_type": "code",
   "execution_count": 34,
   "metadata": {},
   "outputs": [
    {
     "name": "stdout",
     "output_type": "stream",
     "text": [
      "First 3 predictions:  [5 0 4]\n"
     ]
    }
   ],
   "source": [
    "y_train_pred = model.predict_classes(X_train_centered, verbose = 0)\n",
    "print('First 3 predictions: ', y_train_pred[:3])"
   ]
  },
  {
   "cell_type": "code",
   "execution_count": 35,
   "metadata": {},
   "outputs": [
    {
     "name": "stdout",
     "output_type": "stream",
     "text": [
      "First 3 predictions:  [5 0 4]\n",
      "Training accuracy: 98.88%\n"
     ]
    }
   ],
   "source": [
    "y_train_pred = model.predict_classes(X_train_centered,\n",
    "                                     verbose = 0)\n",
    "correct_preds = np.sum(y_train == y_train_pred, axis = 0)\n",
    "\n",
    "train_acc = correct_preds / y_train.shape[0]\n",
    "\n",
    "print('First 3 predictions: ', y_train_pred[:3])\n",
    "print('Training accuracy: %.2f%%' % (train_acc * 100))"
   ]
  },
  {
   "cell_type": "code",
   "execution_count": 36,
   "metadata": {},
   "outputs": [
    {
     "name": "stdout",
     "output_type": "stream",
     "text": [
      "Test accuracy: 96.04%\n"
     ]
    }
   ],
   "source": [
    "y_test_pred = model.predict_classes(X_test_centered,\n",
    "                                    verbose = 0)\n",
    "correct_preds = np.sum(y_test == y_test_pred, axis = 0)\n",
    "test_acc = correct_preds / y_test.shape[0]\n",
    "print('Test accuracy: %.2f%%' % (test_acc * 100))"
   ]
  },
  {
   "cell_type": "markdown",
   "metadata": {},
   "source": [
    "## Choosing activation functions for multilayer networks\n",
    "\n",
    "### Logistic function recap\n",
    "\n",
    "- introduce nonlinearity in a typical artificial neural network to be able to tackle complex problems\n",
    "\n",
    "- but logistic activation functions can be problematic if we have highly negative input since the output of the sigmoid function would be close to zero in this case\n",
    "    - neural network would learn very slowly\n",
    "    - trapped in the local minimal\n",
    "    - prefer a hyperbolic tangent as an activation function in hidden layers"
   ]
  },
  {
   "cell_type": "code",
   "execution_count": 39,
   "metadata": {},
   "outputs": [
    {
     "name": "stdout",
     "output_type": "stream",
     "text": [
      "P(y=1|x) = 0.888, meaning 88.8% probability that this particular sample x belongs to the positive class\n"
     ]
    }
   ],
   "source": [
    "import numpy as np\n",
    "\n",
    "X = np.array([1, 1.4, 2.5]) ## first value must be 1\n",
    "w = np.array([0.4, 0.3, 0.5])\n",
    "\n",
    "def net_input(X, w):\n",
    "    return np.dot(X,w)\n",
    "\n",
    "def logistic(z):\n",
    "    return 1.0/(1.0 + np.exp(-z))\n",
    "\n",
    "def logistic_activation(X, w):\n",
    "    z = net_input(X, w)\n",
    "    return logistic(z)\n",
    "\n",
    "print('P(y=1|x) = %.3f, meaning 88.8%% probability that this particular sample x belongs to the positive class' % logistic_activation(X,w))"
   ]
  },
  {
   "cell_type": "markdown",
   "metadata": {},
   "source": [
    "However, an output layer consisting of multiple logistic activation units does not produce meaningful, interpretable probability values:"
   ]
  },
  {
   "cell_type": "code",
   "execution_count": 40,
   "metadata": {},
   "outputs": [
    {
     "name": "stdout",
     "output_type": "stream",
     "text": [
      "Net Input: \n",
      " [1.78 0.76 1.65]\n",
      "Output Units:\n",
      " [0.85569687 0.68135373 0.83889105]\n"
     ]
    }
   ],
   "source": [
    "# W : array with shape = (n_output_units, n_hidden_units+1)\n",
    "#     note that the first column are the bias units\n",
    "\n",
    "W = np.array([[1.1, 1.2, 0.8, 0.4],\n",
    "              [0.2, 0.4, 1.0, 0.2],\n",
    "              [0.6, 1.5, 1.2, 0.7]])\n",
    "\n",
    "# A : data array with shape = (n_hidden_units + 1, n_samples)\n",
    "#     note that the first column of this array must be 1\n",
    "\n",
    "A = np.array([[1, 0.1, 0.4, 0.6]])\n",
    "\n",
    "Z = np.dot(W, A[0])\n",
    "y_probas = logistic(Z)\n",
    "\n",
    "print('Net Input: \\n', Z)\n",
    "\n",
    "print('Output Units:\\n', y_probas)"
   ]
  },
  {
   "cell_type": "markdown",
   "metadata": {},
   "source": [
    "Though it is not a big concern if we only use our model to predict the class lbels, not the class membership probabilities,\n",
    "the easiest way is to use the maximum value:"
   ]
  },
  {
   "cell_type": "code",
   "execution_count": 41,
   "metadata": {},
   "outputs": [
    {
     "name": "stdout",
     "output_type": "stream",
     "text": [
      "Predicted class label: 0\n"
     ]
    }
   ],
   "source": [
    "y_class = np.argmax(Z, axis = 0)\n",
    "print('Predicted class label: %d' % y_class)"
   ]
  },
  {
   "cell_type": "markdown",
   "metadata": {},
   "source": [
    "### Estimating class probabilities in multi-class classification via the softmax function\n",
    "\n",
    "- instead of giving a single class index, it provides the probability of each class\n",
    "\n",
    "- the sum of all M linear fucntion = normalization term in the denominator\n",
    "\n",
    "- the predicted class probabilities sum up to 1\n",
    "\n",
    "    - In a word, `softmax` is a normalized `logistic`"
   ]
  },
  {
   "cell_type": "code",
   "execution_count": 44,
   "metadata": {},
   "outputs": [
    {
     "name": "stdout",
     "output_type": "stream",
     "text": [
      "Probabilities: \n",
      " [0.44668973 0.16107406 0.39223621]\n"
     ]
    }
   ],
   "source": [
    "def softmax(z):\n",
    "    return np.exp(z)/np.sum(np.exp(z))\n",
    "\n",
    "y_probas = softmax(Z)\n",
    "print('Probabilities: \\n', y_probas)"
   ]
  },
  {
   "cell_type": "markdown",
   "metadata": {},
   "source": [
    "### Broadening the output spectrum by using a hyperbolic tangent\n",
    "\n",
    "- hyperbolic tangent (tanh)\n",
    "- rescaled version of the logistic function\n",
    "- adv: \n",
    "    - broader output spectrum, \n",
    "    - ranges in the open interval(-1,1)\n",
    "        - improve the convergence of the back propagation algorithm"
   ]
  },
  {
   "cell_type": "code",
   "execution_count": 45,
   "metadata": {},
   "outputs": [
    {
     "data": {
      "image/png": "[encoded data removed]",
      "text/plain": [
       "<Figure size 432x288 with 1 Axes>"
      ]
     },
     "metadata": {},
     "output_type": "display_data"
    }
   ],
   "source": [
    "import matplotlib.pyplot as plt\n",
    "\n",
    "def tanh(z):\n",
    "    e_p = np.exp(z)\n",
    "    e_m = np.exp(-z)\n",
    "    return (e_p - e_m) / (e_p + e_m)\n",
    "\n",
    "z = np.arange(-5, 5, 0.005)\n",
    "log_act = logistic(z)\n",
    "tanh_act = tanh(z)\n",
    "\n",
    "plt.ylim([-1.5, 1.5])\n",
    "plt.xlabel('net input $z$')\n",
    "plt.ylabel('activation $\\phi(z)$')\n",
    "plt.axhline(1, color='black', linestyle=':')\n",
    "plt.axhline(0.5, color='black', linestyle=':')\n",
    "plt.axhline(0, color='black', linestyle=':')\n",
    "plt.axhline(-0.5, color='black', linestyle=':')\n",
    "plt.axhline(-1, color='black', linestyle=':')\n",
    "\n",
    "plt.plot(z, tanh_act,\n",
    "         linewidth=3, linestyle='--',\n",
    "         label='tanh')\n",
    "\n",
    "plt.plot(z, log_act,\n",
    "         linewidth=3,\n",
    "         label='logistic')\n",
    "plt.legend(loc='lower right')\n",
    "plt.tight_layout()\n",
    "#plt.savefig('images/13_03.png')\n",
    "plt.show()"
   ]
  },
  {
   "cell_type": "code",
   "execution_count": null,
   "metadata": {},
   "outputs": [],
   "source": []
  },
  {
   "cell_type": "code",
   "execution_count": null,
   "metadata": {},
   "outputs": [],
   "source": []
  },
  {
   "cell_type": "code",
   "execution_count": null,
   "metadata": {},
   "outputs": [],
   "source": []
  },
  {
   "cell_type": "code",
   "execution_count": null,
   "metadata": {},
   "outputs": [],
   "source": []
  },
  {
   "cell_type": "code",
   "execution_count": null,
   "metadata": {},
   "outputs": [],
   "source": []
  },
  {
   "cell_type": "code",
   "execution_count": null,
   "metadata": {},
   "outputs": [],
   "source": []
  },
  {
   "cell_type": "code",
   "execution_count": null,
   "metadata": {},
   "outputs": [],
   "source": []
  },
  {
   "cell_type": "code",
   "execution_count": null,
   "metadata": {},
   "outputs": [],
   "source": []
  },
  {
   "cell_type": "code",
   "execution_count": null,
   "metadata": {},
   "outputs": [],
   "source": []
  },
  {
   "cell_type": "code",
   "execution_count": null,
   "metadata": {},
   "outputs": [],
   "source": []
  },
  {
   "cell_type": "code",
   "execution_count": null,
   "metadata": {},
   "outputs": [],
   "source": []
  },
  {
   "cell_type": "code",
   "execution_count": null,
   "metadata": {},
   "outputs": [],
   "source": []
  },
  {
   "cell_type": "code",
   "execution_count": null,
   "metadata": {},
   "outputs": [],
   "source": []
  },
  {
   "cell_type": "code",
   "execution_count": null,
   "metadata": {},
   "outputs": [],
   "source": []
  },
  {
   "cell_type": "code",
   "execution_count": null,
   "metadata": {},
   "outputs": [],
   "source": []
  },
  {
   "cell_type": "code",
   "execution_count": null,
   "metadata": {},
   "outputs": [],
   "source": []
  },
  {
   "cell_type": "code",
   "execution_count": null,
   "metadata": {},
   "outputs": [],
   "source": []
  },
  {
   "cell_type": "code",
   "execution_count": null,
   "metadata": {},
   "outputs": [],
   "source": []
  },
  {
   "cell_type": "code",
   "execution_count": null,
   "metadata": {},
   "outputs": [],
   "source": []
  },
  {
   "cell_type": "code",
   "execution_count": null,
   "metadata": {},
   "outputs": [],
   "source": []
  },
  {
   "cell_type": "code",
   "execution_count": null,
   "metadata": {},
   "outputs": [],
   "source": []
  },
  {
   "cell_type": "code",
   "execution_count": null,
   "metadata": {},
   "outputs": [],
   "source": []
  }
 ],
 "metadata": {
  "kernelspec": {
   "display_name": "Python [conda root]",
   "language": "python",
   "name": "conda-root-py"
  },
  "language_info": {
   "codemirror_mode": {
    "name": "ipython",
    "version": 3
   },
   "file_extension": ".py",
   "mimetype": "text/x-python",
   "name": "python",
   "nbconvert_exporter": "python",
   "pygments_lexer": "ipython3",
   "version": "3.6.5"
  }
 },
 "nbformat": 4,
 "nbformat_minor": 2
}
